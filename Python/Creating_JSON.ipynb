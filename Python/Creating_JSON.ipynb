{
 "cells": [
  {
   "cell_type": "code",
   "execution_count": 4,
   "metadata": {},
   "outputs": [],
   "source": [
    "import json\n",
    "import numpy as np\n",
    "import pandas as pd\n",
    "import re\n",
    "import tqdm\n",
    "import ast"
   ]
  },
  {
   "cell_type": "code",
   "execution_count": 22,
   "metadata": {},
   "outputs": [],
   "source": [
    "df = pd.read_csv(\"Books_Final.csv\")"
   ]
  },
  {
   "cell_type": "code",
   "execution_count": 17,
   "metadata": {},
   "outputs": [
    {
     "data": {
      "text/plain": [
       "Index(['Book Name', 'Author', 'ISBN 13', 'ISBN', 'Number of Pages',\n",
       "       'Average Rating', 'Total Number of Ratings', 'Publication Date',\n",
       "       'Date Started', 'Date Completed', 'Name', 'Series', 'Volume',\n",
       "       'Goodreads Url', 'Description', 'Genre', 'Image Url', 'Low Links',\n",
       "       'High Links', 'Publishers'],\n",
       "      dtype='object')"
      ]
     },
     "execution_count": 17,
     "metadata": {},
     "output_type": "execute_result"
    }
   ],
   "source": [
    "df.columns"
   ]
  },
  {
   "cell_type": "markdown",
   "metadata": {},
   "source": [
    "## Dropping Values"
   ]
  },
  {
   "cell_type": "markdown",
   "metadata": {},
   "source": [
    "### Extra Columns"
   ]
  },
  {
   "cell_type": "code",
   "execution_count": 23,
   "metadata": {},
   "outputs": [],
   "source": [
    "df.drop(['Date Started', 'Date Completed', 'Book Name', 'Total Number of Ratings'], axis=1, inplace=True)"
   ]
  },
  {
   "cell_type": "markdown",
   "metadata": {},
   "source": [
    "### The Image Url Columns"
   ]
  },
  {
   "cell_type": "code",
   "execution_count": 45,
   "metadata": {},
   "outputs": [],
   "source": [
    "def fill_na(value):\n",
    "    if value == \"[]\":\n",
    "        return np.nan\n",
    "    else:\n",
    "        return value"
   ]
  },
  {
   "cell_type": "code",
   "execution_count": 47,
   "metadata": {},
   "outputs": [],
   "source": [
    "df[\"High Links\"] = df[\"High Links\"].apply(fill_na)"
   ]
  },
  {
   "cell_type": "code",
   "execution_count": 50,
   "metadata": {},
   "outputs": [],
   "source": [
    "def fill_na(value):\n",
    "    if value == \"{'1x': [], '1.5x': [], '2x': [], '2.5x': [], '3x': [], '3.5x': [], '4x': []}\":\n",
    "        return np.nan\n",
    "    else:\n",
    "        return value"
   ]
  },
  {
   "cell_type": "code",
   "execution_count": 52,
   "metadata": {},
   "outputs": [],
   "source": [
    "df[\"Low Links\"] = df[\"Low Links\"].apply(fill_na)"
   ]
  },
  {
   "cell_type": "markdown",
   "metadata": {},
   "source": [
    "### The ISBN Column"
   ]
  },
  {
   "cell_type": "code",
   "execution_count": 24,
   "metadata": {},
   "outputs": [
    {
     "data": {
      "text/plain": [
       "140"
      ]
     },
     "execution_count": 24,
     "metadata": {},
     "output_type": "execute_result"
    }
   ],
   "source": [
    "df[\"ISBN\"].isna().sum()"
   ]
  },
  {
   "cell_type": "code",
   "execution_count": 25,
   "metadata": {},
   "outputs": [
    {
     "data": {
      "text/plain": [
       "127"
      ]
     },
     "execution_count": 25,
     "metadata": {},
     "output_type": "execute_result"
    }
   ],
   "source": [
    "df[\"ISBN 13\"].isna().sum()"
   ]
  },
  {
   "cell_type": "code",
   "execution_count": 28,
   "metadata": {},
   "outputs": [
    {
     "data": {
      "text/plain": [
       "(126, 16)"
      ]
     },
     "execution_count": 28,
     "metadata": {},
     "output_type": "execute_result"
    }
   ],
   "source": [
    "df[(df[\"ISBN\"].isna()) & (df[\"ISBN 13\"].isna())].shape"
   ]
  },
  {
   "cell_type": "code",
   "execution_count": 55,
   "metadata": {},
   "outputs": [
    {
     "data": {
      "text/plain": [
       "(407, 16)"
      ]
     },
     "execution_count": 55,
     "metadata": {},
     "output_type": "execute_result"
    }
   ],
   "source": [
    "df.dropna(thresh=13).shape"
   ]
  },
  {
   "cell_type": "code",
   "execution_count": 58,
   "metadata": {},
   "outputs": [
    {
     "data": {
      "text/plain": [
       "(110, 16)"
      ]
     },
     "execution_count": 58,
     "metadata": {},
     "output_type": "execute_result"
    }
   ],
   "source": [
    "df[df[\"High Links\"].isna()].shape"
   ]
  },
  {
   "cell_type": "code",
   "execution_count": 59,
   "metadata": {},
   "outputs": [
    {
     "data": {
      "text/plain": [
       "(11, 16)"
      ]
     },
     "execution_count": 59,
     "metadata": {},
     "output_type": "execute_result"
    }
   ],
   "source": [
    "df[df[\"Image Url\"].isna()].shape"
   ]
  },
  {
   "cell_type": "code",
   "execution_count": 60,
   "metadata": {},
   "outputs": [
    {
     "data": {
      "text/plain": [
       "(86, 16)"
      ]
     },
     "execution_count": 60,
     "metadata": {},
     "output_type": "execute_result"
    }
   ],
   "source": [
    "df[df[\"Low Links\"].isna()].shape"
   ]
  },
  {
   "cell_type": "code",
   "execution_count": 61,
   "metadata": {},
   "outputs": [
    {
     "data": {
      "text/plain": [
       "(86, 16)"
      ]
     },
     "execution_count": 61,
     "metadata": {},
     "output_type": "execute_result"
    }
   ],
   "source": [
    "df[(df[\"Low Links\"].isna()) & (df[\"High Links\"].isna())].shape"
   ]
  },
  {
   "cell_type": "markdown",
   "metadata": {},
   "source": [
    "## Creating New Columns"
   ]
  },
  {
   "cell_type": "markdown",
   "metadata": {},
   "source": [
    "### The Low_Res_Image_Url Column and the High_Res_Image_Url Column"
   ]
  },
  {
   "cell_type": "code",
   "execution_count": 63,
   "metadata": {},
   "outputs": [
    {
     "data": {
      "text/plain": [
       "Index(['Author', 'ISBN 13', 'ISBN', 'Number of Pages', 'Average Rating',\n",
       "       'Publication Date', 'Name', 'Series', 'Volume', 'Goodreads Url',\n",
       "       'Description', 'Genre', 'Image Url', 'Low Links', 'High Links',\n",
       "       'Publishers'],\n",
       "      dtype='object')"
      ]
     },
     "execution_count": 63,
     "metadata": {},
     "output_type": "execute_result"
    }
   ],
   "source": [
    "df.columns"
   ]
  },
  {
   "cell_type": "code",
   "execution_count": 68,
   "metadata": {},
   "outputs": [
    {
     "data": {
      "text/plain": [
       "'https://i.gr-assets.com/images/S/compressed.photo.goodreads.com/books/1407572377l/12591698.jpg'"
      ]
     },
     "execution_count": 68,
     "metadata": {},
     "output_type": "execute_result"
    }
   ],
   "source": [
    "df[\"Image Url\"][10]"
   ]
  },
  {
   "cell_type": "code",
   "execution_count": 74,
   "metadata": {},
   "outputs": [],
   "source": [
    "def create_low_res_urls(row):\n",
    "    low_keys = ['2x', '1.5x']\n",
    "    low_urls = []\n",
    "    goodreads_url = row[\"Image Url\"]\n",
    "    if goodreads_url is not np.nan:\n",
    "        low_urls.append(goodreads_url)\n",
    "    try:\n",
    "        amazon_urls = ast.literal_eval(row[\"Low Links\"])\n",
    "        for key, values in amazon_urls.items():\n",
    "            if key in low_keys:\n",
    "                low_urls.extend(values)\n",
    "                break\n",
    "    except:\n",
    "        pass\n",
    "    return low_urls"
   ]
  },
  {
   "cell_type": "code",
   "execution_count": 75,
   "metadata": {},
   "outputs": [
    {
     "data": {
      "text/plain": [
       "['https://i.gr-assets.com/images/S/compressed.photo.goodreads.com/books/1407572377l/12591698.jpg',\n",
       " 'https://m.media-amazon.com/images/I/81t2pcbfgrL._AC_UY327_FMwebp_QL65_.jpg',\n",
       " 'https://m.media-amazon.com/images/I/71XBl40bfiL._AC_UY218_.jpg',\n",
       " 'https://m.media-amazon.com/images/I/71XBl40bfiL._AC_UY654_FMwebp_QL65_.jpg']"
      ]
     },
     "execution_count": 75,
     "metadata": {},
     "output_type": "execute_result"
    }
   ],
   "source": [
    "create_low_res_urls(df.iloc[10])"
   ]
  },
  {
   "cell_type": "code",
   "execution_count": 78,
   "metadata": {},
   "outputs": [],
   "source": [
    "def create_high_res_urls(row):\n",
    "    high_keys = ['3x', \"2.5x\"]\n",
    "    high_urls = []\n",
    "    try:\n",
    "        high_urls_amazon = ast.literal_eval(row[\"High Links\"])\n",
    "        for url in high_urls_amazon:\n",
    "            high_urls.append(url)\n",
    "    except:\n",
    "        pass\n",
    "    try:\n",
    "        amazon_urls = ast.literal_eval(row[\"Low Links\"])\n",
    "        for key, values in amazon_urls.items():\n",
    "            if key in high_keys:\n",
    "                high_urls.extend(values)\n",
    "                break\n",
    "    except:\n",
    "        pass\n",
    "    return high_urls"
   ]
  },
  {
   "cell_type": "code",
   "execution_count": 82,
   "metadata": {},
   "outputs": [
    {
     "data": {
      "text/plain": [
       "['https://m.media-amazon.com/images/I/81bxeFvkGoL._AC_UY545_FMwebp_QL65_.jpg',\n",
       " 'https://m.media-amazon.com/images/I/61u-3eSwrtL._AC_UY436_FMwebp_QL65_.jpg']"
      ]
     },
     "execution_count": 82,
     "metadata": {},
     "output_type": "execute_result"
    }
   ],
   "source": [
    "create_high_res_urls(df.iloc[2])"
   ]
  },
  {
   "cell_type": "code",
   "execution_count": 84,
   "metadata": {},
   "outputs": [
    {
     "data": {
      "text/plain": [
       "['https://m.media-amazon.com/images/I/81bxeFvkGoL._AC_UY327_FMwebp_QL65_.jpg',\n",
       " 'https://m.media-amazon.com/images/I/61u-3eSwrtL._AC_UY218_.jpg']"
      ]
     },
     "execution_count": 84,
     "metadata": {},
     "output_type": "execute_result"
    }
   ],
   "source": [
    "create_low_res_urls(df.iloc[2])"
   ]
  },
  {
   "cell_type": "code",
   "execution_count": 86,
   "metadata": {},
   "outputs": [],
   "source": [
    "df[\"Low_Res_Image_Url\"] = df.apply(create_low_res_urls, axis=1)\n",
    "df[\"High_Res_Image_Url\"] = df.apply(create_high_res_urls, axis=1)"
   ]
  },
  {
   "cell_type": "code",
   "execution_count": 87,
   "metadata": {},
   "outputs": [
    {
     "data": {
      "text/html": [
       "<div>\n",
       "<style scoped>\n",
       "    .dataframe tbody tr th:only-of-type {\n",
       "        vertical-align: middle;\n",
       "    }\n",
       "\n",
       "    .dataframe tbody tr th {\n",
       "        vertical-align: top;\n",
       "    }\n",
       "\n",
       "    .dataframe thead th {\n",
       "        text-align: right;\n",
       "    }\n",
       "</style>\n",
       "<table border=\"1\" class=\"dataframe\">\n",
       "  <thead>\n",
       "    <tr style=\"text-align: right;\">\n",
       "      <th></th>\n",
       "      <th>Author</th>\n",
       "      <th>ISBN 13</th>\n",
       "      <th>ISBN</th>\n",
       "      <th>Number of Pages</th>\n",
       "      <th>Average Rating</th>\n",
       "      <th>Publication Date</th>\n",
       "      <th>Name</th>\n",
       "      <th>Series</th>\n",
       "      <th>Volume</th>\n",
       "      <th>Goodreads Url</th>\n",
       "      <th>Description</th>\n",
       "      <th>Genre</th>\n",
       "      <th>Image Url</th>\n",
       "      <th>Low Links</th>\n",
       "      <th>High Links</th>\n",
       "      <th>Publishers</th>\n",
       "      <th>Low_Res_Image_Url</th>\n",
       "      <th>High_Res_Image_Url</th>\n",
       "    </tr>\n",
       "  </thead>\n",
       "  <tbody>\n",
       "    <tr>\n",
       "      <th>0</th>\n",
       "      <td>Patrick Rothfuss</td>\n",
       "      <td>NaN</td>\n",
       "      <td>NaN</td>\n",
       "      <td>93</td>\n",
       "      <td>4.00</td>\n",
       "      <td>2014-01-01</td>\n",
       "      <td>The Lightning Tree</td>\n",
       "      <td>Standalone</td>\n",
       "      <td>1</td>\n",
       "      <td>https://www.goodreads.com/book/show/55262194</td>\n",
       "      <td>The Lightning Tree is a companion short story ...</td>\n",
       "      <td>['Fantasy', 'Fiction', 'Short Stories', 'Fanta...</td>\n",
       "      <td>https://i.gr-assets.com/images/S/compressed.ph...</td>\n",
       "      <td>NaN</td>\n",
       "      <td>NaN</td>\n",
       "      <td>NaN</td>\n",
       "      <td>[https://i.gr-assets.com/images/S/compressed.p...</td>\n",
       "      <td>[]</td>\n",
       "    </tr>\n",
       "    <tr>\n",
       "      <th>1</th>\n",
       "      <td>Randall Munroe</td>\n",
       "      <td>9.780544e+12</td>\n",
       "      <td>0544272994</td>\n",
       "      <td>303</td>\n",
       "      <td>4.14</td>\n",
       "      <td>2014-09-02</td>\n",
       "      <td>What If? Serious Scientific Answers to Absurd ...</td>\n",
       "      <td>What If?</td>\n",
       "      <td>1</td>\n",
       "      <td>https://www.goodreads.com/book/show/21413662</td>\n",
       "      <td>Randall Munroe left NASA in 2005 to start up h...</td>\n",
       "      <td>['Nonfiction', 'Science', 'Humor', 'Audiobook'...</td>\n",
       "      <td>https://i.gr-assets.com/images/S/compressed.ph...</td>\n",
       "      <td>NaN</td>\n",
       "      <td>NaN</td>\n",
       "      <td>Mariner Books</td>\n",
       "      <td>[https://i.gr-assets.com/images/S/compressed.p...</td>\n",
       "      <td>[]</td>\n",
       "    </tr>\n",
       "    <tr>\n",
       "      <th>2</th>\n",
       "      <td>James S.A. Corey</td>\n",
       "      <td>9.780357e+12</td>\n",
       "      <td>0356510395</td>\n",
       "      <td>528</td>\n",
       "      <td>4.54</td>\n",
       "      <td>2021-11-30</td>\n",
       "      <td>Leviathan Falls</td>\n",
       "      <td>The Expanse</td>\n",
       "      <td>9</td>\n",
       "      <td>https://www.goodreads.com/book/show/58783427</td>\n",
       "      <td>The Laconian Empire has fallen, setting the th...</td>\n",
       "      <td>['Science Fiction', 'Fiction', 'Space', 'Space...</td>\n",
       "      <td>NaN</td>\n",
       "      <td>{'1x': ['https://m.media-amazon.com/images/I/8...</td>\n",
       "      <td>NaN</td>\n",
       "      <td>NaN</td>\n",
       "      <td>[https://m.media-amazon.com/images/I/81bxeFvkG...</td>\n",
       "      <td>[https://m.media-amazon.com/images/I/81bxeFvkG...</td>\n",
       "    </tr>\n",
       "    <tr>\n",
       "      <th>3</th>\n",
       "      <td>James S.A. Corey</td>\n",
       "      <td>9.780316e+12</td>\n",
       "      <td>0316332879</td>\n",
       "      <td>534</td>\n",
       "      <td>4.57</td>\n",
       "      <td>2019-03-26</td>\n",
       "      <td>Tiamat's Wrath</td>\n",
       "      <td>The Expanse</td>\n",
       "      <td>8</td>\n",
       "      <td>https://www.goodreads.com/book/show/28335698</td>\n",
       "      <td>Thirteen hundred gates have opened to solar sy...</td>\n",
       "      <td>['Science Fiction', 'Fiction', 'Space', 'Space...</td>\n",
       "      <td>https://i.gr-assets.com/images/S/compressed.ph...</td>\n",
       "      <td>{'1x': ['https://m.media-amazon.com/images/I/8...</td>\n",
       "      <td>['https://images-na.ssl-images-amazon.com/imag...</td>\n",
       "      <td>Orbit Books</td>\n",
       "      <td>[https://i.gr-assets.com/images/S/compressed.p...</td>\n",
       "      <td>[https://images-na.ssl-images-amazon.com/image...</td>\n",
       "    </tr>\n",
       "    <tr>\n",
       "      <th>4</th>\n",
       "      <td>James S.A. Corey</td>\n",
       "      <td>9.780316e+12</td>\n",
       "      <td>0316332828</td>\n",
       "      <td>608</td>\n",
       "      <td>4.37</td>\n",
       "      <td>2017-12-05</td>\n",
       "      <td>Persepolis Rising</td>\n",
       "      <td>The Expanse</td>\n",
       "      <td>7</td>\n",
       "      <td>https://www.goodreads.com/book/show/28335696</td>\n",
       "      <td>In the thousand-sun network of humanity's expa...</td>\n",
       "      <td>['Science Fiction', 'Fiction', 'Space', 'Space...</td>\n",
       "      <td>https://i.gr-assets.com/images/S/compressed.ph...</td>\n",
       "      <td>{'1x': ['https://m.media-amazon.com/images/I/9...</td>\n",
       "      <td>['https://images-na.ssl-images-amazon.com/imag...</td>\n",
       "      <td>Orbit Books</td>\n",
       "      <td>[https://i.gr-assets.com/images/S/compressed.p...</td>\n",
       "      <td>[https://images-na.ssl-images-amazon.com/image...</td>\n",
       "    </tr>\n",
       "  </tbody>\n",
       "</table>\n",
       "</div>"
      ],
      "text/plain": [
       "             Author       ISBN 13        ISBN Number of Pages  Average Rating  \\\n",
       "0  Patrick Rothfuss           NaN         NaN              93            4.00   \n",
       "1    Randall Munroe  9.780544e+12  0544272994             303            4.14   \n",
       "2  James S.A. Corey  9.780357e+12  0356510395             528            4.54   \n",
       "3  James S.A. Corey  9.780316e+12  0316332879             534            4.57   \n",
       "4  James S.A. Corey  9.780316e+12  0316332828             608            4.37   \n",
       "\n",
       "  Publication Date                                               Name  \\\n",
       "0       2014-01-01                                 The Lightning Tree   \n",
       "1       2014-09-02  What If? Serious Scientific Answers to Absurd ...   \n",
       "2       2021-11-30                                    Leviathan Falls   \n",
       "3       2019-03-26                                     Tiamat's Wrath   \n",
       "4       2017-12-05                                  Persepolis Rising   \n",
       "\n",
       "        Series  Volume                                 Goodreads Url  \\\n",
       "0   Standalone       1  https://www.goodreads.com/book/show/55262194   \n",
       "1     What If?       1  https://www.goodreads.com/book/show/21413662   \n",
       "2  The Expanse       9  https://www.goodreads.com/book/show/58783427   \n",
       "3  The Expanse       8  https://www.goodreads.com/book/show/28335698   \n",
       "4  The Expanse       7  https://www.goodreads.com/book/show/28335696   \n",
       "\n",
       "                                         Description  \\\n",
       "0  The Lightning Tree is a companion short story ...   \n",
       "1  Randall Munroe left NASA in 2005 to start up h...   \n",
       "2  The Laconian Empire has fallen, setting the th...   \n",
       "3  Thirteen hundred gates have opened to solar sy...   \n",
       "4  In the thousand-sun network of humanity's expa...   \n",
       "\n",
       "                                               Genre  \\\n",
       "0  ['Fantasy', 'Fiction', 'Short Stories', 'Fanta...   \n",
       "1  ['Nonfiction', 'Science', 'Humor', 'Audiobook'...   \n",
       "2  ['Science Fiction', 'Fiction', 'Space', 'Space...   \n",
       "3  ['Science Fiction', 'Fiction', 'Space', 'Space...   \n",
       "4  ['Science Fiction', 'Fiction', 'Space', 'Space...   \n",
       "\n",
       "                                           Image Url  \\\n",
       "0  https://i.gr-assets.com/images/S/compressed.ph...   \n",
       "1  https://i.gr-assets.com/images/S/compressed.ph...   \n",
       "2                                                NaN   \n",
       "3  https://i.gr-assets.com/images/S/compressed.ph...   \n",
       "4  https://i.gr-assets.com/images/S/compressed.ph...   \n",
       "\n",
       "                                           Low Links  \\\n",
       "0                                                NaN   \n",
       "1                                                NaN   \n",
       "2  {'1x': ['https://m.media-amazon.com/images/I/8...   \n",
       "3  {'1x': ['https://m.media-amazon.com/images/I/8...   \n",
       "4  {'1x': ['https://m.media-amazon.com/images/I/9...   \n",
       "\n",
       "                                          High Links     Publishers  \\\n",
       "0                                                NaN            NaN   \n",
       "1                                                NaN  Mariner Books   \n",
       "2                                                NaN            NaN   \n",
       "3  ['https://images-na.ssl-images-amazon.com/imag...    Orbit Books   \n",
       "4  ['https://images-na.ssl-images-amazon.com/imag...    Orbit Books   \n",
       "\n",
       "                                   Low_Res_Image_Url  \\\n",
       "0  [https://i.gr-assets.com/images/S/compressed.p...   \n",
       "1  [https://i.gr-assets.com/images/S/compressed.p...   \n",
       "2  [https://m.media-amazon.com/images/I/81bxeFvkG...   \n",
       "3  [https://i.gr-assets.com/images/S/compressed.p...   \n",
       "4  [https://i.gr-assets.com/images/S/compressed.p...   \n",
       "\n",
       "                                  High_Res_Image_Url  \n",
       "0                                                 []  \n",
       "1                                                 []  \n",
       "2  [https://m.media-amazon.com/images/I/81bxeFvkG...  \n",
       "3  [https://images-na.ssl-images-amazon.com/image...  \n",
       "4  [https://images-na.ssl-images-amazon.com/image...  "
      ]
     },
     "execution_count": 87,
     "metadata": {},
     "output_type": "execute_result"
    }
   ],
   "source": [
    "df.head()"
   ]
  },
  {
   "cell_type": "code",
   "execution_count": 115,
   "metadata": {},
   "outputs": [
    {
     "data": {
      "text/plain": [
       "0"
      ]
     },
     "execution_count": 115,
     "metadata": {},
     "output_type": "execute_result"
    }
   ],
   "source": [
    "df[\"Author\"].isna().sum()"
   ]
  },
  {
   "cell_type": "code",
   "execution_count": 116,
   "metadata": {},
   "outputs": [],
   "source": [
    "df[\"Low_Res_Image_Url\"].fillna(value=\"[]\", inplace=True)\n",
    "df[\"High_Res_Image_Url\"].fillna(value=\"[]\", inplace=True)\n",
    "df[\"Genre\"].fillna(value=\"[]\", inplace=True)\n",
    "df[\"Publishers\"].fillna(value=\"\", inplace=True)\n",
    "df[\"Description\"].fillna(value=\"\", inplace=True)\n",
    "df[\"Publication Date\"].fillna(value=\"\", inplace=True)\n",
    "df[\"Average Rating\"].fillna(value=\"\", inplace=True)\n",
    "df[\"Number of Pages\"].fillna(value=\"\", inplace=True)\n",
    "df[\"ISBN 13\"].fillna(value=\"\", inplace=True)"
   ]
  },
  {
   "cell_type": "code",
   "execution_count": 127,
   "metadata": {},
   "outputs": [],
   "source": [
    "df[\"ISBN 13\"]= df[\"ISBN 13\"].apply(lambda x: int(x) if x != \"\" else '')"
   ]
  },
  {
   "cell_type": "code",
   "execution_count": 145,
   "metadata": {},
   "outputs": [],
   "source": [
    "def get_date_format(value):\n",
    "    try:\n",
    "        date = pd.to_datetime(value)\n",
    "        return date.strftime(\"%B %d, %Y\")\n",
    "    except:\n",
    "        return value"
   ]
  },
  {
   "cell_type": "code",
   "execution_count": 146,
   "metadata": {},
   "outputs": [
    {
     "data": {
      "text/plain": [
       "'June 07, 2012'"
      ]
     },
     "execution_count": 146,
     "metadata": {},
     "output_type": "execute_result"
    }
   ],
   "source": [
    "get_date_format(df[\"Publication Date\"][10])"
   ]
  },
  {
   "cell_type": "code",
   "execution_count": 147,
   "metadata": {},
   "outputs": [],
   "source": [
    "df[\"Publication Date\"] = df[\"Publication Date\"].apply(get_date_format)"
   ]
  },
  {
   "cell_type": "code",
   "execution_count": 149,
   "metadata": {},
   "outputs": [],
   "source": [
    "df.to_csv(\"FINAL_DF_WITH_EVERYTHING.csv\", index=False)"
   ]
  },
  {
   "cell_type": "markdown",
   "metadata": {},
   "source": [
    "# Creating the JSON"
   ]
  },
  {
   "cell_type": "code",
   "execution_count": 150,
   "metadata": {},
   "outputs": [],
   "source": [
    "sample = {\n",
    "        \"name\": \"Rhythm of War\",\n",
    "        \"author\": \"Brandon Sanderson\",\n",
    "        \"genre\": [\n",
    "            \"Fantasy\",\n",
    "            \"Epic Fantasy\"\n",
    "        ],\n",
    "        \"language\": \"English\",\n",
    "        \"numPages\": 1220,\n",
    "        \"description\": \"After forming a coalition of human resistance against the enemy invasion, Dalinar Kholin and his Knights Radiant have spent a year fighting a protracted, brutal war. Neither side has gained an advantage, and the threat of a betrayal by Dalinar's crafty ally Taravangian looms over every strategic move./n Now, as new technological discoveries by Navani Kholin's scholars begin to change the face of the war, the enemy prepares a bold and dangerous operation. The arms race that follows will challenge the very core of the Radiant ideals, and potentially reveal the secrets of the ancient tower that was once the heart of their strength./n At the same time that Kaladin Stormblessed must come to grips with his changing role within the Knights Radiant, his Windrunners face their own problem: As more and more deadly enemy Fused awaken to wage war, no more honorspren are willing to bond with humans to increase the number of Radiants. Adolin and Shallan must lead the coalition’s envoy to the honorspren stronghold of Lasting Integrity and either convince the spren to join the cause against the evil god Odium, or personally face the storm of failure.\",\n",
    "        \"yearPublished\": 2020,\n",
    "        \"series\": \"Stormlight Archive\",\n",
    "        \"ISBN\": 9780765326386,\n",
    "        \"avgRating\": 4.62,\n",
    "        \"publisher\": \"Tor Books\",\n",
    "        \"imgUrlsLow\": [\n",
    "            \"https://images-na.ssl-images-amazon.com/images/I/51-X-Q-X-QL._SX331_BO1,204,203,200_.jpg\"\n",
    "        ],\n",
    "        \"imgUrlsHigh\": [\n",
    "            \"/images/400/Rhythm  400px.png\",\n",
    "            \"/images/400/Jane Eyre.jpg\",\n",
    "            \"/images/400/Harry Potter and the Prisoner Azkaban 400px.png\"\n",
    "        ]\n",
    "    },"
   ]
  },
  {
   "cell_type": "code",
   "execution_count": 105,
   "metadata": {},
   "outputs": [
    {
     "data": {
      "text/plain": [
       "Index(['Author', 'ISBN 13', 'ISBN', 'Number of Pages', 'Average Rating',\n",
       "       'Publication Date', 'Name', 'Series', 'Volume', 'Goodreads Url',\n",
       "       'Description', 'Genre', 'Image Url', 'Low Links', 'High Links',\n",
       "       'Publishers', 'Low_Res_Image_Url', 'High_Res_Image_Url'],\n",
       "      dtype='object')"
      ]
     },
     "execution_count": 105,
     "metadata": {},
     "output_type": "execute_result"
    }
   ],
   "source": [
    "df.columns"
   ]
  },
  {
   "cell_type": "code",
   "execution_count": 153,
   "metadata": {},
   "outputs": [
    {
     "name": "stderr",
     "output_type": "stream",
     "text": [
      "100%|██████████| 450/450 [00:04<00:00, 102.52it/s]\n"
     ]
    }
   ],
   "source": [
    "the_json = []\n",
    "for i in tqdm.tqdm(range(df.shape[0])):\n",
    "    name = df.iloc[i][\"Name\"]\n",
    "    author = df.iloc[i][\"Author\"]\n",
    "    genre = df.iloc[i][\"Genre\"]\n",
    "    language = \"English\"\n",
    "    numPages = df.iloc[i][\"Number of Pages\"]\n",
    "    description = df.iloc[i][\"Description\"]\n",
    "    yearPublished = df.iloc[i][\"Publication Date\"]\n",
    "    series = df.iloc[i][\"Series\"]\n",
    "    ISBN = df.iloc[i][\"ISBN 13\"]\n",
    "    avgRating = df.iloc[i][\"Average Rating\"]\n",
    "    publisher = df.iloc[i][\"Publishers\"]\n",
    "    imgUrlsLow = df.iloc[i][\"Low_Res_Image_Url\"]\n",
    "    imgUrlsHigh = df.iloc[i][\"High_Res_Image_Url\"]\n",
    "    temp_dict = {\n",
    "        \"name\": name,\n",
    "        \"author\": author,\n",
    "        \"genre\": genre,\n",
    "        \"language\": language,\n",
    "        \"numPages\": numPages,\n",
    "        \"description\": description,\n",
    "        \"yearPublished\": yearPublished,\n",
    "        \"series\": series,\n",
    "        \"ISBN\": ISBN,\n",
    "        \"avgRating\": avgRating,\n",
    "        \"publisher\": publisher,\n",
    "        \"imgUrlsLow\": imgUrlsLow,\n",
    "        \"imgUrlsHigh\": imgUrlsHigh\n",
    "    }\n",
    "    the_json.append(temp_dict)"
   ]
  },
  {
   "cell_type": "code",
   "execution_count": 155,
   "metadata": {},
   "outputs": [
    {
     "data": {
      "text/plain": [
       "{'name': 'Aurora Burning',\n",
       " 'author': 'Amie Kaufman',\n",
       " 'genre': \"['Science Fiction', 'Young Adult', 'Fantasy', 'Romance', 'Audiobook']\",\n",
       " 'language': 'English',\n",
       " 'numPages': '495',\n",
       " 'description': 'Our heroes are back… kind of. From the bestselling co-authors of the Illuminae Files comes the second book in the epic series about a squad of misfits, losers, and discipline cases who just might be the galaxy’s best hope for survival.\\nFirst, the bad news: an ancient evil—you know, your standard consume-all-life-in-the-galaxy deal—is about to be unleashed. The good news? Squad 312 is standing by to save the day. They’ve just got to take care of a few small distractions first.\\nLike the clan of gremps who’d like to rearrange their favorite faces.\\nAnd the cadre of illegit GIA agents with creepy flowers where their eyes used to be, who’ll stop at nothing to get their hands on Auri.\\nThen there’s Kal’s long-lost sister, who’s not exactly happy to see her baby brother, and has a Syldrathi army at her back. With half the known galaxy on their tails, Squad 312 has never felt so wanted.\\nWhen they learn the Hadfield has been found, it’s time to come out of hiding. Two centuries ago, the colony ship vanished, leaving Auri as its sole survivor. Now, its black box might be what saves them. But time is short, and if Auri can’t learn to master her powers as a Trigger, the squad and all their admirers are going to be deader than the Great Ultrasaur of Abraaxis IV.\\nShocking revelations, bank heists, mysterious gifts, inappropriately tight bodysuits, and an epic firefight will determine the fate of the Aurora Legion’s most unforgettable heroes—and maybe the rest of the galaxy as well.',\n",
       " 'yearPublished': 'May 05, 2020',\n",
       " 'series': 'The Aurora Cycle',\n",
       " 'ISBN': 9781524720926,\n",
       " 'avgRating': 4.3,\n",
       " 'publisher': '',\n",
       " 'imgUrlsLow': ['https://i.gr-assets.com/images/S/compressed.photo.goodreads.com/books/1574498270l/40516960.jpg',\n",
       "  'https://m.media-amazon.com/images/I/519FCkOOYRL._AC_UY327_FMwebp_QL65_.jpg',\n",
       "  'https://m.media-amazon.com/images/I/81ak4DBpIpL._AC_UY218_.jpg',\n",
       "  'https://m.media-amazon.com/images/I/81ak4DBpIpL._AC_UY654_FMwebp_QL65_.jpg'],\n",
       " 'imgUrlsHigh': ['https://images-na.ssl-images-amazon.com/images/I/519FCkOOYRL.jpg',\n",
       "  'https://images-na.ssl-images-amazon.com/images/I/81ak4DBpIpL.jpg',\n",
       "  'https://images-na.ssl-images-amazon.com/images/I/61kCfD5R8PL.jpg',\n",
       "  'https://images-na.ssl-images-amazon.com/images/I/519FCkOOYRL.jpg',\n",
       "  'https://images-na.ssl-images-amazon.com/images/I/81vRz5AdpmL.jpg',\n",
       "  'https://images-na.ssl-images-amazon.com/images/I/91XbN+bLNDL.jpg',\n",
       "  'https://m.media-amazon.com/images/I/81ak4DBpIpL._AC_UY436_FMwebp_QL65_.jpg',\n",
       "  'https://m.media-amazon.com/images/I/61kCfD5R8PL._AC_UY327_FMwebp_QL65_.jpg']}"
      ]
     },
     "execution_count": 155,
     "metadata": {},
     "output_type": "execute_result"
    }
   ],
   "source": [
    "the_json[100]"
   ]
  },
  {
   "cell_type": "code",
   "execution_count": 157,
   "metadata": {},
   "outputs": [],
   "source": [
    "json_file = open(\"FINAL_INFO_WITH_EVERYTHING.json\", \"w\")\n",
    "json_file.write(json.dumps(the_json))\n",
    "json_file.close()"
   ]
  },
  {
   "cell_type": "code",
   "execution_count": null,
   "metadata": {},
   "outputs": [],
   "source": []
  }
 ],
 "metadata": {
  "kernelspec": {
   "display_name": "Python 3.8.5",
   "language": "python",
   "name": "python3"
  },
  "language_info": {
   "codemirror_mode": {
    "name": "ipython",
    "version": 3
   },
   "file_extension": ".py",
   "mimetype": "text/x-python",
   "name": "python",
   "nbconvert_exporter": "python",
   "pygments_lexer": "ipython3",
   "version": "3.8.5"
  },
  "orig_nbformat": 4,
  "vscode": {
   "interpreter": {
    "hash": "21040c1b576dca9f4f330277849b9f4819256d524dee23c2b89e431027dafe11"
   }
  }
 },
 "nbformat": 4,
 "nbformat_minor": 2
}
