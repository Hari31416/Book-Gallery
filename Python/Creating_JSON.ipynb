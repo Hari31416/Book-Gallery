{
 "cells": [
  {
   "cell_type": "code",
   "execution_count": 2,
   "metadata": {},
   "outputs": [],
   "source": [
    "import json\n",
    "import numpy as np\n",
    "import pandas as pd\n",
    "import re\n",
    "import tqdm\n",
    "import ast"
   ]
  },
  {
   "cell_type": "code",
   "execution_count": 2,
   "metadata": {},
   "outputs": [],
   "source": [
    "df = pd.read_csv(\"Books_Final.csv\")"
   ]
  },
  {
   "cell_type": "code",
   "execution_count": 3,
   "metadata": {},
   "outputs": [
    {
     "data": {
      "text/plain": [
       "Index(['Book Name', 'Author', 'ISBN 13', 'ISBN', 'Number of Pages',\n",
       "       'Average Rating', 'Total Number of Ratings', 'Publication Date',\n",
       "       'Date Started', 'Date Completed', 'Name', 'Series', 'Volume',\n",
       "       'Goodreads Url', 'Description', 'Genre', 'Image Url', 'Low Links',\n",
       "       'High Links', 'Publishers'],\n",
       "      dtype='object')"
      ]
     },
     "execution_count": 3,
     "metadata": {},
     "output_type": "execute_result"
    }
   ],
   "source": [
    "df.columns"
   ]
  },
  {
   "cell_type": "markdown",
   "metadata": {},
   "source": [
    "## Dropping Values"
   ]
  },
  {
   "cell_type": "markdown",
   "metadata": {},
   "source": [
    "### Extra Columns"
   ]
  },
  {
   "cell_type": "code",
   "execution_count": 4,
   "metadata": {},
   "outputs": [],
   "source": [
    "df.drop(['Date Started', 'Date Completed', 'Book Name', 'Total Number of Ratings'], axis=1, inplace=True)"
   ]
  },
  {
   "cell_type": "markdown",
   "metadata": {},
   "source": [
    "### The Image Url Columns"
   ]
  },
  {
   "cell_type": "code",
   "execution_count": 5,
   "metadata": {},
   "outputs": [],
   "source": [
    "def fill_na(value):\n",
    "    if value == \"[]\":\n",
    "        return np.nan\n",
    "    else:\n",
    "        return value"
   ]
  },
  {
   "cell_type": "code",
   "execution_count": 6,
   "metadata": {},
   "outputs": [],
   "source": [
    "df[\"High Links\"] = df[\"High Links\"].apply(fill_na)"
   ]
  },
  {
   "cell_type": "code",
   "execution_count": 7,
   "metadata": {},
   "outputs": [],
   "source": [
    "def fill_na(value):\n",
    "    if value == \"{'1x': [], '1.5x': [], '2x': [], '2.5x': [], '3x': [], '3.5x': [], '4x': []}\":\n",
    "        return np.nan\n",
    "    else:\n",
    "        return value"
   ]
  },
  {
   "cell_type": "code",
   "execution_count": 8,
   "metadata": {},
   "outputs": [],
   "source": [
    "df[\"Low Links\"] = df[\"Low Links\"].apply(fill_na)"
   ]
  },
  {
   "cell_type": "markdown",
   "metadata": {},
   "source": [
    "### The ISBN Column"
   ]
  },
  {
   "cell_type": "code",
   "execution_count": 9,
   "metadata": {},
   "outputs": [
    {
     "data": {
      "text/plain": [
       "140"
      ]
     },
     "execution_count": 9,
     "metadata": {},
     "output_type": "execute_result"
    }
   ],
   "source": [
    "df[\"ISBN\"].isna().sum()"
   ]
  },
  {
   "cell_type": "code",
   "execution_count": 10,
   "metadata": {},
   "outputs": [
    {
     "data": {
      "text/plain": [
       "127"
      ]
     },
     "execution_count": 10,
     "metadata": {},
     "output_type": "execute_result"
    }
   ],
   "source": [
    "df[\"ISBN 13\"].isna().sum()"
   ]
  },
  {
   "cell_type": "code",
   "execution_count": 11,
   "metadata": {},
   "outputs": [
    {
     "data": {
      "text/plain": [
       "(126, 16)"
      ]
     },
     "execution_count": 11,
     "metadata": {},
     "output_type": "execute_result"
    }
   ],
   "source": [
    "df[(df[\"ISBN\"].isna()) & (df[\"ISBN 13\"].isna())].shape"
   ]
  },
  {
   "cell_type": "code",
   "execution_count": 12,
   "metadata": {},
   "outputs": [
    {
     "data": {
      "text/plain": [
       "(407, 16)"
      ]
     },
     "execution_count": 12,
     "metadata": {},
     "output_type": "execute_result"
    }
   ],
   "source": [
    "df.dropna(thresh=13).shape"
   ]
  },
  {
   "cell_type": "code",
   "execution_count": 13,
   "metadata": {},
   "outputs": [
    {
     "data": {
      "text/plain": [
       "(110, 16)"
      ]
     },
     "execution_count": 13,
     "metadata": {},
     "output_type": "execute_result"
    }
   ],
   "source": [
    "df[df[\"High Links\"].isna()].shape"
   ]
  },
  {
   "cell_type": "code",
   "execution_count": 14,
   "metadata": {},
   "outputs": [
    {
     "data": {
      "text/plain": [
       "(11, 16)"
      ]
     },
     "execution_count": 14,
     "metadata": {},
     "output_type": "execute_result"
    }
   ],
   "source": [
    "df[df[\"Image Url\"].isna()].shape"
   ]
  },
  {
   "cell_type": "code",
   "execution_count": 15,
   "metadata": {},
   "outputs": [
    {
     "data": {
      "text/plain": [
       "(86, 16)"
      ]
     },
     "execution_count": 15,
     "metadata": {},
     "output_type": "execute_result"
    }
   ],
   "source": [
    "df[df[\"Low Links\"].isna()].shape"
   ]
  },
  {
   "cell_type": "code",
   "execution_count": 16,
   "metadata": {},
   "outputs": [
    {
     "data": {
      "text/plain": [
       "(86, 16)"
      ]
     },
     "execution_count": 16,
     "metadata": {},
     "output_type": "execute_result"
    }
   ],
   "source": [
    "df[(df[\"Low Links\"].isna()) & (df[\"High Links\"].isna())].shape"
   ]
  },
  {
   "cell_type": "markdown",
   "metadata": {},
   "source": [
    "## Creating New Columns"
   ]
  },
  {
   "cell_type": "markdown",
   "metadata": {},
   "source": [
    "### The Low_Res_Image_Url Column and the High_Res_Image_Url Column"
   ]
  },
  {
   "cell_type": "code",
   "execution_count": 17,
   "metadata": {},
   "outputs": [
    {
     "data": {
      "text/plain": [
       "Index(['Author', 'ISBN 13', 'ISBN', 'Number of Pages', 'Average Rating',\n",
       "       'Publication Date', 'Name', 'Series', 'Volume', 'Goodreads Url',\n",
       "       'Description', 'Genre', 'Image Url', 'Low Links', 'High Links',\n",
       "       'Publishers'],\n",
       "      dtype='object')"
      ]
     },
     "execution_count": 17,
     "metadata": {},
     "output_type": "execute_result"
    }
   ],
   "source": [
    "df.columns"
   ]
  },
  {
   "cell_type": "code",
   "execution_count": 41,
   "metadata": {},
   "outputs": [
    {
     "data": {
      "text/plain": [
       "'https://i.gr-assets.com/images/S/compressed.photo.goodreads.com/books/1407572377l/12591698.jpg'"
      ]
     },
     "execution_count": 41,
     "metadata": {},
     "output_type": "execute_result"
    }
   ],
   "source": [
    "df[\"Image Url\"][10]"
   ]
  },
  {
   "cell_type": "code",
   "execution_count": 42,
   "metadata": {},
   "outputs": [],
   "source": [
    "def create_low_res_urls(row):\n",
    "    low_keys = ['2x', '1.5x']\n",
    "    low_urls = []\n",
    "    goodreads_url = row[\"Image Url\"]\n",
    "    if goodreads_url is not np.nan:\n",
    "        low_urls.append(goodreads_url)\n",
    "    try:\n",
    "        amazon_urls = ast.literal_eval(row[\"Low Links\"])\n",
    "        for key, values in amazon_urls.items():\n",
    "            if key in low_keys:\n",
    "                low_urls.extend(values)\n",
    "                break\n",
    "    except:\n",
    "        pass\n",
    "    return low_urls"
   ]
  },
  {
   "cell_type": "code",
   "execution_count": 43,
   "metadata": {},
   "outputs": [
    {
     "data": {
      "text/plain": [
       "['https://i.gr-assets.com/images/S/compressed.photo.goodreads.com/books/1407572377l/12591698.jpg',\n",
       " 'https://m.media-amazon.com/images/I/81t2pcbfgrL._AC_UY327_FMwebp_QL65_.jpg',\n",
       " 'https://m.media-amazon.com/images/I/71XBl40bfiL._AC_UY218_.jpg',\n",
       " 'https://m.media-amazon.com/images/I/71XBl40bfiL._AC_UY654_FMwebp_QL65_.jpg']"
      ]
     },
     "execution_count": 43,
     "metadata": {},
     "output_type": "execute_result"
    }
   ],
   "source": [
    "create_low_res_urls(df.iloc[10])"
   ]
  },
  {
   "cell_type": "code",
   "execution_count": 44,
   "metadata": {},
   "outputs": [],
   "source": [
    "def create_high_res_urls(row):\n",
    "    high_keys = ['3x', \"2.5x\"]\n",
    "    high_urls = []\n",
    "    try:\n",
    "        high_urls_amazon = ast.literal_eval(row[\"High Links\"])\n",
    "        for url in high_urls_amazon:\n",
    "            high_urls.append(url)\n",
    "    except:\n",
    "        pass\n",
    "    try:\n",
    "        amazon_urls = ast.literal_eval(row[\"Low Links\"])\n",
    "        for key, values in amazon_urls.items():\n",
    "            if key in high_keys:\n",
    "                high_urls.extend(values)\n",
    "                break\n",
    "    except:\n",
    "        pass\n",
    "    return high_urls"
   ]
  },
  {
   "cell_type": "code",
   "execution_count": 45,
   "metadata": {},
   "outputs": [
    {
     "data": {
      "text/plain": [
       "['https://m.media-amazon.com/images/I/81bxeFvkGoL._AC_UY545_FMwebp_QL65_.jpg',\n",
       " 'https://m.media-amazon.com/images/I/61u-3eSwrtL._AC_UY436_FMwebp_QL65_.jpg']"
      ]
     },
     "execution_count": 45,
     "metadata": {},
     "output_type": "execute_result"
    }
   ],
   "source": [
    "create_high_res_urls(df.iloc[2])"
   ]
  },
  {
   "cell_type": "code",
   "execution_count": 46,
   "metadata": {},
   "outputs": [
    {
     "data": {
      "text/plain": [
       "['https://m.media-amazon.com/images/I/81bxeFvkGoL._AC_UY327_FMwebp_QL65_.jpg',\n",
       " 'https://m.media-amazon.com/images/I/61u-3eSwrtL._AC_UY218_.jpg']"
      ]
     },
     "execution_count": 46,
     "metadata": {},
     "output_type": "execute_result"
    }
   ],
   "source": [
    "create_low_res_urls(df.iloc[2])"
   ]
  },
  {
   "cell_type": "code",
   "execution_count": 47,
   "metadata": {},
   "outputs": [],
   "source": [
    "df[\"Low_Res_Image_Url\"] = df.apply(create_low_res_urls, axis=1)\n",
    "df[\"High_Res_Image_Url\"] = df.apply(create_high_res_urls, axis=1)"
   ]
  },
  {
   "cell_type": "code",
   "execution_count": 48,
   "metadata": {},
   "outputs": [
    {
     "data": {
      "text/html": [
       "<div>\n",
       "<style scoped>\n",
       "    .dataframe tbody tr th:only-of-type {\n",
       "        vertical-align: middle;\n",
       "    }\n",
       "\n",
       "    .dataframe tbody tr th {\n",
       "        vertical-align: top;\n",
       "    }\n",
       "\n",
       "    .dataframe thead th {\n",
       "        text-align: right;\n",
       "    }\n",
       "</style>\n",
       "<table border=\"1\" class=\"dataframe\">\n",
       "  <thead>\n",
       "    <tr style=\"text-align: right;\">\n",
       "      <th></th>\n",
       "      <th>Author</th>\n",
       "      <th>ISBN 13</th>\n",
       "      <th>ISBN</th>\n",
       "      <th>Number of Pages</th>\n",
       "      <th>Average Rating</th>\n",
       "      <th>Publication Date</th>\n",
       "      <th>Name</th>\n",
       "      <th>Series</th>\n",
       "      <th>Volume</th>\n",
       "      <th>Goodreads Url</th>\n",
       "      <th>Description</th>\n",
       "      <th>Genre</th>\n",
       "      <th>Image Url</th>\n",
       "      <th>Low Links</th>\n",
       "      <th>High Links</th>\n",
       "      <th>Publishers</th>\n",
       "      <th>Low_Res_Image_Url</th>\n",
       "      <th>High_Res_Image_Url</th>\n",
       "    </tr>\n",
       "  </thead>\n",
       "  <tbody>\n",
       "    <tr>\n",
       "      <th>0</th>\n",
       "      <td>Patrick Rothfuss</td>\n",
       "      <td>NaN</td>\n",
       "      <td>NaN</td>\n",
       "      <td>93</td>\n",
       "      <td>4.00</td>\n",
       "      <td>2014-01-01</td>\n",
       "      <td>The Lightning Tree</td>\n",
       "      <td>Standalone</td>\n",
       "      <td>1</td>\n",
       "      <td>https://www.goodreads.com/book/show/55262194</td>\n",
       "      <td>The Lightning Tree is a companion short story ...</td>\n",
       "      <td>['Fantasy', 'Fiction', 'Short Stories', 'Fanta...</td>\n",
       "      <td>https://i.gr-assets.com/images/S/compressed.ph...</td>\n",
       "      <td>NaN</td>\n",
       "      <td>NaN</td>\n",
       "      <td>NaN</td>\n",
       "      <td>[https://i.gr-assets.com/images/S/compressed.p...</td>\n",
       "      <td>[]</td>\n",
       "    </tr>\n",
       "    <tr>\n",
       "      <th>1</th>\n",
       "      <td>Randall Munroe</td>\n",
       "      <td>9.780544e+12</td>\n",
       "      <td>0544272994</td>\n",
       "      <td>303</td>\n",
       "      <td>4.14</td>\n",
       "      <td>2014-09-02</td>\n",
       "      <td>What If? Serious Scientific Answers to Absurd ...</td>\n",
       "      <td>What If?</td>\n",
       "      <td>1</td>\n",
       "      <td>https://www.goodreads.com/book/show/21413662</td>\n",
       "      <td>Randall Munroe left NASA in 2005 to start up h...</td>\n",
       "      <td>['Nonfiction', 'Science', 'Humor', 'Audiobook'...</td>\n",
       "      <td>https://i.gr-assets.com/images/S/compressed.ph...</td>\n",
       "      <td>NaN</td>\n",
       "      <td>NaN</td>\n",
       "      <td>Mariner Books</td>\n",
       "      <td>[https://i.gr-assets.com/images/S/compressed.p...</td>\n",
       "      <td>[]</td>\n",
       "    </tr>\n",
       "    <tr>\n",
       "      <th>2</th>\n",
       "      <td>James S.A. Corey</td>\n",
       "      <td>9.780357e+12</td>\n",
       "      <td>0356510395</td>\n",
       "      <td>528</td>\n",
       "      <td>4.54</td>\n",
       "      <td>2021-11-30</td>\n",
       "      <td>Leviathan Falls</td>\n",
       "      <td>The Expanse</td>\n",
       "      <td>9</td>\n",
       "      <td>https://www.goodreads.com/book/show/58783427</td>\n",
       "      <td>The Laconian Empire has fallen, setting the th...</td>\n",
       "      <td>['Science Fiction', 'Fiction', 'Space', 'Space...</td>\n",
       "      <td>NaN</td>\n",
       "      <td>{'1x': ['https://m.media-amazon.com/images/I/8...</td>\n",
       "      <td>NaN</td>\n",
       "      <td>NaN</td>\n",
       "      <td>[https://m.media-amazon.com/images/I/81bxeFvkG...</td>\n",
       "      <td>[https://m.media-amazon.com/images/I/81bxeFvkG...</td>\n",
       "    </tr>\n",
       "    <tr>\n",
       "      <th>3</th>\n",
       "      <td>James S.A. Corey</td>\n",
       "      <td>9.780316e+12</td>\n",
       "      <td>0316332879</td>\n",
       "      <td>534</td>\n",
       "      <td>4.57</td>\n",
       "      <td>2019-03-26</td>\n",
       "      <td>Tiamat's Wrath</td>\n",
       "      <td>The Expanse</td>\n",
       "      <td>8</td>\n",
       "      <td>https://www.goodreads.com/book/show/28335698</td>\n",
       "      <td>Thirteen hundred gates have opened to solar sy...</td>\n",
       "      <td>['Science Fiction', 'Fiction', 'Space', 'Space...</td>\n",
       "      <td>https://i.gr-assets.com/images/S/compressed.ph...</td>\n",
       "      <td>{'1x': ['https://m.media-amazon.com/images/I/8...</td>\n",
       "      <td>['https://images-na.ssl-images-amazon.com/imag...</td>\n",
       "      <td>Orbit Books</td>\n",
       "      <td>[https://i.gr-assets.com/images/S/compressed.p...</td>\n",
       "      <td>[https://images-na.ssl-images-amazon.com/image...</td>\n",
       "    </tr>\n",
       "    <tr>\n",
       "      <th>4</th>\n",
       "      <td>James S.A. Corey</td>\n",
       "      <td>9.780316e+12</td>\n",
       "      <td>0316332828</td>\n",
       "      <td>608</td>\n",
       "      <td>4.37</td>\n",
       "      <td>2017-12-05</td>\n",
       "      <td>Persepolis Rising</td>\n",
       "      <td>The Expanse</td>\n",
       "      <td>7</td>\n",
       "      <td>https://www.goodreads.com/book/show/28335696</td>\n",
       "      <td>In the thousand-sun network of humanity's expa...</td>\n",
       "      <td>['Science Fiction', 'Fiction', 'Space', 'Space...</td>\n",
       "      <td>https://i.gr-assets.com/images/S/compressed.ph...</td>\n",
       "      <td>{'1x': ['https://m.media-amazon.com/images/I/9...</td>\n",
       "      <td>['https://images-na.ssl-images-amazon.com/imag...</td>\n",
       "      <td>Orbit Books</td>\n",
       "      <td>[https://i.gr-assets.com/images/S/compressed.p...</td>\n",
       "      <td>[https://images-na.ssl-images-amazon.com/image...</td>\n",
       "    </tr>\n",
       "  </tbody>\n",
       "</table>\n",
       "</div>"
      ],
      "text/plain": [
       "             Author       ISBN 13        ISBN Number of Pages  Average Rating  \\\n",
       "0  Patrick Rothfuss           NaN         NaN              93            4.00   \n",
       "1    Randall Munroe  9.780544e+12  0544272994             303            4.14   \n",
       "2  James S.A. Corey  9.780357e+12  0356510395             528            4.54   \n",
       "3  James S.A. Corey  9.780316e+12  0316332879             534            4.57   \n",
       "4  James S.A. Corey  9.780316e+12  0316332828             608            4.37   \n",
       "\n",
       "  Publication Date                                               Name  \\\n",
       "0       2014-01-01                                 The Lightning Tree   \n",
       "1       2014-09-02  What If? Serious Scientific Answers to Absurd ...   \n",
       "2       2021-11-30                                    Leviathan Falls   \n",
       "3       2019-03-26                                     Tiamat's Wrath   \n",
       "4       2017-12-05                                  Persepolis Rising   \n",
       "\n",
       "        Series  Volume                                 Goodreads Url  \\\n",
       "0   Standalone       1  https://www.goodreads.com/book/show/55262194   \n",
       "1     What If?       1  https://www.goodreads.com/book/show/21413662   \n",
       "2  The Expanse       9  https://www.goodreads.com/book/show/58783427   \n",
       "3  The Expanse       8  https://www.goodreads.com/book/show/28335698   \n",
       "4  The Expanse       7  https://www.goodreads.com/book/show/28335696   \n",
       "\n",
       "                                         Description  \\\n",
       "0  The Lightning Tree is a companion short story ...   \n",
       "1  Randall Munroe left NASA in 2005 to start up h...   \n",
       "2  The Laconian Empire has fallen, setting the th...   \n",
       "3  Thirteen hundred gates have opened to solar sy...   \n",
       "4  In the thousand-sun network of humanity's expa...   \n",
       "\n",
       "                                               Genre  \\\n",
       "0  ['Fantasy', 'Fiction', 'Short Stories', 'Fanta...   \n",
       "1  ['Nonfiction', 'Science', 'Humor', 'Audiobook'...   \n",
       "2  ['Science Fiction', 'Fiction', 'Space', 'Space...   \n",
       "3  ['Science Fiction', 'Fiction', 'Space', 'Space...   \n",
       "4  ['Science Fiction', 'Fiction', 'Space', 'Space...   \n",
       "\n",
       "                                           Image Url  \\\n",
       "0  https://i.gr-assets.com/images/S/compressed.ph...   \n",
       "1  https://i.gr-assets.com/images/S/compressed.ph...   \n",
       "2                                                NaN   \n",
       "3  https://i.gr-assets.com/images/S/compressed.ph...   \n",
       "4  https://i.gr-assets.com/images/S/compressed.ph...   \n",
       "\n",
       "                                           Low Links  \\\n",
       "0                                                NaN   \n",
       "1                                                NaN   \n",
       "2  {'1x': ['https://m.media-amazon.com/images/I/8...   \n",
       "3  {'1x': ['https://m.media-amazon.com/images/I/8...   \n",
       "4  {'1x': ['https://m.media-amazon.com/images/I/9...   \n",
       "\n",
       "                                          High Links     Publishers  \\\n",
       "0                                                NaN            NaN   \n",
       "1                                                NaN  Mariner Books   \n",
       "2                                                NaN            NaN   \n",
       "3  ['https://images-na.ssl-images-amazon.com/imag...    Orbit Books   \n",
       "4  ['https://images-na.ssl-images-amazon.com/imag...    Orbit Books   \n",
       "\n",
       "                                   Low_Res_Image_Url  \\\n",
       "0  [https://i.gr-assets.com/images/S/compressed.p...   \n",
       "1  [https://i.gr-assets.com/images/S/compressed.p...   \n",
       "2  [https://m.media-amazon.com/images/I/81bxeFvkG...   \n",
       "3  [https://i.gr-assets.com/images/S/compressed.p...   \n",
       "4  [https://i.gr-assets.com/images/S/compressed.p...   \n",
       "\n",
       "                                  High_Res_Image_Url  \n",
       "0                                                 []  \n",
       "1                                                 []  \n",
       "2  [https://m.media-amazon.com/images/I/81bxeFvkG...  \n",
       "3  [https://images-na.ssl-images-amazon.com/image...  \n",
       "4  [https://images-na.ssl-images-amazon.com/image...  "
      ]
     },
     "execution_count": 48,
     "metadata": {},
     "output_type": "execute_result"
    }
   ],
   "source": [
    "df.head()"
   ]
  },
  {
   "cell_type": "code",
   "execution_count": 49,
   "metadata": {},
   "outputs": [
    {
     "data": {
      "text/plain": [
       "0"
      ]
     },
     "execution_count": 49,
     "metadata": {},
     "output_type": "execute_result"
    }
   ],
   "source": [
    "df[\"Author\"].isna().sum()"
   ]
  },
  {
   "cell_type": "code",
   "execution_count": 50,
   "metadata": {},
   "outputs": [],
   "source": [
    "df[\"Low_Res_Image_Url\"].fillna(value=\"[]\", inplace=True)\n",
    "df[\"High_Res_Image_Url\"].fillna(value=\"[]\", inplace=True)\n",
    "df[\"Genre\"].fillna(value=\"[]\", inplace=True)\n",
    "df[\"Publishers\"].fillna(value=\"\", inplace=True)\n",
    "df[\"Description\"].fillna(value=\"\", inplace=True)\n",
    "df[\"Publication Date\"].fillna(value=\"\", inplace=True)\n",
    "df[\"Average Rating\"].fillna(value=\"\", inplace=True)\n",
    "df[\"Number of Pages\"].fillna(value=\"\", inplace=True)\n",
    "df[\"ISBN 13\"].fillna(value=\"\", inplace=True)"
   ]
  },
  {
   "cell_type": "code",
   "execution_count": 51,
   "metadata": {},
   "outputs": [],
   "source": [
    "df[\"ISBN 13\"]= df[\"ISBN 13\"].apply(lambda x: int(x) if x != \"\" else '')"
   ]
  },
  {
   "cell_type": "code",
   "execution_count": 52,
   "metadata": {},
   "outputs": [],
   "source": [
    "def get_date_format(value):\n",
    "    try:\n",
    "        date = pd.to_datetime(value)\n",
    "        return date.strftime(\"%B %d, %Y\")\n",
    "    except:\n",
    "        return value"
   ]
  },
  {
   "cell_type": "code",
   "execution_count": 53,
   "metadata": {},
   "outputs": [
    {
     "data": {
      "text/plain": [
       "'June 07, 2012'"
      ]
     },
     "execution_count": 53,
     "metadata": {},
     "output_type": "execute_result"
    }
   ],
   "source": [
    "get_date_format(df[\"Publication Date\"][10])"
   ]
  },
  {
   "cell_type": "code",
   "execution_count": 54,
   "metadata": {},
   "outputs": [],
   "source": [
    "df[\"Publication Date\"] = df[\"Publication Date\"].apply(get_date_format)"
   ]
  },
  {
   "cell_type": "code",
   "execution_count": 55,
   "metadata": {},
   "outputs": [],
   "source": [
    "df.to_csv(\"FINAL_DF_WITH_EVERYTHING.csv\", index=False)"
   ]
  },
  {
   "cell_type": "code",
   "execution_count": 3,
   "metadata": {},
   "outputs": [
    {
     "data": {
      "text/plain": [
       "0      ['Fantasy', 'Fiction', 'Short Stories', 'Fanta...\n",
       "1      ['Nonfiction', 'Science', 'Humor', 'Audiobook'...\n",
       "2      ['Science Fiction', 'Fiction', 'Space', 'Space...\n",
       "3      ['Science Fiction', 'Fiction', 'Space', 'Space...\n",
       "4      ['Science Fiction', 'Fiction', 'Space', 'Space...\n",
       "                             ...                        \n",
       "445    ['Fantasy', 'Young Adult', 'Fiction', 'Fantasy...\n",
       "446    ['Fantasy', 'Fiction', 'Young Adult', 'Fantasy...\n",
       "447    ['Fantasy', 'Classics', 'Fiction', 'Adventure'...\n",
       "448    ['Fantasy', 'Fiction', 'Young Adult', 'Fantasy...\n",
       "449    ['Classics', 'Fiction', 'Romance', 'Historical...\n",
       "Name: Genre, Length: 450, dtype: object"
      ]
     },
     "execution_count": 3,
     "metadata": {},
     "output_type": "execute_result"
    }
   ],
   "source": [
    "df = pd.read_csv(\"FINAL_DF_WITH_EVERYTHING.csv\")\n",
    "df[\"Genre\"]"
   ]
  },
  {
   "cell_type": "code",
   "execution_count": 7,
   "metadata": {},
   "outputs": [],
   "source": [
    "df[\"Description\"] = df[\"Description\"].apply(lambda x: f\"\"\"{str(x)}\"\"\")"
   ]
  },
  {
   "cell_type": "code",
   "execution_count": 19,
   "metadata": {},
   "outputs": [
    {
     "data": {
      "text/plain": [
       "Index(['Author', 'ISBN 13', 'ISBN', 'Number of Pages', 'Average Rating',\n",
       "       'Publication Date', 'Name', 'Series', 'Volume', 'Goodreads Url',\n",
       "       'Description', 'Genre', 'Image Url', 'Low Links', 'High Links',\n",
       "       'Publishers', 'Low_Res_Image_Url', 'High_Res_Image_Url',\n",
       "       'New_Low_Res_Image_Url', 'New_High_Res_Image_Url'],\n",
       "      dtype='object')"
      ]
     },
     "execution_count": 19,
     "metadata": {},
     "output_type": "execute_result"
    }
   ],
   "source": [
    "df.columns"
   ]
  },
  {
   "cell_type": "code",
   "execution_count": 23,
   "metadata": {},
   "outputs": [
    {
     "data": {
      "text/plain": [
       "(\"['https://images-na.ssl-images-amazon.com/images/I/81t2pcbfgrL.jpg', 'https://images-na.ssl-images-amazon.com/images/I/81bSs2e--VL.jpg', 'https://images-na.ssl-images-amazon.com/images/I/71XLEDYZfDL.jpg', 'https://images-na.ssl-images-amazon.com/images/I/81xqAxr5wfL.jpg', 'https://images-na.ssl-images-amazon.com/images/I/41mDwIDbxbL.jpg', 'https://images-na.ssl-images-amazon.com/images/I/71XBl40bfiL.jpg', 'https://images-na.ssl-images-amazon.com/images/I/915mh7F7qKL.jpg']\",\n",
       " \"['https://bucketforbookgallery.s3.ap-south-1.amazonaws.com/images/high/81t2pcbfgrL.jpg', 'https://bucketforbookgallery.s3.ap-south-1.amazonaws.com/images/high/81bSs2e--VL.jpg', 'https://bucketforbookgallery.s3.ap-south-1.amazonaws.com/images/high/71XLEDYZfDL.jpg', 'https://bucketforbookgallery.s3.ap-south-1.amazonaws.com/images/high/81xqAxr5wfL.jpg', 'https://bucketforbookgallery.s3.ap-south-1.amazonaws.com/images/high/41mDwIDbxbL.jpg', 'https://bucketforbookgallery.s3.ap-south-1.amazonaws.com/images/high/71XBl40bfiL.jpg', 'https://bucketforbookgallery.s3.ap-south-1.amazonaws.com/images/high/915mh7F7qKL.jpg', 'https://bucketforbookgallery.s3.ap-south-1.amazonaws.com/images/high/81t2pcbfgrL._AC_UY545_FMwebp_QL65_.jpg', 'https://bucketforbookgallery.s3.ap-south-1.amazonaws.com/images/high/71XBl40bfiL._AC_UY436_FMwebp_QL65_.jpg', 'https://bucketforbookgallery.s3.ap-south-1.amazonaws.com/images/high/915mh7F7qKL._AC_UY327_FMwebp_QL65_.jpg']\")"
      ]
     },
     "execution_count": 23,
     "metadata": {},
     "output_type": "execute_result"
    }
   ],
   "source": [
    "df[\"High Links\"][10], df[\"New_High_Res_Image_Url\"][10]"
   ]
  },
  {
   "cell_type": "code",
   "execution_count": 26,
   "metadata": {},
   "outputs": [
    {
     "data": {
      "text/html": [
       "<div>\n",
       "<style scoped>\n",
       "    .dataframe tbody tr th:only-of-type {\n",
       "        vertical-align: middle;\n",
       "    }\n",
       "\n",
       "    .dataframe tbody tr th {\n",
       "        vertical-align: top;\n",
       "    }\n",
       "\n",
       "    .dataframe thead th {\n",
       "        text-align: right;\n",
       "    }\n",
       "</style>\n",
       "<table border=\"1\" class=\"dataframe\">\n",
       "  <thead>\n",
       "    <tr style=\"text-align: right;\">\n",
       "      <th></th>\n",
       "      <th>Author</th>\n",
       "      <th>ISBN 13</th>\n",
       "      <th>ISBN</th>\n",
       "      <th>Number of Pages</th>\n",
       "      <th>Average Rating</th>\n",
       "      <th>Publication Date</th>\n",
       "      <th>Name</th>\n",
       "      <th>Series</th>\n",
       "      <th>Volume</th>\n",
       "      <th>Goodreads Url</th>\n",
       "      <th>Description</th>\n",
       "      <th>Genre</th>\n",
       "      <th>Image Url</th>\n",
       "      <th>Low Links</th>\n",
       "      <th>High Links</th>\n",
       "      <th>Publishers</th>\n",
       "      <th>Low_Res_Image_Url</th>\n",
       "      <th>High_Res_Image_Url</th>\n",
       "      <th>New_Low_Res_Image_Url</th>\n",
       "      <th>New_High_Res_Image_Url</th>\n",
       "    </tr>\n",
       "  </thead>\n",
       "  <tbody>\n",
       "    <tr>\n",
       "      <th>0</th>\n",
       "      <td>Patrick Rothfuss</td>\n",
       "      <td>NaN</td>\n",
       "      <td>NaN</td>\n",
       "      <td>93</td>\n",
       "      <td>4.00</td>\n",
       "      <td>January 01, 2014</td>\n",
       "      <td>The Lightning Tree</td>\n",
       "      <td>Standalone</td>\n",
       "      <td>1</td>\n",
       "      <td>https://www.goodreads.com/book/show/55262194</td>\n",
       "      <td>The Lightning Tree is a companion short story ...</td>\n",
       "      <td>['Fantasy', 'Fiction', 'Short Stories', 'Fanta...</td>\n",
       "      <td>https://i.gr-assets.com/images/S/compressed.ph...</td>\n",
       "      <td>NaN</td>\n",
       "      <td>NaN</td>\n",
       "      <td>NaN</td>\n",
       "      <td>['https://i.gr-assets.com/images/S/compressed....</td>\n",
       "      <td>[]</td>\n",
       "      <td>['https://bucketforbookgallery.s3.ap-south-1.a...</td>\n",
       "      <td>[]</td>\n",
       "    </tr>\n",
       "    <tr>\n",
       "      <th>1</th>\n",
       "      <td>Randall Munroe</td>\n",
       "      <td>9.780544e+12</td>\n",
       "      <td>0544272994</td>\n",
       "      <td>303</td>\n",
       "      <td>4.14</td>\n",
       "      <td>September 02, 2014</td>\n",
       "      <td>What If? Serious Scientific Answers to Absurd ...</td>\n",
       "      <td>What If?</td>\n",
       "      <td>1</td>\n",
       "      <td>https://www.goodreads.com/book/show/21413662</td>\n",
       "      <td>Randall Munroe left NASA in 2005 to start up h...</td>\n",
       "      <td>['Nonfiction', 'Science', 'Humor', 'Audiobook'...</td>\n",
       "      <td>https://i.gr-assets.com/images/S/compressed.ph...</td>\n",
       "      <td>NaN</td>\n",
       "      <td>NaN</td>\n",
       "      <td>Mariner Books</td>\n",
       "      <td>['https://i.gr-assets.com/images/S/compressed....</td>\n",
       "      <td>[]</td>\n",
       "      <td>['https://bucketforbookgallery.s3.ap-south-1.a...</td>\n",
       "      <td>[]</td>\n",
       "    </tr>\n",
       "    <tr>\n",
       "      <th>2</th>\n",
       "      <td>James S.A. Corey</td>\n",
       "      <td>9.780357e+12</td>\n",
       "      <td>0356510395</td>\n",
       "      <td>528</td>\n",
       "      <td>4.54</td>\n",
       "      <td>November 30, 2021</td>\n",
       "      <td>Leviathan Falls</td>\n",
       "      <td>The Expanse</td>\n",
       "      <td>9</td>\n",
       "      <td>https://www.goodreads.com/book/show/58783427</td>\n",
       "      <td>The Laconian Empire has fallen, setting the th...</td>\n",
       "      <td>['Science Fiction', 'Fiction', 'Space', 'Space...</td>\n",
       "      <td>NaN</td>\n",
       "      <td>{'1x': ['https://m.media-amazon.com/images/I/8...</td>\n",
       "      <td>NaN</td>\n",
       "      <td>NaN</td>\n",
       "      <td>['https://m.media-amazon.com/images/I/81bxeFvk...</td>\n",
       "      <td>['https://m.media-amazon.com/images/I/81bxeFvk...</td>\n",
       "      <td>['https://bucketforbookgallery.s3.ap-south-1.a...</td>\n",
       "      <td>['https://bucketforbookgallery.s3.ap-south-1.a...</td>\n",
       "    </tr>\n",
       "    <tr>\n",
       "      <th>9</th>\n",
       "      <td>James S.A. Corey</td>\n",
       "      <td>NaN</td>\n",
       "      <td>NaN</td>\n",
       "      <td>30</td>\n",
       "      <td>4.02</td>\n",
       "      <td>November 27, 2012</td>\n",
       "      <td>Drive</td>\n",
       "      <td>The Expanse</td>\n",
       "      <td>2</td>\n",
       "      <td>https://www.goodreads.com/book/show/25899877</td>\n",
       "      <td>Read \"Drive\", a Prequel to The Expanse series....</td>\n",
       "      <td>['Science Fiction', 'Fiction', 'Short Stories'...</td>\n",
       "      <td>https://i.gr-assets.com/images/S/compressed.ph...</td>\n",
       "      <td>{'1x': ['https://m.media-amazon.com/images/I/7...</td>\n",
       "      <td>NaN</td>\n",
       "      <td>SyFy</td>\n",
       "      <td>['https://i.gr-assets.com/images/S/compressed....</td>\n",
       "      <td>['https://m.media-amazon.com/images/I/71tfW-GC...</td>\n",
       "      <td>['https://bucketforbookgallery.s3.ap-south-1.a...</td>\n",
       "      <td>['https://bucketforbookgallery.s3.ap-south-1.a...</td>\n",
       "    </tr>\n",
       "    <tr>\n",
       "      <th>11</th>\n",
       "      <td>James S.A. Corey</td>\n",
       "      <td>NaN</td>\n",
       "      <td>NaN</td>\n",
       "      <td>68</td>\n",
       "      <td>3.72</td>\n",
       "      <td>January 01, 2012</td>\n",
       "      <td>Gods of Risk</td>\n",
       "      <td>The Expanse</td>\n",
       "      <td>2</td>\n",
       "      <td>https://www.goodreads.com/book/show/15837317</td>\n",
       "      <td>As tension between Mars and Earth mounts, and ...</td>\n",
       "      <td>['Science Fiction', 'Fiction', 'Space', 'Space...</td>\n",
       "      <td>https://i.gr-assets.com/images/S/compressed.ph...</td>\n",
       "      <td>{'1x': ['https://m.media-amazon.com/images/I/8...</td>\n",
       "      <td>NaN</td>\n",
       "      <td>Orbit</td>\n",
       "      <td>['https://i.gr-assets.com/images/S/compressed....</td>\n",
       "      <td>['https://m.media-amazon.com/images/I/81ZhBPQ6...</td>\n",
       "      <td>['https://bucketforbookgallery.s3.ap-south-1.a...</td>\n",
       "      <td>['https://bucketforbookgallery.s3.ap-south-1.a...</td>\n",
       "    </tr>\n",
       "    <tr>\n",
       "      <th>...</th>\n",
       "      <td>...</td>\n",
       "      <td>...</td>\n",
       "      <td>...</td>\n",
       "      <td>...</td>\n",
       "      <td>...</td>\n",
       "      <td>...</td>\n",
       "      <td>...</td>\n",
       "      <td>...</td>\n",
       "      <td>...</td>\n",
       "      <td>...</td>\n",
       "      <td>...</td>\n",
       "      <td>...</td>\n",
       "      <td>...</td>\n",
       "      <td>...</td>\n",
       "      <td>...</td>\n",
       "      <td>...</td>\n",
       "      <td>...</td>\n",
       "      <td>...</td>\n",
       "      <td>...</td>\n",
       "      <td>...</td>\n",
       "    </tr>\n",
       "    <tr>\n",
       "      <th>417</th>\n",
       "      <td>Hilda D. Spear</td>\n",
       "      <td>9.780333e+12</td>\n",
       "      <td>0333372867</td>\n",
       "      <td>96</td>\n",
       "      <td>4.14</td>\n",
       "      <td>April 04, 1985</td>\n",
       "      <td>Wuthering Heights by Emily Brontë</td>\n",
       "      <td>Standalone</td>\n",
       "      <td>1</td>\n",
       "      <td>https://www.goodreads.com/book/show/130346</td>\n",
       "      <td>NaN</td>\n",
       "      <td>['Classics', 'Fiction', 'Romance', 'Literature...</td>\n",
       "      <td>https://i.gr-assets.com/images/S/compressed.ph...</td>\n",
       "      <td>NaN</td>\n",
       "      <td>NaN</td>\n",
       "      <td>NaN</td>\n",
       "      <td>['https://i.gr-assets.com/images/S/compressed....</td>\n",
       "      <td>[]</td>\n",
       "      <td>['https://bucketforbookgallery.s3.ap-south-1.a...</td>\n",
       "      <td>[]</td>\n",
       "    </tr>\n",
       "    <tr>\n",
       "      <th>419</th>\n",
       "      <td>Jane Austen</td>\n",
       "      <td>9.781593e+12</td>\n",
       "      <td>1593082649</td>\n",
       "      <td>260</td>\n",
       "      <td>3.84</td>\n",
       "      <td>December 01, 1817</td>\n",
       "      <td>Northanger Abbey</td>\n",
       "      <td>Standalone</td>\n",
       "      <td>1</td>\n",
       "      <td>https://www.goodreads.com/book/show/50398</td>\n",
       "      <td>A wonderfully entertaining coming-of-age story...</td>\n",
       "      <td>['Classics', 'Fiction', 'Romance', 'Gothic', '...</td>\n",
       "      <td>https://i.gr-assets.com/images/S/compressed.ph...</td>\n",
       "      <td>NaN</td>\n",
       "      <td>NaN</td>\n",
       "      <td>Barnes &amp; Noble Classics</td>\n",
       "      <td>['https://i.gr-assets.com/images/S/compressed....</td>\n",
       "      <td>[]</td>\n",
       "      <td>['https://bucketforbookgallery.s3.ap-south-1.a...</td>\n",
       "      <td>[]</td>\n",
       "    </tr>\n",
       "    <tr>\n",
       "      <th>420</th>\n",
       "      <td>Jane Austen</td>\n",
       "      <td>9.780141e+12</td>\n",
       "      <td>0141439807</td>\n",
       "      <td>488</td>\n",
       "      <td>3.86</td>\n",
       "      <td>July 01, 1814</td>\n",
       "      <td>Mansfield Park</td>\n",
       "      <td>Standalone</td>\n",
       "      <td>1</td>\n",
       "      <td>https://www.goodreads.com/book/show/45032</td>\n",
       "      <td>Taken from the poverty of her parents' home in...</td>\n",
       "      <td>['Classics', 'Fiction', 'Romance', 'Historical...</td>\n",
       "      <td>https://i.gr-assets.com/images/S/compressed.ph...</td>\n",
       "      <td>NaN</td>\n",
       "      <td>NaN</td>\n",
       "      <td>Penguin Books</td>\n",
       "      <td>['https://i.gr-assets.com/images/S/compressed....</td>\n",
       "      <td>[]</td>\n",
       "      <td>['https://bucketforbookgallery.s3.ap-south-1.a...</td>\n",
       "      <td>[]</td>\n",
       "    </tr>\n",
       "    <tr>\n",
       "      <th>430</th>\n",
       "      <td>George R.R. Martin</td>\n",
       "      <td>NaN</td>\n",
       "      <td>NaN</td>\n",
       "      <td>1,218</td>\n",
       "      <td>4.54</td>\n",
       "      <td>August 08, 2000</td>\n",
       "      <td>A Storm of Swords</td>\n",
       "      <td>A Song of Ice and Fire</td>\n",
       "      <td>3</td>\n",
       "      <td>https://www.goodreads.com/book/show/62291</td>\n",
       "      <td>alternate cover for ISBN 055357342X/9780553573...</td>\n",
       "      <td>['Fantasy', 'Fiction', 'Fantasy', 'Epic Fantas...</td>\n",
       "      <td>https://i.gr-assets.com/images/S/compressed.ph...</td>\n",
       "      <td>NaN</td>\n",
       "      <td>NaN</td>\n",
       "      <td>Bantam</td>\n",
       "      <td>['https://i.gr-assets.com/images/S/compressed....</td>\n",
       "      <td>[]</td>\n",
       "      <td>['https://bucketforbookgallery.s3.ap-south-1.a...</td>\n",
       "      <td>[]</td>\n",
       "    </tr>\n",
       "    <tr>\n",
       "      <th>440</th>\n",
       "      <td>Suzanne Collins</td>\n",
       "      <td>9.780439e+12</td>\n",
       "      <td>0439023483</td>\n",
       "      <td>374</td>\n",
       "      <td>4.32</td>\n",
       "      <td>September 14, 2008</td>\n",
       "      <td>The Hunger Games</td>\n",
       "      <td>The Hunger Games</td>\n",
       "      <td>1</td>\n",
       "      <td>https://www.goodreads.com/book/show/73758</td>\n",
       "      <td>Kenzaburō Ōe, the winner of the 1994 Nobel Pri...</td>\n",
       "      <td>['Fiction', 'Cultural', 'Japan', 'Asian Litera...</td>\n",
       "      <td>https://i.gr-assets.com/images/S/compressed.ph...</td>\n",
       "      <td>NaN</td>\n",
       "      <td>NaN</td>\n",
       "      <td>NaN</td>\n",
       "      <td>['https://i.gr-assets.com/images/S/compressed....</td>\n",
       "      <td>[]</td>\n",
       "      <td>['https://bucketforbookgallery.s3.ap-south-1.a...</td>\n",
       "      <td>[]</td>\n",
       "    </tr>\n",
       "  </tbody>\n",
       "</table>\n",
       "<p>110 rows × 20 columns</p>\n",
       "</div>"
      ],
      "text/plain": [
       "                 Author       ISBN 13        ISBN Number of Pages  \\\n",
       "0      Patrick Rothfuss           NaN         NaN              93   \n",
       "1        Randall Munroe  9.780544e+12  0544272994             303   \n",
       "2      James S.A. Corey  9.780357e+12  0356510395             528   \n",
       "9      James S.A. Corey           NaN         NaN              30   \n",
       "11     James S.A. Corey           NaN         NaN              68   \n",
       "..                  ...           ...         ...             ...   \n",
       "417      Hilda D. Spear  9.780333e+12  0333372867              96   \n",
       "419         Jane Austen  9.781593e+12  1593082649             260   \n",
       "420         Jane Austen  9.780141e+12  0141439807             488   \n",
       "430  George R.R. Martin           NaN         NaN           1,218   \n",
       "440     Suzanne Collins  9.780439e+12  0439023483             374   \n",
       "\n",
       "     Average Rating    Publication Date  \\\n",
       "0              4.00    January 01, 2014   \n",
       "1              4.14  September 02, 2014   \n",
       "2              4.54   November 30, 2021   \n",
       "9              4.02   November 27, 2012   \n",
       "11             3.72    January 01, 2012   \n",
       "..              ...                 ...   \n",
       "417            4.14      April 04, 1985   \n",
       "419            3.84   December 01, 1817   \n",
       "420            3.86       July 01, 1814   \n",
       "430            4.54     August 08, 2000   \n",
       "440            4.32  September 14, 2008   \n",
       "\n",
       "                                                  Name  \\\n",
       "0                                   The Lightning Tree   \n",
       "1    What If? Serious Scientific Answers to Absurd ...   \n",
       "2                                      Leviathan Falls   \n",
       "9                                                Drive   \n",
       "11                                        Gods of Risk   \n",
       "..                                                 ...   \n",
       "417                  Wuthering Heights by Emily Brontë   \n",
       "419                                   Northanger Abbey   \n",
       "420                                     Mansfield Park   \n",
       "430                                  A Storm of Swords   \n",
       "440                                   The Hunger Games   \n",
       "\n",
       "                     Series  Volume  \\\n",
       "0                Standalone       1   \n",
       "1                  What If?       1   \n",
       "2               The Expanse       9   \n",
       "9               The Expanse       2   \n",
       "11              The Expanse       2   \n",
       "..                      ...     ...   \n",
       "417              Standalone       1   \n",
       "419              Standalone       1   \n",
       "420              Standalone       1   \n",
       "430  A Song of Ice and Fire       3   \n",
       "440        The Hunger Games       1   \n",
       "\n",
       "                                    Goodreads Url  \\\n",
       "0    https://www.goodreads.com/book/show/55262194   \n",
       "1    https://www.goodreads.com/book/show/21413662   \n",
       "2    https://www.goodreads.com/book/show/58783427   \n",
       "9    https://www.goodreads.com/book/show/25899877   \n",
       "11   https://www.goodreads.com/book/show/15837317   \n",
       "..                                            ...   \n",
       "417    https://www.goodreads.com/book/show/130346   \n",
       "419     https://www.goodreads.com/book/show/50398   \n",
       "420     https://www.goodreads.com/book/show/45032   \n",
       "430     https://www.goodreads.com/book/show/62291   \n",
       "440     https://www.goodreads.com/book/show/73758   \n",
       "\n",
       "                                           Description  \\\n",
       "0    The Lightning Tree is a companion short story ...   \n",
       "1    Randall Munroe left NASA in 2005 to start up h...   \n",
       "2    The Laconian Empire has fallen, setting the th...   \n",
       "9    Read \"Drive\", a Prequel to The Expanse series....   \n",
       "11   As tension between Mars and Earth mounts, and ...   \n",
       "..                                                 ...   \n",
       "417                                                NaN   \n",
       "419  A wonderfully entertaining coming-of-age story...   \n",
       "420  Taken from the poverty of her parents' home in...   \n",
       "430  alternate cover for ISBN 055357342X/9780553573...   \n",
       "440  Kenzaburō Ōe, the winner of the 1994 Nobel Pri...   \n",
       "\n",
       "                                                 Genre  \\\n",
       "0    ['Fantasy', 'Fiction', 'Short Stories', 'Fanta...   \n",
       "1    ['Nonfiction', 'Science', 'Humor', 'Audiobook'...   \n",
       "2    ['Science Fiction', 'Fiction', 'Space', 'Space...   \n",
       "9    ['Science Fiction', 'Fiction', 'Short Stories'...   \n",
       "11   ['Science Fiction', 'Fiction', 'Space', 'Space...   \n",
       "..                                                 ...   \n",
       "417  ['Classics', 'Fiction', 'Romance', 'Literature...   \n",
       "419  ['Classics', 'Fiction', 'Romance', 'Gothic', '...   \n",
       "420  ['Classics', 'Fiction', 'Romance', 'Historical...   \n",
       "430  ['Fantasy', 'Fiction', 'Fantasy', 'Epic Fantas...   \n",
       "440  ['Fiction', 'Cultural', 'Japan', 'Asian Litera...   \n",
       "\n",
       "                                             Image Url  \\\n",
       "0    https://i.gr-assets.com/images/S/compressed.ph...   \n",
       "1    https://i.gr-assets.com/images/S/compressed.ph...   \n",
       "2                                                  NaN   \n",
       "9    https://i.gr-assets.com/images/S/compressed.ph...   \n",
       "11   https://i.gr-assets.com/images/S/compressed.ph...   \n",
       "..                                                 ...   \n",
       "417  https://i.gr-assets.com/images/S/compressed.ph...   \n",
       "419  https://i.gr-assets.com/images/S/compressed.ph...   \n",
       "420  https://i.gr-assets.com/images/S/compressed.ph...   \n",
       "430  https://i.gr-assets.com/images/S/compressed.ph...   \n",
       "440  https://i.gr-assets.com/images/S/compressed.ph...   \n",
       "\n",
       "                                             Low Links High Links  \\\n",
       "0                                                  NaN        NaN   \n",
       "1                                                  NaN        NaN   \n",
       "2    {'1x': ['https://m.media-amazon.com/images/I/8...        NaN   \n",
       "9    {'1x': ['https://m.media-amazon.com/images/I/7...        NaN   \n",
       "11   {'1x': ['https://m.media-amazon.com/images/I/8...        NaN   \n",
       "..                                                 ...        ...   \n",
       "417                                                NaN        NaN   \n",
       "419                                                NaN        NaN   \n",
       "420                                                NaN        NaN   \n",
       "430                                                NaN        NaN   \n",
       "440                                                NaN        NaN   \n",
       "\n",
       "                  Publishers  \\\n",
       "0                        NaN   \n",
       "1              Mariner Books   \n",
       "2                        NaN   \n",
       "9                       SyFy   \n",
       "11                     Orbit   \n",
       "..                       ...   \n",
       "417                      NaN   \n",
       "419  Barnes & Noble Classics   \n",
       "420            Penguin Books   \n",
       "430                   Bantam   \n",
       "440                      NaN   \n",
       "\n",
       "                                     Low_Res_Image_Url  \\\n",
       "0    ['https://i.gr-assets.com/images/S/compressed....   \n",
       "1    ['https://i.gr-assets.com/images/S/compressed....   \n",
       "2    ['https://m.media-amazon.com/images/I/81bxeFvk...   \n",
       "9    ['https://i.gr-assets.com/images/S/compressed....   \n",
       "11   ['https://i.gr-assets.com/images/S/compressed....   \n",
       "..                                                 ...   \n",
       "417  ['https://i.gr-assets.com/images/S/compressed....   \n",
       "419  ['https://i.gr-assets.com/images/S/compressed....   \n",
       "420  ['https://i.gr-assets.com/images/S/compressed....   \n",
       "430  ['https://i.gr-assets.com/images/S/compressed....   \n",
       "440  ['https://i.gr-assets.com/images/S/compressed....   \n",
       "\n",
       "                                    High_Res_Image_Url  \\\n",
       "0                                                   []   \n",
       "1                                                   []   \n",
       "2    ['https://m.media-amazon.com/images/I/81bxeFvk...   \n",
       "9    ['https://m.media-amazon.com/images/I/71tfW-GC...   \n",
       "11   ['https://m.media-amazon.com/images/I/81ZhBPQ6...   \n",
       "..                                                 ...   \n",
       "417                                                 []   \n",
       "419                                                 []   \n",
       "420                                                 []   \n",
       "430                                                 []   \n",
       "440                                                 []   \n",
       "\n",
       "                                 New_Low_Res_Image_Url  \\\n",
       "0    ['https://bucketforbookgallery.s3.ap-south-1.a...   \n",
       "1    ['https://bucketforbookgallery.s3.ap-south-1.a...   \n",
       "2    ['https://bucketforbookgallery.s3.ap-south-1.a...   \n",
       "9    ['https://bucketforbookgallery.s3.ap-south-1.a...   \n",
       "11   ['https://bucketforbookgallery.s3.ap-south-1.a...   \n",
       "..                                                 ...   \n",
       "417  ['https://bucketforbookgallery.s3.ap-south-1.a...   \n",
       "419  ['https://bucketforbookgallery.s3.ap-south-1.a...   \n",
       "420  ['https://bucketforbookgallery.s3.ap-south-1.a...   \n",
       "430  ['https://bucketforbookgallery.s3.ap-south-1.a...   \n",
       "440  ['https://bucketforbookgallery.s3.ap-south-1.a...   \n",
       "\n",
       "                                New_High_Res_Image_Url  \n",
       "0                                                   []  \n",
       "1                                                   []  \n",
       "2    ['https://bucketforbookgallery.s3.ap-south-1.a...  \n",
       "9    ['https://bucketforbookgallery.s3.ap-south-1.a...  \n",
       "11   ['https://bucketforbookgallery.s3.ap-south-1.a...  \n",
       "..                                                 ...  \n",
       "417                                                 []  \n",
       "419                                                 []  \n",
       "420                                                 []  \n",
       "430                                                 []  \n",
       "440                                                 []  \n",
       "\n",
       "[110 rows x 20 columns]"
      ]
     },
     "execution_count": 26,
     "metadata": {},
     "output_type": "execute_result"
    }
   ],
   "source": [
    "df[df[\"High Links\"].isna()]"
   ]
  },
  {
   "cell_type": "code",
   "execution_count": 6,
   "metadata": {},
   "outputs": [],
   "source": [
    "df[\"High Links\"].fillna(value=\"['https://images-na.ssl-images-amazon.com/images/I/21-kmLZ9t0L.jpg', 'https://d1lp72kdku3ux1.cloudfront.net/title_instance/8db/small/612711.jpg']\", inplace=True)"
   ]
  },
  {
   "cell_type": "code",
   "execution_count": 9,
   "metadata": {},
   "outputs": [],
   "source": [
    "df[\"Low Links\"].fillna(value=\"['https://images-na.ssl-images-amazon.com/images/I/21-kmLZ9t0L.jpg', 'https://d1lp72kdku3ux1.cloudfront.net/title_instance/8db/small/612711.jpg']\", inplace=True)"
   ]
  },
  {
   "cell_type": "code",
   "execution_count": 10,
   "metadata": {},
   "outputs": [
    {
     "data": {
      "text/plain": [
       "0"
      ]
     },
     "execution_count": 10,
     "metadata": {},
     "output_type": "execute_result"
    }
   ],
   "source": [
    "df.Genre.isna().sum()"
   ]
  },
  {
   "cell_type": "markdown",
   "metadata": {},
   "source": [
    "# Creating the JSON"
   ]
  },
  {
   "cell_type": "code",
   "execution_count": 8,
   "metadata": {},
   "outputs": [],
   "source": [
    "sample = {\n",
    "        \"name\": \"Rhythm of War\",\n",
    "        \"author\": \"Brandon Sanderson\",\n",
    "        \"genre\": [\n",
    "            \"Fantasy\",\n",
    "            \"Epic Fantasy\"\n",
    "        ],\n",
    "        \"language\": \"English\",\n",
    "        \"numPages\": 1220,\n",
    "        \"description\": \"After forming a coalition of human resistance against the enemy invasion, Dalinar Kholin and his Knights Radiant have spent a year fighting a protracted, brutal war. Neither side has gained an advantage, and the threat of a betrayal by Dalinar's crafty ally Taravangian looms over every strategic move./n Now, as new technological discoveries by Navani Kholin's scholars begin to change the face of the war, the enemy prepares a bold and dangerous operation. The arms race that follows will challenge the very core of the Radiant ideals, and potentially reveal the secrets of the ancient tower that was once the heart of their strength./n At the same time that Kaladin Stormblessed must come to grips with his changing role within the Knights Radiant, his Windrunners face their own problem: As more and more deadly enemy Fused awaken to wage war, no more honorspren are willing to bond with humans to increase the number of Radiants. Adolin and Shallan must lead the coalition’s envoy to the honorspren stronghold of Lasting Integrity and either convince the spren to join the cause against the evil god Odium, or personally face the storm of failure.\",\n",
    "        \"yearPublished\": 2020,\n",
    "        \"series\": \"Stormlight Archive\",\n",
    "        \"ISBN\": 9780765326386,\n",
    "        \"avgRating\": 4.62,\n",
    "        \"publisher\": \"Tor Books\",\n",
    "        \"imgUrlsLow\": [\n",
    "            \"https://images-na.ssl-images-amazon.com/images/I/51-X-Q-X-QL._SX331_BO1,204,203,200_.jpg\"\n",
    "        ],\n",
    "        \"imgUrlsHigh\": [\n",
    "            \"/images/400/Rhythm  400px.png\",\n",
    "            \"/images/400/Jane Eyre.jpg\",\n",
    "            \"/images/400/Harry Potter and the Prisoner Azkaban 400px.png\"\n",
    "        ]\n",
    "    },"
   ]
  },
  {
   "cell_type": "code",
   "execution_count": 9,
   "metadata": {},
   "outputs": [
    {
     "data": {
      "text/plain": [
       "Index(['Author', 'ISBN 13', 'ISBN', 'Number of Pages', 'Average Rating',\n",
       "       'Publication Date', 'Name', 'Series', 'Volume', 'Goodreads Url',\n",
       "       'Description', 'Genre', 'Image Url', 'Low Links', 'High Links',\n",
       "       'Publishers', 'Low_Res_Image_Url', 'High_Res_Image_Url',\n",
       "       'New_Low_Res_Image_Url', 'New_High_Res_Image_Url'],\n",
       "      dtype='object')"
      ]
     },
     "execution_count": 9,
     "metadata": {},
     "output_type": "execute_result"
    }
   ],
   "source": [
    "df.columns"
   ]
  },
  {
   "cell_type": "code",
   "execution_count": 10,
   "metadata": {},
   "outputs": [
    {
     "data": {
      "text/plain": [
       "['Science Fiction', 'Fiction', 'Space', 'Space Opera', 'Audiobook', 'Space']"
      ]
     },
     "execution_count": 10,
     "metadata": {},
     "output_type": "execute_result"
    }
   ],
   "source": [
    "ast.literal_eval(df.iloc[10][\"Genre\"])"
   ]
  },
  {
   "cell_type": "code",
   "execution_count": 11,
   "metadata": {},
   "outputs": [
    {
     "data": {
      "text/plain": [
       "(\"['https://i.gr-assets.com/images/S/compressed.photo.goodreads.com/books/1407572377l/12591698.jpg', 'https://m.media-amazon.com/images/I/81t2pcbfgrL._AC_UY327_FMwebp_QL65_.jpg', 'https://m.media-amazon.com/images/I/71XBl40bfiL._AC_UY218_.jpg', 'https://m.media-amazon.com/images/I/71XBl40bfiL._AC_UY654_FMwebp_QL65_.jpg']\",\n",
       " \"['https://bucketforbookgallery.s3.ap-south-1.amazonaws.com/images/low/12591698.jpg', 'https://bucketforbookgallery.s3.ap-south-1.amazonaws.com/images/low/81t2pcbfgrL._AC_UY327_FMwebp_QL65_.jpg', 'https://bucketforbookgallery.s3.ap-south-1.amazonaws.com/images/low/71XBl40bfiL._AC_UY218_.jpg', 'https://bucketforbookgallery.s3.ap-south-1.amazonaws.com/images/low/71XBl40bfiL._AC_UY654_FMwebp_QL65_.jpg']\")"
      ]
     },
     "execution_count": 11,
     "metadata": {},
     "output_type": "execute_result"
    }
   ],
   "source": [
    "df.iloc[10][\"Low_Res_Image_Url\"], df.iloc[10][\"New_Low_Res_Image_Url\"]"
   ]
  },
  {
   "cell_type": "code",
   "execution_count": 15,
   "metadata": {},
   "outputs": [
    {
     "name": "stderr",
     "output_type": "stream",
     "text": [
      "100%|██████████| 450/450 [00:01<00:00, 314.38it/s]\n"
     ]
    }
   ],
   "source": [
    "the_json = []\n",
    "for i in tqdm.tqdm(range(df.shape[0])):\n",
    "    name = df.iloc[i][\"Name\"]\n",
    "    author = df.iloc[i][\"Author\"]\n",
    "    try:\n",
    "        genre = list(ast.literal_eval(df.iloc[i][\"Genre\"]))\n",
    "    except:\n",
    "        genre = ast.literal_eval(df.iloc[i][\"Genre\"])\n",
    "    language = \"English\"\n",
    "    numPages = df.iloc[i][\"Number of Pages\"]\n",
    "    description = df.iloc[i][\"Description\"]\n",
    "    yearPublished = df.iloc[i][\"Publication Date\"]\n",
    "    series = df.iloc[i][\"Series\"]\n",
    "    ISBN = df.iloc[i][\"ISBN 13\"]\n",
    "    avgRating = df.iloc[i][\"Average Rating\"]\n",
    "    publisher = df.iloc[i][\"Publishers\"]\n",
    "    imgUrlsLow = list(ast.literal_eval(df.iloc[i][\"New_Low_Res_Image_Url\"]))\n",
    "    imgUrlsHigh = list(ast.literal_eval(df.iloc[i][\"New_High_Res_Image_Url\"]))\n",
    "    temp_dict = {\n",
    "        \"name\": name,\n",
    "        \"author\": author,\n",
    "        \"genre\": genre,\n",
    "        \"language\": language,\n",
    "        \"numPages\": numPages,\n",
    "        \"description\": description,\n",
    "        \"yearPublished\": yearPublished,\n",
    "        \"series\": series,\n",
    "        \"ISBN\": ISBN,\n",
    "        \"avgRating\": avgRating,\n",
    "        \"publisher\": publisher,\n",
    "        \"imgUrlsLow\": imgUrlsLow,\n",
    "        \"imgUrlsHigh\": imgUrlsHigh\n",
    "    }\n",
    "    the_json.append(temp_dict)"
   ]
  },
  {
   "cell_type": "code",
   "execution_count": 62,
   "metadata": {},
   "outputs": [
    {
     "data": {
      "text/plain": [
       "449"
      ]
     },
     "execution_count": 62,
     "metadata": {},
     "output_type": "execute_result"
    }
   ],
   "source": [
    "i"
   ]
  },
  {
   "cell_type": "code",
   "execution_count": 20,
   "metadata": {},
   "outputs": [
    {
     "data": {
      "text/plain": [
       "['Classics',\n",
       " 'Fiction',\n",
       " 'Romance',\n",
       " 'Historical',\n",
       " 'Historical Fiction',\n",
       " 'Literature']"
      ]
     },
     "execution_count": 20,
     "metadata": {},
     "output_type": "execute_result"
    }
   ],
   "source": [
    "genre"
   ]
  },
  {
   "cell_type": "code",
   "execution_count": 16,
   "metadata": {},
   "outputs": [
    {
     "data": {
      "text/plain": [
       "['Science Fiction', 'Young Adult', 'Fantasy', 'Romance', 'Audiobook']"
      ]
     },
     "execution_count": 16,
     "metadata": {},
     "output_type": "execute_result"
    }
   ],
   "source": [
    "the_json[100][\"genre\"]"
   ]
  },
  {
   "cell_type": "code",
   "execution_count": 17,
   "metadata": {},
   "outputs": [
    {
     "data": {
      "text/plain": [
       "['https://bucketforbookgallery.s3.ap-south-1.amazonaws.com/images/high/519FCkOOYRL.jpg',\n",
       " 'https://bucketforbookgallery.s3.ap-south-1.amazonaws.com/images/high/81ak4DBpIpL.jpg',\n",
       " 'https://bucketforbookgallery.s3.ap-south-1.amazonaws.com/images/high/61kCfD5R8PL.jpg',\n",
       " 'https://bucketforbookgallery.s3.ap-south-1.amazonaws.com/images/high/519FCkOOYRL.jpg',\n",
       " 'https://bucketforbookgallery.s3.ap-south-1.amazonaws.com/images/high/81vRz5AdpmL.jpg',\n",
       " 'https://bucketforbookgallery.s3.ap-south-1.amazonaws.com/images/high/91XbN+bLNDL.jpg',\n",
       " 'https://bucketforbookgallery.s3.ap-south-1.amazonaws.com/images/high/81ak4DBpIpL._AC_UY436_FMwebp_QL65_.jpg',\n",
       " 'https://bucketforbookgallery.s3.ap-south-1.amazonaws.com/images/high/61kCfD5R8PL._AC_UY327_FMwebp_QL65_.jpg']"
      ]
     },
     "execution_count": 17,
     "metadata": {},
     "output_type": "execute_result"
    }
   ],
   "source": [
    "the_json[100][\"imgUrlsHigh\"]"
   ]
  },
  {
   "cell_type": "code",
   "execution_count": 18,
   "metadata": {},
   "outputs": [],
   "source": [
    "json_file = open(\"../FINAL_2.json\", \"w\")\n",
    "json_file.write(json.dumps(the_json))\n",
    "json_file.close()"
   ]
  },
  {
   "cell_type": "code",
   "execution_count": null,
   "metadata": {},
   "outputs": [],
   "source": []
  }
 ],
 "metadata": {
  "kernelspec": {
   "display_name": "Python 3.8.5",
   "language": "python",
   "name": "python3"
  },
  "language_info": {
   "codemirror_mode": {
    "name": "ipython",
    "version": 3
   },
   "file_extension": ".py",
   "mimetype": "text/x-python",
   "name": "python",
   "nbconvert_exporter": "python",
   "pygments_lexer": "ipython3",
   "version": "3.8.5"
  },
  "orig_nbformat": 4,
  "vscode": {
   "interpreter": {
    "hash": "21040c1b576dca9f4f330277849b9f4819256d524dee23c2b89e431027dafe11"
   }
  }
 },
 "nbformat": 4,
 "nbformat_minor": 2
}
