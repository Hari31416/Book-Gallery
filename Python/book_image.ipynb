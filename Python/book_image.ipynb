{
 "cells": [
  {
   "cell_type": "markdown",
   "metadata": {},
   "source": [
    "# Imports"
   ]
  },
  {
   "cell_type": "code",
   "execution_count": 1,
   "metadata": {},
   "outputs": [],
   "source": [
    "import webdriver_manager\n",
    "from selenium.webdriver.common.by import By\n",
    "from selenium.webdriver.common.keys import Keys\n",
    "from selenium import webdriver\n",
    "from webdriver_manager.chrome import ChromeDriverManager\n",
    "from webdriver_manager.firefox import GeckoDriverManager\n",
    "from IPython.display import clear_output\n",
    "import time\n",
    "import pandas as pd\n",
    "import requests\n",
    "from PIL import Image\n",
    "from io import BytesIO\n",
    "import os\n",
    "import json\n",
    "import vlc\n",
    "import re\n",
    "import tqdm\n",
    "import numpy as np"
   ]
  },
  {
   "cell_type": "markdown",
   "metadata": {},
   "source": [
    "# Getting Ready"
   ]
  },
  {
   "cell_type": "code",
   "execution_count": 2,
   "metadata": {},
   "outputs": [
    {
     "name": "stderr",
     "output_type": "stream",
     "text": [
      "\n",
      "\n",
      "====== WebDriver manager ======\n",
      "Current google-chrome version is 103.0.5060\n",
      "Get LATEST chromedriver version for 103.0.5060 google-chrome\n",
      "Trying to download new driver from https://chromedriver.storage.googleapis.com/103.0.5060.53/chromedriver_win32.zip\n",
      "Driver has been saved in cache [C:\\Users\\harik\\.wdm\\drivers\\chromedriver\\win32\\103.0.5060.53]\n",
      "<ipython-input-2-4eb2002836ca>:3: DeprecationWarning: executable_path has been deprecated, please pass in a Service object\n",
      "  driver = webdriver.Chrome(package)\n"
     ]
    }
   ],
   "source": [
    "#Open ChromeDriver\n",
    "package = ChromeDriverManager().install()\n",
    "driver = webdriver.Chrome(package)\n",
    "# driver.get(\"https://www.amazon.in/s?k=Dune&i=stripbooks\")"
   ]
  },
  {
   "cell_type": "code",
   "execution_count": 7,
   "metadata": {},
   "outputs": [
    {
     "data": {
      "text/html": [
       "<div>\n",
       "<style scoped>\n",
       "    .dataframe tbody tr th:only-of-type {\n",
       "        vertical-align: middle;\n",
       "    }\n",
       "\n",
       "    .dataframe tbody tr th {\n",
       "        vertical-align: top;\n",
       "    }\n",
       "\n",
       "    .dataframe thead th {\n",
       "        text-align: right;\n",
       "    }\n",
       "</style>\n",
       "<table border=\"1\" class=\"dataframe\">\n",
       "  <thead>\n",
       "    <tr style=\"text-align: right;\">\n",
       "      <th></th>\n",
       "      <th>Book Name</th>\n",
       "      <th>Author</th>\n",
       "      <th>ISBN 13</th>\n",
       "      <th>ISBN</th>\n",
       "      <th>Number of Pages</th>\n",
       "      <th>Average Rating</th>\n",
       "      <th>Total Number of Ratings</th>\n",
       "      <th>Publication Date</th>\n",
       "      <th>Date Started</th>\n",
       "      <th>Date Completed</th>\n",
       "      <th>Name</th>\n",
       "      <th>Series</th>\n",
       "      <th>Volume</th>\n",
       "      <th>Goodreads Url</th>\n",
       "      <th>Description</th>\n",
       "      <th>Genre</th>\n",
       "      <th>Image Url</th>\n",
       "      <th>Low Links</th>\n",
       "      <th>High Links</th>\n",
       "    </tr>\n",
       "  </thead>\n",
       "  <tbody>\n",
       "    <tr>\n",
       "      <th>0</th>\n",
       "      <td>The Lightning Tree</td>\n",
       "      <td>Patrick Rothfuss</td>\n",
       "      <td>NaN</td>\n",
       "      <td>NaN</td>\n",
       "      <td>93</td>\n",
       "      <td>4.00</td>\n",
       "      <td>2156</td>\n",
       "      <td>2014-01-01</td>\n",
       "      <td>2022-04-16</td>\n",
       "      <td>2022-04-16</td>\n",
       "      <td>The Lightning Tree</td>\n",
       "      <td>Standalone</td>\n",
       "      <td>1</td>\n",
       "      <td>https://www.goodreads.com/book/show/55262194</td>\n",
       "      <td>The Lightning Tree is a companion short story ...</td>\n",
       "      <td>['Fantasy', 'Fiction', 'Short Stories', 'Fanta...</td>\n",
       "      <td>https://i.gr-assets.com/images/S/compressed.ph...</td>\n",
       "      <td>{'1x': [], '1.5x': [], '2x': [], '2.5x': [], '...</td>\n",
       "      <td>[]</td>\n",
       "    </tr>\n",
       "    <tr>\n",
       "      <th>1</th>\n",
       "      <td>What If? Serious Scientific Answers to Absurd ...</td>\n",
       "      <td>Randall Munroe</td>\n",
       "      <td>9.780544e+12</td>\n",
       "      <td>0544272994</td>\n",
       "      <td>303</td>\n",
       "      <td>4.14</td>\n",
       "      <td>151303</td>\n",
       "      <td>2014-09-02</td>\n",
       "      <td>NaN</td>\n",
       "      <td>NaN</td>\n",
       "      <td>What If? Serious Scientific Answers to Absurd ...</td>\n",
       "      <td>What If?</td>\n",
       "      <td>1</td>\n",
       "      <td>https://www.goodreads.com/book/show/21413662</td>\n",
       "      <td>Randall Munroe left NASA in 2005 to start up h...</td>\n",
       "      <td>['Nonfiction', 'Science', 'Humor', 'Audiobook'...</td>\n",
       "      <td>https://i.gr-assets.com/images/S/compressed.ph...</td>\n",
       "      <td>NaN</td>\n",
       "      <td>NaN</td>\n",
       "    </tr>\n",
       "    <tr>\n",
       "      <th>2</th>\n",
       "      <td>Leviathan Falls (The Expanse, #9)</td>\n",
       "      <td>James S.A. Corey</td>\n",
       "      <td>9.780357e+12</td>\n",
       "      <td>0356510395</td>\n",
       "      <td>528</td>\n",
       "      <td>4.54</td>\n",
       "      <td>31066</td>\n",
       "      <td>2021-11-30</td>\n",
       "      <td>NaN</td>\n",
       "      <td>NaN</td>\n",
       "      <td>Leviathan Falls</td>\n",
       "      <td>The Expanse</td>\n",
       "      <td>9</td>\n",
       "      <td>https://www.goodreads.com/book/show/58783427</td>\n",
       "      <td>The Laconian Empire has fallen, setting the th...</td>\n",
       "      <td>['Science Fiction', 'Fiction', 'Space', 'Space...</td>\n",
       "      <td>NaN</td>\n",
       "      <td>{'1x': ['https://m.media-amazon.com/images/I/8...</td>\n",
       "      <td>[]</td>\n",
       "    </tr>\n",
       "    <tr>\n",
       "      <th>3</th>\n",
       "      <td>Tiamat's Wrath (The Expanse, #8)</td>\n",
       "      <td>James S.A. Corey</td>\n",
       "      <td>9.780316e+12</td>\n",
       "      <td>0316332879</td>\n",
       "      <td>534</td>\n",
       "      <td>4.57</td>\n",
       "      <td>47842</td>\n",
       "      <td>2019-03-26</td>\n",
       "      <td>NaN</td>\n",
       "      <td>NaN</td>\n",
       "      <td>Tiamat's Wrath</td>\n",
       "      <td>The Expanse</td>\n",
       "      <td>8</td>\n",
       "      <td>https://www.goodreads.com/book/show/28335698</td>\n",
       "      <td>Thirteen hundred gates have opened to solar sy...</td>\n",
       "      <td>['Science Fiction', 'Fiction', 'Space', 'Space...</td>\n",
       "      <td>https://i.gr-assets.com/images/S/compressed.ph...</td>\n",
       "      <td>{'1x': ['https://m.media-amazon.com/images/I/8...</td>\n",
       "      <td>['https://images-na.ssl-images-amazon.com/imag...</td>\n",
       "    </tr>\n",
       "    <tr>\n",
       "      <th>4</th>\n",
       "      <td>Persepolis Rising (The Expanse, #7)</td>\n",
       "      <td>James S.A. Corey</td>\n",
       "      <td>9.780316e+12</td>\n",
       "      <td>0316332828</td>\n",
       "      <td>608</td>\n",
       "      <td>4.37</td>\n",
       "      <td>53386</td>\n",
       "      <td>2017-12-05</td>\n",
       "      <td>2022-06-02</td>\n",
       "      <td>NaN</td>\n",
       "      <td>Persepolis Rising</td>\n",
       "      <td>The Expanse</td>\n",
       "      <td>7</td>\n",
       "      <td>https://www.goodreads.com/book/show/28335696</td>\n",
       "      <td>In the thousand-sun network of humanity's expa...</td>\n",
       "      <td>['Science Fiction', 'Fiction', 'Space', 'Space...</td>\n",
       "      <td>https://i.gr-assets.com/images/S/compressed.ph...</td>\n",
       "      <td>{'1x': ['https://m.media-amazon.com/images/I/9...</td>\n",
       "      <td>['https://images-na.ssl-images-amazon.com/imag...</td>\n",
       "    </tr>\n",
       "  </tbody>\n",
       "</table>\n",
       "</div>"
      ],
      "text/plain": [
       "                                           Book Name            Author  \\\n",
       "0                                 The Lightning Tree  Patrick Rothfuss   \n",
       "1  What If? Serious Scientific Answers to Absurd ...    Randall Munroe   \n",
       "2                  Leviathan Falls (The Expanse, #9)  James S.A. Corey   \n",
       "3                   Tiamat's Wrath (The Expanse, #8)  James S.A. Corey   \n",
       "4                Persepolis Rising (The Expanse, #7)  James S.A. Corey   \n",
       "\n",
       "        ISBN 13        ISBN Number of Pages  Average Rating  \\\n",
       "0           NaN         NaN              93            4.00   \n",
       "1  9.780544e+12  0544272994             303            4.14   \n",
       "2  9.780357e+12  0356510395             528            4.54   \n",
       "3  9.780316e+12  0316332879             534            4.57   \n",
       "4  9.780316e+12  0316332828             608            4.37   \n",
       "\n",
       "   Total Number of Ratings Publication Date Date Started Date Completed  \\\n",
       "0                     2156       2014-01-01   2022-04-16     2022-04-16   \n",
       "1                   151303       2014-09-02          NaN            NaN   \n",
       "2                    31066       2021-11-30          NaN            NaN   \n",
       "3                    47842       2019-03-26          NaN            NaN   \n",
       "4                    53386       2017-12-05   2022-06-02            NaN   \n",
       "\n",
       "                                                Name       Series  Volume  \\\n",
       "0                                 The Lightning Tree   Standalone       1   \n",
       "1  What If? Serious Scientific Answers to Absurd ...     What If?       1   \n",
       "2                                    Leviathan Falls  The Expanse       9   \n",
       "3                                     Tiamat's Wrath  The Expanse       8   \n",
       "4                                  Persepolis Rising  The Expanse       7   \n",
       "\n",
       "                                  Goodreads Url  \\\n",
       "0  https://www.goodreads.com/book/show/55262194   \n",
       "1  https://www.goodreads.com/book/show/21413662   \n",
       "2  https://www.goodreads.com/book/show/58783427   \n",
       "3  https://www.goodreads.com/book/show/28335698   \n",
       "4  https://www.goodreads.com/book/show/28335696   \n",
       "\n",
       "                                         Description  \\\n",
       "0  The Lightning Tree is a companion short story ...   \n",
       "1  Randall Munroe left NASA in 2005 to start up h...   \n",
       "2  The Laconian Empire has fallen, setting the th...   \n",
       "3  Thirteen hundred gates have opened to solar sy...   \n",
       "4  In the thousand-sun network of humanity's expa...   \n",
       "\n",
       "                                               Genre  \\\n",
       "0  ['Fantasy', 'Fiction', 'Short Stories', 'Fanta...   \n",
       "1  ['Nonfiction', 'Science', 'Humor', 'Audiobook'...   \n",
       "2  ['Science Fiction', 'Fiction', 'Space', 'Space...   \n",
       "3  ['Science Fiction', 'Fiction', 'Space', 'Space...   \n",
       "4  ['Science Fiction', 'Fiction', 'Space', 'Space...   \n",
       "\n",
       "                                           Image Url  \\\n",
       "0  https://i.gr-assets.com/images/S/compressed.ph...   \n",
       "1  https://i.gr-assets.com/images/S/compressed.ph...   \n",
       "2                                                NaN   \n",
       "3  https://i.gr-assets.com/images/S/compressed.ph...   \n",
       "4  https://i.gr-assets.com/images/S/compressed.ph...   \n",
       "\n",
       "                                           Low Links  \\\n",
       "0  {'1x': [], '1.5x': [], '2x': [], '2.5x': [], '...   \n",
       "1                                                NaN   \n",
       "2  {'1x': ['https://m.media-amazon.com/images/I/8...   \n",
       "3  {'1x': ['https://m.media-amazon.com/images/I/8...   \n",
       "4  {'1x': ['https://m.media-amazon.com/images/I/9...   \n",
       "\n",
       "                                          High Links  \n",
       "0                                                 []  \n",
       "1                                                NaN  \n",
       "2                                                 []  \n",
       "3  ['https://images-na.ssl-images-amazon.com/imag...  \n",
       "4  ['https://images-na.ssl-images-amazon.com/imag...  "
      ]
     },
     "execution_count": 7,
     "metadata": {},
     "output_type": "execute_result"
    }
   ],
   "source": [
    "books = pd.read_csv(\"Final_Books_With_Images.csv\")\n",
    "books.head()"
   ]
  },
  {
   "cell_type": "code",
   "execution_count": 8,
   "metadata": {},
   "outputs": [],
   "source": [
    "book_names = books['Name']\n",
    "authors = books['Author']"
   ]
  },
  {
   "cell_type": "code",
   "execution_count": 9,
   "metadata": {},
   "outputs": [
    {
     "name": "stdout",
     "output_type": "stream",
     "text": [
      "Caliban's War James S.A. Corey\n"
     ]
    }
   ],
   "source": [
    "print(f\"{book_names[10]} {authors[10]}\")"
   ]
  },
  {
   "cell_type": "markdown",
   "metadata": {},
   "source": [
    "# Getting Image Urls"
   ]
  },
  {
   "cell_type": "markdown",
   "metadata": {},
   "source": [
    "## Using Amazon"
   ]
  },
  {
   "cell_type": "code",
   "execution_count": 33,
   "metadata": {},
   "outputs": [],
   "source": [
    "def get_images_from_amazon(book, author, num = 3):\n",
    "    link = \"https://www.amazon.in/s?k=\" + book+ \" \" + author + \"&i=stripbooks\"\n",
    "    print(\"Opening Url\")\n",
    "    driver.get(link)\n",
    "    print(\"Getting Image tags\")\n",
    "    \n",
    "    i=0\n",
    "    j=0\n",
    "    raw_img_srcs = []\n",
    "    high_image_urls = []\n",
    "    max_tries = 10\n",
    "    while True:\n",
    "        image = driver.find_elements(By.CLASS_NAME, \"s-image\")[i]\n",
    "        j+=1\n",
    "        try:\n",
    "            if book.lower()[:10] in image.get_attribute(\"alt\").lower():\n",
    "                print(\"Getting image srcs\")\n",
    "                raw_img_srcs.append(image.get_property(\"srcset\"))\n",
    "                i+=1\n",
    "                print(\"Clicking on image\")\n",
    "                image.click()\n",
    "                print(\"Switching to new window\")\n",
    "                driver.switch_to.window(driver.window_handles[-1])\n",
    "                print(\"Clicking on thumb button\")\n",
    "                try:\n",
    "                    driver.find_elements(By.CLASS_NAME, \"thumb-text\")[0].click()\n",
    "                    print(\"Getting High Resolution Image\")\n",
    "                    for el in driver.find_elements(By.CLASS_NAME, \"ig-thumb-image\"):\n",
    "                        el.click()\n",
    "                        high_image_urls.append(driver.find_elements(By.ID, \"igImage\")[0].get_attribute(\"src\"))\n",
    "                except:\n",
    "                    print(\"It did not worked. Trying the next image.\")\n",
    "                print(\"Closing the Extra Window\")\n",
    "                driver.close()\n",
    "                print(\"Switching to the Main Window\")\n",
    "                driver.switch_to.window(driver.window_handles[0])\n",
    "        except Exception as e:\n",
    "            print(e)\n",
    "            print(\"Error in getting image\")\n",
    "            if j>max_tries:\n",
    "                break\n",
    "        if i == num:\n",
    "            break\n",
    "        if j == max_tries:\n",
    "            break\n",
    "    return raw_img_srcs, high_image_urls"
   ]
  },
  {
   "cell_type": "code",
   "execution_count": 52,
   "metadata": {},
   "outputs": [
    {
     "name": "stderr",
     "output_type": "stream",
     "text": [
      "\n",
      "\n",
      "====== WebDriver manager ======\n",
      "Current google-chrome version is 103.0.5060\n",
      "Get LATEST chromedriver version for 103.0.5060 google-chrome\n",
      "Driver [C:\\Users\\harik\\.wdm\\drivers\\chromedriver\\win32\\103.0.5060.53\\chromedriver.exe] found in cache\n",
      "<ipython-input-52-2192dd8f43b5>:2: DeprecationWarning: executable_path has been deprecated, please pass in a Service object\n",
      "  driver = webdriver.Chrome(package)\n"
     ]
    }
   ],
   "source": [
    "package = ChromeDriverManager().install()\n",
    "driver = webdriver.Chrome(package)"
   ]
  },
  {
   "cell_type": "code",
   "execution_count": 68,
   "metadata": {},
   "outputs": [
    {
     "name": "stdout",
     "output_type": "stream",
     "text": [
      "Opening Url\n",
      "Getting Image tags\n",
      "Getting image srcs\n",
      "Clicking on image\n",
      "Switching to new window\n",
      "Clicking on thumb button\n",
      "Getting High Resolution Image\n",
      "Closing the Extra Window\n",
      "Switching to the Main Window\n",
      "Getting image srcs\n",
      "Clicking on image\n",
      "Switching to new window\n",
      "Clicking on thumb button\n",
      "It did not worked. Trying the next image.\n",
      "Closing the Extra Window\n",
      "Switching to the Main Window\n",
      "Getting image srcs\n",
      "Clicking on image\n",
      "Switching to new window\n",
      "Clicking on thumb button\n",
      "Getting High Resolution Image\n",
      "Closing the Extra Window\n",
      "Switching to the Main Window\n"
     ]
    }
   ],
   "source": [
    "low, high = get_images_from_amazon(book_names[20], authors[20])"
   ]
  },
  {
   "cell_type": "code",
   "execution_count": 69,
   "metadata": {},
   "outputs": [
    {
     "data": {
      "text/plain": [
       "(['https://m.media-amazon.com/images/I/71XBl40bfiL._AC_UY218_.jpg 1x, https://m.media-amazon.com/images/I/71XBl40bfiL._AC_UY327_FMwebp_QL65_.jpg 1.5x, https://m.media-amazon.com/images/I/71XBl40bfiL._AC_UY436_FMwebp_QL65_.jpg 2x, https://m.media-amazon.com/images/I/71XBl40bfiL._AC_UY545_FMwebp_QL65_.jpg 2.5x, https://m.media-amazon.com/images/I/71XBl40bfiL._AC_UY654_FMwebp_QL65_.jpg 3x',\n",
       "  'https://m.media-amazon.com/images/I/910TAjw6e7L._AC_UY218_.jpg 1x, https://m.media-amazon.com/images/I/910TAjw6e7L._AC_UY327_FMwebp_QL65_.jpg 1.5x, https://m.media-amazon.com/images/I/910TAjw6e7L._AC_UY436_FMwebp_QL65_.jpg 2x, https://m.media-amazon.com/images/I/910TAjw6e7L._AC_UY545_FMwebp_QL65_.jpg 2.5x, https://m.media-amazon.com/images/I/910TAjw6e7L._AC_UY654_FMwebp_QL65_.jpg 3x',\n",
       "  'https://m.media-amazon.com/images/I/71XwWSxCseL._AC_UY218_.jpg 1x, https://m.media-amazon.com/images/I/71XwWSxCseL._AC_UY327_FMwebp_QL65_.jpg 1.5x, https://m.media-amazon.com/images/I/71XwWSxCseL._AC_UY436_FMwebp_QL65_.jpg 2x, https://m.media-amazon.com/images/I/71XwWSxCseL._AC_UY545_FMwebp_QL65_.jpg 2.5x, https://m.media-amazon.com/images/I/71XwWSxCseL._AC_UY654_FMwebp_QL65_.jpg 3x'],\n",
       " ['https://images-na.ssl-images-amazon.com/images/I/71XBl40bfiL.jpg',\n",
       "  'https://images-na.ssl-images-amazon.com/images/I/71XwWSxCseL.jpg'])"
      ]
     },
     "execution_count": 69,
     "metadata": {},
     "output_type": "execute_result"
    }
   ],
   "source": [
    "low , high"
   ]
  },
  {
   "cell_type": "markdown",
   "metadata": {},
   "source": [
    "### Parsing the Low Resolution Image Links"
   ]
  },
  {
   "cell_type": "code",
   "execution_count": 100,
   "metadata": {},
   "outputs": [
    {
     "data": {
      "text/plain": [
       "'https://m.media-amazon.com/images/I/910TAjw6e7L._AC_UY218_.jpg 1x, https://m.media-amazon.com/images/I/910TAjw6e7L._AC_UY327_FMwebp_QL65_.jpg 1.5x, https://m.media-amazon.com/images/I/910TAjw6e7L._AC_UY436_FMwebp_QL65_.jpg 2x, https://m.media-amazon.com/images/I/910TAjw6e7L._AC_UY545_FMwebp_QL65_.jpg 2.5x, https://m.media-amazon.com/images/I/910TAjw6e7L._AC_UY654_FMwebp_QL65_.jpg 3x'"
      ]
     },
     "execution_count": 100,
     "metadata": {},
     "output_type": "execute_result"
    }
   ],
   "source": [
    "urls = low[1]\n",
    "urls"
   ]
  },
  {
   "cell_type": "code",
   "execution_count": 79,
   "metadata": {},
   "outputs": [
    {
     "data": {
      "text/plain": [
       "['https://m.media-amazon.com/images/I/71XBl40bfiL._AC_UY218_.jpg',\n",
       " 'https://m.media-amazon.com/images/I/71XBl40bfiL._AC_UY327_FMwebp_QL65_.jpg',\n",
       " 'https://m.media-amazon.com/images/I/71XBl40bfiL._AC_UY436_FMwebp_QL65_.jpg',\n",
       " 'https://m.media-amazon.com/images/I/71XBl40bfiL._AC_UY545_FMwebp_QL65_.jpg',\n",
       " 'https://m.media-amazon.com/images/I/71XBl40bfiL._AC_UY654_FMwebp_QL65_.jpg']"
      ]
     },
     "execution_count": 79,
     "metadata": {},
     "output_type": "execute_result"
    }
   ],
   "source": [
    "web_regex = re.compile(r'https://.*?\\.jpg|\\.png|\\.jpeg|.webp')\n",
    "web_regex.findall(urls)"
   ]
  },
  {
   "cell_type": "code",
   "execution_count": 88,
   "metadata": {},
   "outputs": [],
   "source": [
    "resolutions = {\n",
    "    \"1x\":[],\n",
    "    \"1.5x\":[],\n",
    "    \"2x\":[],\n",
    "    \"2.5x\":[],\n",
    "    \"3x\":[],\n",
    "    \"3.5x\":[],\n",
    "    \"4x\":[],\n",
    "}"
   ]
  },
  {
   "cell_type": "code",
   "execution_count": 102,
   "metadata": {},
   "outputs": [
    {
     "data": {
      "text/plain": [
       "['1x', '1.5x', '2x', '2.5x', '3x']"
      ]
     },
     "execution_count": 102,
     "metadata": {},
     "output_type": "execute_result"
    }
   ],
   "source": [
    "res_regex = re.compile(r'\\d\\.?\\d?x')\n",
    "res_regex.findall(urls)"
   ]
  },
  {
   "cell_type": "code",
   "execution_count": 39,
   "metadata": {},
   "outputs": [],
   "source": [
    "def parse_urls(raw_urls):\n",
    "    resolutions = {\n",
    "    \"1x\":[],\n",
    "    \"1.5x\":[],\n",
    "    \"2x\":[],\n",
    "    \"2.5x\":[],\n",
    "    \"3x\":[],\n",
    "    \"3.5x\":[],\n",
    "    \"4x\":[],\n",
    "}\n",
    "    urls = []\n",
    "    res = []\n",
    "    web_regex = re.compile(r'https://.*?\\.jpg|\\.png|\\.jpeg|.webp')\n",
    "    res_regex = re.compile(r'(\\d\\.?\\d?x),')\n",
    "    \n",
    "    for u in raw_urls:\n",
    "        url = web_regex.findall(u)\n",
    "        resolution = res_regex.findall(u)\n",
    "        urls.extend(url)\n",
    "        res.extend(resolution)\n",
    "    final_urls = [(url, res) for url, res in zip(urls, res)]\n",
    "    for url, res in final_urls:\n",
    "        resolutions[res].append(url)\n",
    "    return resolutions"
   ]
  },
  {
   "cell_type": "code",
   "execution_count": 186,
   "metadata": {},
   "outputs": [
    {
     "data": {
      "text/plain": [
       "{'1x': ['https://m.media-amazon.com/images/I/7117BtmH5BL._AC_UY218_.jpg',\n",
       "  'https://m.media-amazon.com/images/I/7117BtmH5BL._AC_UY654_FMwebp_QL65_.jpg'],\n",
       " '1.5x': ['https://m.media-amazon.com/images/I/7117BtmH5BL._AC_UY327_FMwebp_QL65_.jpg',\n",
       "  'https://m.media-amazon.com/images/I/91xCCcouWgL._AC_UY218_.jpg'],\n",
       " '2x': ['https://m.media-amazon.com/images/I/7117BtmH5BL._AC_UY436_FMwebp_QL65_.jpg',\n",
       "  'https://m.media-amazon.com/images/I/91xCCcouWgL._AC_UY327_FMwebp_QL65_.jpg'],\n",
       " '2.5x': ['https://m.media-amazon.com/images/I/7117BtmH5BL._AC_UY545_FMwebp_QL65_.jpg',\n",
       "  'https://m.media-amazon.com/images/I/91xCCcouWgL._AC_UY436_FMwebp_QL65_.jpg'],\n",
       " '3x': [],\n",
       " '3.5x': [],\n",
       " '4x': []}"
      ]
     },
     "execution_count": 186,
     "metadata": {},
     "output_type": "execute_result"
    }
   ],
   "source": [
    "urls_final = parse_urls(low)\n",
    "urls_final"
   ]
  },
  {
   "cell_type": "markdown",
   "metadata": {},
   "source": [
    "## Getting Urls"
   ]
  },
  {
   "cell_type": "code",
   "execution_count": 10,
   "metadata": {},
   "outputs": [],
   "source": [
    "def get_images_from_amazon_silent(book, author, num = 3):\n",
    "    link = \"https://www.amazon.in/s?k=\" + book+ \" \" + author + \"&i=stripbooks\"\n",
    "    # print(\"Opening Url\")\n",
    "    driver.get(link)\n",
    "    # print(\"Getting Image tags\")\n",
    "    \n",
    "    i=0\n",
    "    j=0\n",
    "    raw_img_srcs = []\n",
    "    high_image_urls = []\n",
    "    max_tries = 10\n",
    "    while True:\n",
    "        image = driver.find_elements(By.CLASS_NAME, \"s-image\")[i]\n",
    "        j+=1\n",
    "        try:\n",
    "            if book.lower()[:10] in image.get_attribute(\"alt\").lower():\n",
    "                # print(\"Getting image srcs\")\n",
    "                raw_img_srcs.append(image.get_property(\"srcset\"))\n",
    "                i+=1\n",
    "                # print(\"Clicking on image\")\n",
    "                image.click()\n",
    "                # print(\"Switching to new window\")\n",
    "                driver.switch_to.window(driver.window_handles[-1])\n",
    "                # print(\"Clicking on thumb button\")\n",
    "                try:\n",
    "                    driver.find_elements(By.CLASS_NAME, \"thumb-text\")[0].click()\n",
    "                    # print(\"Getting High Resolution Image\")\n",
    "                    for el in driver.find_elements(By.CLASS_NAME, \"ig-thumb-image\"):\n",
    "                        el.click()\n",
    "                        high_image_urls.append(driver.find_elements(By.ID, \"igImage\")[0].get_attribute(\"src\"))\n",
    "                except:\n",
    "                    pass\n",
    "                    # print(\"No High Resolution Image\")\n",
    "                # print(\"Closing the Extra Window\")\n",
    "                driver.close()\n",
    "                # print(\"Switching to the Main Window\")\n",
    "                driver.switch_to.window(driver.window_handles[0])\n",
    "        except Exception as e:\n",
    "            # print(e)\n",
    "            print(\"Error in getting image\")\n",
    "            if j>max_tries:\n",
    "                break\n",
    "        if i == num:\n",
    "            break\n",
    "        if j == max_tries:\n",
    "            break\n",
    "    return raw_img_srcs, high_image_urls"
   ]
  },
  {
   "cell_type": "code",
   "execution_count": 11,
   "metadata": {},
   "outputs": [],
   "source": [
    "high_images = books[\"High Links\"]\n",
    "low_images = books[\"Low Links\"]"
   ]
  },
  {
   "cell_type": "code",
   "execution_count": 46,
   "metadata": {},
   "outputs": [],
   "source": [
    "driver.close()"
   ]
  },
  {
   "cell_type": "code",
   "execution_count": 47,
   "metadata": {},
   "outputs": [
    {
     "name": "stderr",
     "output_type": "stream",
     "text": [
      "<ipython-input-47-56b07272da88>:1: DeprecationWarning: executable_path has been deprecated, please pass in a Service object\n",
      "  driver = webdriver.Chrome(package)\n"
     ]
    }
   ],
   "source": [
    "driver = webdriver.Chrome(package)"
   ]
  },
  {
   "cell_type": "code",
   "execution_count": 257,
   "metadata": {},
   "outputs": [],
   "source": [
    "from life_saving_tools.misc.Notification import Notification\n",
    "n = Notification()"
   ]
  },
  {
   "cell_type": "code",
   "execution_count": 68,
   "metadata": {},
   "outputs": [
    {
     "name": "stderr",
     "output_type": "stream",
     "text": [
      "Getting Images:   0%|          | 0/1 [00:00<?, ?it/s]<ipython-input-68-32b9d3b630f4>:10: SettingWithCopyWarning: \n",
      "A value is trying to be set on a copy of a slice from a DataFrame\n",
      "\n",
      "See the caveats in the documentation: https://pandas.pydata.org/pandas-docs/stable/user_guide/indexing.html#returning-a-view-versus-a-copy\n",
      "  low_images[i] = parse_urls(low)\n",
      "<ipython-input-68-32b9d3b630f4>:11: SettingWithCopyWarning: \n",
      "A value is trying to be set on a copy of a slice from a DataFrame\n",
      "\n",
      "See the caveats in the documentation: https://pandas.pydata.org/pandas-docs/stable/user_guide/indexing.html#returning-a-view-versus-a-copy\n",
      "  high_images[i] = high\n",
      "Getting Images: 100%|██████████| 1/1 [00:03<00:00,  3.35s/it]\n"
     ]
    }
   ],
   "source": [
    "start = 449\n",
    "end = 449\n",
    "j=0\n",
    "for i in tqdm.tqdm(range(start, end+1), desc=\"Getting Images\"):\n",
    "    author = authors[i]\n",
    "    book = book_names[i]\n",
    "    tick = time.time()\n",
    "    try:\n",
    "        low, high = get_images_from_amazon_silent(book, author)\n",
    "        low_images[i] = parse_urls(low)\n",
    "        high_images[i] = high\n",
    "        j=0\n",
    "    except Exception as e:\n",
    "        print(\"Error on\", book)\n",
    "        # raise e\n",
    "        low = None\n",
    "        high = None\n",
    "        low_images[i] = low\n",
    "        high_images[i] = high\n",
    "        j+=1\n",
    "    if j==4:\n",
    "        tock = time.time()\n",
    "        j=0\n",
    "        if tock-tick<5:\n",
    "            print(\"Something is Wrong. Restart the driver\")\n",
    "            # n.send_whatsapp_text(\"Something is Wrong. Restart the driver\")\n",
    "            break\n",
    "    # if i==end:\n",
    "    #     n.send_whatsapp_text(\"Extraction done!\")\n"
   ]
  },
  {
   "cell_type": "code",
   "execution_count": 60,
   "metadata": {},
   "outputs": [
    {
     "data": {
      "text/plain": [
       "450"
      ]
     },
     "execution_count": 60,
     "metadata": {},
     "output_type": "execute_result"
    }
   ],
   "source": [
    "i"
   ]
  },
  {
   "cell_type": "code",
   "execution_count": 63,
   "metadata": {},
   "outputs": [
    {
     "data": {
      "text/plain": [
       "'Pride and Prejudice'"
      ]
     },
     "execution_count": 63,
     "metadata": {},
     "output_type": "execute_result"
    }
   ],
   "source": [
    "book_names[i-1]"
   ]
  },
  {
   "cell_type": "code",
   "execution_count": 64,
   "metadata": {},
   "outputs": [
    {
     "data": {
      "text/plain": [
       "[]"
      ]
     },
     "execution_count": 64,
     "metadata": {},
     "output_type": "execute_result"
    }
   ],
   "source": [
    "high_images[i-1]"
   ]
  },
  {
   "cell_type": "code",
   "execution_count": 66,
   "metadata": {},
   "outputs": [
    {
     "data": {
      "text/plain": [
       "{'1x': ['https://m.media-amazon.com/images/I/71STFfTdofL._AC_UY218_.jpg',\n",
       "  'https://m.media-amazon.com/images/I/71STFfTdofL._AC_UY654_FMwebp_QL65_.jpg',\n",
       "  'https://m.media-amazon.com/images/I/51BhT7Ey+hL._AC_UY436_FMwebp_QL65_.jpg'],\n",
       " '1.5x': ['https://m.media-amazon.com/images/I/71STFfTdofL._AC_UY327_FMwebp_QL65_.jpg',\n",
       "  'https://m.media-amazon.com/images/I/51BhT7Ey+hL._AC_UY218_.jpg',\n",
       "  'https://m.media-amazon.com/images/I/51BhT7Ey+hL._AC_UY500_FMwebp_QL65_.jpg'],\n",
       " '2x': ['https://m.media-amazon.com/images/I/71STFfTdofL._AC_UY436_FMwebp_QL65_.jpg',\n",
       "  'https://m.media-amazon.com/images/I/51BhT7Ey+hL._AC_UY327_FMwebp_QL65_.jpg',\n",
       "  'https://m.media-amazon.com/images/I/81pM4orRvFL._AC_UY218_.jpg'],\n",
       " '2.5x': ['https://m.media-amazon.com/images/I/71STFfTdofL._AC_UY545_FMwebp_QL65_.jpg',\n",
       "  'https://m.media-amazon.com/images/I/81pM4orRvFL._AC_UY327_FMwebp_QL65_.jpg'],\n",
       " '3x': [],\n",
       " '3.5x': [],\n",
       " '4x': []}"
      ]
     },
     "execution_count": 66,
     "metadata": {},
     "output_type": "execute_result"
    }
   ],
   "source": [
    "low_images[i-2]"
   ]
  },
  {
   "cell_type": "code",
   "execution_count": 71,
   "metadata": {},
   "outputs": [
    {
     "name": "stdout",
     "output_type": "stream",
     "text": [
      "Opening Url\n",
      "Getting Image tags\n"
     ]
    }
   ],
   "source": [
    "l2, h2 = get_images_from_amazon(\"Pride and Prejudice\", \"Jane Austen\")"
   ]
  },
  {
   "cell_type": "code",
   "execution_count": 72,
   "metadata": {},
   "outputs": [],
   "source": [
    "l = parse_urls(l)\n",
    "h = h"
   ]
  },
  {
   "cell_type": "code",
   "execution_count": 74,
   "metadata": {},
   "outputs": [
    {
     "data": {
      "text/plain": [
       "['https://images-na.ssl-images-amazon.com/images/I/819HSIKiWdS.jpg',\n",
       " 'https://images-na.ssl-images-amazon.com/images/I/81H3klHiJmL.jpg',\n",
       " 'https://images-na.ssl-images-amazon.com/images/I/81WHo3-GU-L.jpg',\n",
       " 'https://images-na.ssl-images-amazon.com/images/I/91mNGubXSIL.jpg',\n",
       " 'https://images-na.ssl-images-amazon.com/images/I/81Fvfz6vWwL.jpg',\n",
       " 'https://images-na.ssl-images-amazon.com/images/I/81er5HUtctL.jpg',\n",
       " 'https://images-na.ssl-images-amazon.com/images/I/81ruLJOW-eL.jpg',\n",
       " 'https://images-na.ssl-images-amazon.com/images/I/61J8NJB9dTL.jpg',\n",
       " 'https://images-na.ssl-images-amazon.com/images/I/91bEvdgosHL.jpg',\n",
       " 'https://images-na.ssl-images-amazon.com/images/I/617okC8emiL.jpg',\n",
       " 'https://images-na.ssl-images-amazon.com/images/I/61JYJHIGqQL.jpg',\n",
       " 'https://images-na.ssl-images-amazon.com/images/I/61fEeg-78JL.jpg',\n",
       " 'https://images-na.ssl-images-amazon.com/images/I/614kYodglTL.jpg',\n",
       " 'https://images-na.ssl-images-amazon.com/images/I/61cUJRiKBBL.jpg',\n",
       " 'https://images-na.ssl-images-amazon.com/images/I/51IVmutJGOL.jpg',\n",
       " 'https://images-na.ssl-images-amazon.com/images/I/51pg7fTFpFL.jpg',\n",
       " 'https://images-na.ssl-images-amazon.com/images/I/71nvNB2p+cL.jpg']"
      ]
     },
     "execution_count": 74,
     "metadata": {},
     "output_type": "execute_result"
    }
   ],
   "source": [
    "h"
   ]
  },
  {
   "cell_type": "code",
   "execution_count": 76,
   "metadata": {},
   "outputs": [
    {
     "data": {
      "text/plain": [
       "'Pride and Prejudice'"
      ]
     },
     "execution_count": 76,
     "metadata": {},
     "output_type": "execute_result"
    }
   ],
   "source": [
    "book_names[449]"
   ]
  },
  {
   "cell_type": "code",
   "execution_count": 77,
   "metadata": {},
   "outputs": [
    {
     "name": "stderr",
     "output_type": "stream",
     "text": [
      "<ipython-input-77-7a3edddcc4b8>:1: SettingWithCopyWarning: \n",
      "A value is trying to be set on a copy of a slice from a DataFrame\n",
      "\n",
      "See the caveats in the documentation: https://pandas.pydata.org/pandas-docs/stable/user_guide/indexing.html#returning-a-view-versus-a-copy\n",
      "  low_images[449] = l\n",
      "<ipython-input-77-7a3edddcc4b8>:2: SettingWithCopyWarning: \n",
      "A value is trying to be set on a copy of a slice from a DataFrame\n",
      "\n",
      "See the caveats in the documentation: https://pandas.pydata.org/pandas-docs/stable/user_guide/indexing.html#returning-a-view-versus-a-copy\n",
      "  high_images[449] = h\n"
     ]
    }
   ],
   "source": [
    "low_images[449] = l\n",
    "high_images[449] = h"
   ]
  },
  {
   "cell_type": "code",
   "execution_count": 78,
   "metadata": {},
   "outputs": [
    {
     "data": {
      "text/plain": [
       "{'1x': ['https://m.media-amazon.com/images/I/819HSIKiWdS._AC_UY218_.jpg',\n",
       "  'https://m.media-amazon.com/images/I/819HSIKiWdS._AC_UY654_FMwebp_QL65_.jpg'],\n",
       " '1.5x': ['https://m.media-amazon.com/images/I/819HSIKiWdS._AC_UY327_FMwebp_QL65_.jpg',\n",
       "  'https://m.media-amazon.com/images/I/61J8NJB9dTL._AC_UY218_.jpg'],\n",
       " '2x': ['https://m.media-amazon.com/images/I/819HSIKiWdS._AC_UY436_FMwebp_QL65_.jpg',\n",
       "  'https://m.media-amazon.com/images/I/61J8NJB9dTL._AC_UY327_FMwebp_QL65_.jpg'],\n",
       " '2.5x': ['https://m.media-amazon.com/images/I/819HSIKiWdS._AC_UY545_FMwebp_QL65_.jpg',\n",
       "  'https://m.media-amazon.com/images/I/61J8NJB9dTL._AC_UY436_FMwebp_QL65_.jpg'],\n",
       " '3x': [],\n",
       " '3.5x': [],\n",
       " '4x': []}"
      ]
     },
     "execution_count": 78,
     "metadata": {},
     "output_type": "execute_result"
    }
   ],
   "source": [
    "low_images[449]"
   ]
  },
  {
   "cell_type": "code",
   "execution_count": 79,
   "metadata": {},
   "outputs": [],
   "source": [
    "books[\"Low Links\"] = low_images\n",
    "books[\"High Links\"] = high_images"
   ]
  },
  {
   "cell_type": "code",
   "execution_count": 80,
   "metadata": {},
   "outputs": [
    {
     "data": {
      "text/html": [
       "<div>\n",
       "<style scoped>\n",
       "    .dataframe tbody tr th:only-of-type {\n",
       "        vertical-align: middle;\n",
       "    }\n",
       "\n",
       "    .dataframe tbody tr th {\n",
       "        vertical-align: top;\n",
       "    }\n",
       "\n",
       "    .dataframe thead th {\n",
       "        text-align: right;\n",
       "    }\n",
       "</style>\n",
       "<table border=\"1\" class=\"dataframe\">\n",
       "  <thead>\n",
       "    <tr style=\"text-align: right;\">\n",
       "      <th></th>\n",
       "      <th>Book Name</th>\n",
       "      <th>Author</th>\n",
       "      <th>ISBN 13</th>\n",
       "      <th>ISBN</th>\n",
       "      <th>Number of Pages</th>\n",
       "      <th>Average Rating</th>\n",
       "      <th>Total Number of Ratings</th>\n",
       "      <th>Publication Date</th>\n",
       "      <th>Date Started</th>\n",
       "      <th>Date Completed</th>\n",
       "      <th>Name</th>\n",
       "      <th>Series</th>\n",
       "      <th>Volume</th>\n",
       "      <th>Goodreads Url</th>\n",
       "      <th>Description</th>\n",
       "      <th>Genre</th>\n",
       "      <th>Image Url</th>\n",
       "      <th>Low Links</th>\n",
       "      <th>High Links</th>\n",
       "    </tr>\n",
       "  </thead>\n",
       "  <tbody>\n",
       "    <tr>\n",
       "      <th>0</th>\n",
       "      <td>The Lightning Tree</td>\n",
       "      <td>Patrick Rothfuss</td>\n",
       "      <td>NaN</td>\n",
       "      <td>NaN</td>\n",
       "      <td>93</td>\n",
       "      <td>4.00</td>\n",
       "      <td>2156</td>\n",
       "      <td>2014-01-01</td>\n",
       "      <td>2022-04-16</td>\n",
       "      <td>2022-04-16</td>\n",
       "      <td>The Lightning Tree</td>\n",
       "      <td>Standalone</td>\n",
       "      <td>1</td>\n",
       "      <td>https://www.goodreads.com/book/show/55262194</td>\n",
       "      <td>The Lightning Tree is a companion short story ...</td>\n",
       "      <td>['Fantasy', 'Fiction', 'Short Stories', 'Fanta...</td>\n",
       "      <td>https://i.gr-assets.com/images/S/compressed.ph...</td>\n",
       "      <td>{'1x': [], '1.5x': [], '2x': [], '2.5x': [], '...</td>\n",
       "      <td>[]</td>\n",
       "    </tr>\n",
       "    <tr>\n",
       "      <th>1</th>\n",
       "      <td>What If? Serious Scientific Answers to Absurd ...</td>\n",
       "      <td>Randall Munroe</td>\n",
       "      <td>9.780544e+12</td>\n",
       "      <td>0544272994</td>\n",
       "      <td>303</td>\n",
       "      <td>4.14</td>\n",
       "      <td>151303</td>\n",
       "      <td>2014-09-02</td>\n",
       "      <td>NaN</td>\n",
       "      <td>NaN</td>\n",
       "      <td>What If? Serious Scientific Answers to Absurd ...</td>\n",
       "      <td>What If?</td>\n",
       "      <td>1</td>\n",
       "      <td>https://www.goodreads.com/book/show/21413662</td>\n",
       "      <td>Randall Munroe left NASA in 2005 to start up h...</td>\n",
       "      <td>['Nonfiction', 'Science', 'Humor', 'Audiobook'...</td>\n",
       "      <td>https://i.gr-assets.com/images/S/compressed.ph...</td>\n",
       "      <td>NaN</td>\n",
       "      <td>NaN</td>\n",
       "    </tr>\n",
       "    <tr>\n",
       "      <th>2</th>\n",
       "      <td>Leviathan Falls (The Expanse, #9)</td>\n",
       "      <td>James S.A. Corey</td>\n",
       "      <td>9.780357e+12</td>\n",
       "      <td>0356510395</td>\n",
       "      <td>528</td>\n",
       "      <td>4.54</td>\n",
       "      <td>31066</td>\n",
       "      <td>2021-11-30</td>\n",
       "      <td>NaN</td>\n",
       "      <td>NaN</td>\n",
       "      <td>Leviathan Falls</td>\n",
       "      <td>The Expanse</td>\n",
       "      <td>9</td>\n",
       "      <td>https://www.goodreads.com/book/show/58783427</td>\n",
       "      <td>The Laconian Empire has fallen, setting the th...</td>\n",
       "      <td>['Science Fiction', 'Fiction', 'Space', 'Space...</td>\n",
       "      <td>NaN</td>\n",
       "      <td>{'1x': ['https://m.media-amazon.com/images/I/8...</td>\n",
       "      <td>[]</td>\n",
       "    </tr>\n",
       "    <tr>\n",
       "      <th>3</th>\n",
       "      <td>Tiamat's Wrath (The Expanse, #8)</td>\n",
       "      <td>James S.A. Corey</td>\n",
       "      <td>9.780316e+12</td>\n",
       "      <td>0316332879</td>\n",
       "      <td>534</td>\n",
       "      <td>4.57</td>\n",
       "      <td>47842</td>\n",
       "      <td>2019-03-26</td>\n",
       "      <td>NaN</td>\n",
       "      <td>NaN</td>\n",
       "      <td>Tiamat's Wrath</td>\n",
       "      <td>The Expanse</td>\n",
       "      <td>8</td>\n",
       "      <td>https://www.goodreads.com/book/show/28335698</td>\n",
       "      <td>Thirteen hundred gates have opened to solar sy...</td>\n",
       "      <td>['Science Fiction', 'Fiction', 'Space', 'Space...</td>\n",
       "      <td>https://i.gr-assets.com/images/S/compressed.ph...</td>\n",
       "      <td>{'1x': ['https://m.media-amazon.com/images/I/8...</td>\n",
       "      <td>['https://images-na.ssl-images-amazon.com/imag...</td>\n",
       "    </tr>\n",
       "    <tr>\n",
       "      <th>4</th>\n",
       "      <td>Persepolis Rising (The Expanse, #7)</td>\n",
       "      <td>James S.A. Corey</td>\n",
       "      <td>9.780316e+12</td>\n",
       "      <td>0316332828</td>\n",
       "      <td>608</td>\n",
       "      <td>4.37</td>\n",
       "      <td>53386</td>\n",
       "      <td>2017-12-05</td>\n",
       "      <td>2022-06-02</td>\n",
       "      <td>NaN</td>\n",
       "      <td>Persepolis Rising</td>\n",
       "      <td>The Expanse</td>\n",
       "      <td>7</td>\n",
       "      <td>https://www.goodreads.com/book/show/28335696</td>\n",
       "      <td>In the thousand-sun network of humanity's expa...</td>\n",
       "      <td>['Science Fiction', 'Fiction', 'Space', 'Space...</td>\n",
       "      <td>https://i.gr-assets.com/images/S/compressed.ph...</td>\n",
       "      <td>{'1x': ['https://m.media-amazon.com/images/I/9...</td>\n",
       "      <td>['https://images-na.ssl-images-amazon.com/imag...</td>\n",
       "    </tr>\n",
       "  </tbody>\n",
       "</table>\n",
       "</div>"
      ],
      "text/plain": [
       "                                           Book Name            Author  \\\n",
       "0                                 The Lightning Tree  Patrick Rothfuss   \n",
       "1  What If? Serious Scientific Answers to Absurd ...    Randall Munroe   \n",
       "2                  Leviathan Falls (The Expanse, #9)  James S.A. Corey   \n",
       "3                   Tiamat's Wrath (The Expanse, #8)  James S.A. Corey   \n",
       "4                Persepolis Rising (The Expanse, #7)  James S.A. Corey   \n",
       "\n",
       "        ISBN 13        ISBN Number of Pages  Average Rating  \\\n",
       "0           NaN         NaN              93            4.00   \n",
       "1  9.780544e+12  0544272994             303            4.14   \n",
       "2  9.780357e+12  0356510395             528            4.54   \n",
       "3  9.780316e+12  0316332879             534            4.57   \n",
       "4  9.780316e+12  0316332828             608            4.37   \n",
       "\n",
       "   Total Number of Ratings Publication Date Date Started Date Completed  \\\n",
       "0                     2156       2014-01-01   2022-04-16     2022-04-16   \n",
       "1                   151303       2014-09-02          NaN            NaN   \n",
       "2                    31066       2021-11-30          NaN            NaN   \n",
       "3                    47842       2019-03-26          NaN            NaN   \n",
       "4                    53386       2017-12-05   2022-06-02            NaN   \n",
       "\n",
       "                                                Name       Series  Volume  \\\n",
       "0                                 The Lightning Tree   Standalone       1   \n",
       "1  What If? Serious Scientific Answers to Absurd ...     What If?       1   \n",
       "2                                    Leviathan Falls  The Expanse       9   \n",
       "3                                     Tiamat's Wrath  The Expanse       8   \n",
       "4                                  Persepolis Rising  The Expanse       7   \n",
       "\n",
       "                                  Goodreads Url  \\\n",
       "0  https://www.goodreads.com/book/show/55262194   \n",
       "1  https://www.goodreads.com/book/show/21413662   \n",
       "2  https://www.goodreads.com/book/show/58783427   \n",
       "3  https://www.goodreads.com/book/show/28335698   \n",
       "4  https://www.goodreads.com/book/show/28335696   \n",
       "\n",
       "                                         Description  \\\n",
       "0  The Lightning Tree is a companion short story ...   \n",
       "1  Randall Munroe left NASA in 2005 to start up h...   \n",
       "2  The Laconian Empire has fallen, setting the th...   \n",
       "3  Thirteen hundred gates have opened to solar sy...   \n",
       "4  In the thousand-sun network of humanity's expa...   \n",
       "\n",
       "                                               Genre  \\\n",
       "0  ['Fantasy', 'Fiction', 'Short Stories', 'Fanta...   \n",
       "1  ['Nonfiction', 'Science', 'Humor', 'Audiobook'...   \n",
       "2  ['Science Fiction', 'Fiction', 'Space', 'Space...   \n",
       "3  ['Science Fiction', 'Fiction', 'Space', 'Space...   \n",
       "4  ['Science Fiction', 'Fiction', 'Space', 'Space...   \n",
       "\n",
       "                                           Image Url  \\\n",
       "0  https://i.gr-assets.com/images/S/compressed.ph...   \n",
       "1  https://i.gr-assets.com/images/S/compressed.ph...   \n",
       "2                                                NaN   \n",
       "3  https://i.gr-assets.com/images/S/compressed.ph...   \n",
       "4  https://i.gr-assets.com/images/S/compressed.ph...   \n",
       "\n",
       "                                           Low Links  \\\n",
       "0  {'1x': [], '1.5x': [], '2x': [], '2.5x': [], '...   \n",
       "1                                                NaN   \n",
       "2  {'1x': ['https://m.media-amazon.com/images/I/8...   \n",
       "3  {'1x': ['https://m.media-amazon.com/images/I/8...   \n",
       "4  {'1x': ['https://m.media-amazon.com/images/I/9...   \n",
       "\n",
       "                                          High Links  \n",
       "0                                                 []  \n",
       "1                                                NaN  \n",
       "2                                                 []  \n",
       "3  ['https://images-na.ssl-images-amazon.com/imag...  \n",
       "4  ['https://images-na.ssl-images-amazon.com/imag...  "
      ]
     },
     "execution_count": 80,
     "metadata": {},
     "output_type": "execute_result"
    }
   ],
   "source": [
    "books.head()"
   ]
  },
  {
   "cell_type": "code",
   "execution_count": 82,
   "metadata": {},
   "outputs": [],
   "source": [
    "books.to_csv(\"Books_Final.csv\", index=False)"
   ]
  },
  {
   "cell_type": "markdown",
   "metadata": {},
   "source": [
    "## Downloading Images from URL"
   ]
  },
  {
   "cell_type": "code",
   "execution_count": 87,
   "metadata": {},
   "outputs": [],
   "source": [
    "images = high_images[449]"
   ]
  },
  {
   "cell_type": "code",
   "execution_count": 89,
   "metadata": {},
   "outputs": [
    {
     "name": "stdout",
     "output_type": "stream",
     "text": [
      "Image shape is 2367x2560\n"
     ]
    }
   ],
   "source": [
    "image_url =images[0]\n",
    "response = requests.get(image_url)\n",
    "with open(\".temp.jpg\", \"wb\") as f:\n",
    "    f.write(response.content)\n",
    "\n",
    "img = Image.open(\".temp.jpg\")\n",
    "# img.show()\n",
    "# img = Image.open(BytesIO(response.content))\n",
    "w, h = img.size\n",
    "print(f\"Image shape is {w}x{h}\")"
   ]
  },
  {
   "cell_type": "code",
   "execution_count": 133,
   "metadata": {},
   "outputs": [
    {
     "name": "stdout",
     "output_type": "stream",
     "text": [
      "False\n"
     ]
    }
   ],
   "source": [
    "from PIL import features\n",
    "print(features.check_module('webp'))"
   ]
  }
 ],
 "metadata": {
  "kernelspec": {
   "display_name": "Python 3.8.5",
   "language": "python",
   "name": "python3"
  },
  "language_info": {
   "codemirror_mode": {
    "name": "ipython",
    "version": 3
   },
   "file_extension": ".py",
   "mimetype": "text/x-python",
   "name": "python",
   "nbconvert_exporter": "python",
   "pygments_lexer": "ipython3",
   "version": "3.8.5"
  },
  "orig_nbformat": 4,
  "vscode": {
   "interpreter": {
    "hash": "21040c1b576dca9f4f330277849b9f4819256d524dee23c2b89e431027dafe11"
   }
  }
 },
 "nbformat": 4,
 "nbformat_minor": 2
}
