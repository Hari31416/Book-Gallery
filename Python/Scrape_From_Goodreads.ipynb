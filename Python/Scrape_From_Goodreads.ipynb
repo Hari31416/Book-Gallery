{
 "cells": [
  {
   "cell_type": "markdown",
   "metadata": {},
   "source": [
    "# Imports"
   ]
  },
  {
   "cell_type": "code",
   "execution_count": 1,
   "metadata": {},
   "outputs": [],
   "source": [
    "import webdriver_manager\n",
    "from selenium.webdriver.common.by import By\n",
    "from selenium.webdriver.common.keys import Keys\n",
    "from selenium import webdriver\n",
    "from webdriver_manager.chrome import ChromeDriverManager\n",
    "from webdriver_manager.firefox import GeckoDriverManager\n",
    "from selenium import webdriver\n",
    "from selenium.webdriver.common.desired_capabilities import DesiredCapabilities\n",
    "from selenium.webdriver.support.ui import WebDriverWait\n",
    "from selenium.webdriver.support import expected_conditions as EC\n",
    "from IPython.display import clear_output\n",
    "import time\n",
    "import tqdm\n",
    "import pandas as pd\n",
    "import requests\n",
    "from PIL import Image\n",
    "from io import BytesIO\n",
    "import os\n",
    "import json\n",
    "import vlc\n",
    "import bs4\n",
    "import pandas as pd\n",
    "import re\n",
    "import numpy as np"
   ]
  },
  {
   "cell_type": "markdown",
   "metadata": {},
   "source": [
    "# Getting Ready"
   ]
  },
  {
   "cell_type": "code",
   "execution_count": 6,
   "metadata": {},
   "outputs": [
    {
     "name": "stderr",
     "output_type": "stream",
     "text": [
      "\n",
      "\n",
      "====== WebDriver manager ======\n",
      "Current google-chrome version is 103.0.5060\n",
      "Get LATEST chromedriver version for 103.0.5060 google-chrome\n",
      "Trying to download new driver from https://chromedriver.storage.googleapis.com/103.0.5060.53/chromedriver_win32.zip\n",
      "Driver has been saved in cache [C:\\Users\\harik\\.wdm\\drivers\\chromedriver\\win32\\103.0.5060.53]\n",
      "<ipython-input-6-b3268cc3813b>:3: DeprecationWarning: executable_path has been deprecated, please pass in a Service object\n",
      "  driver = webdriver.Chrome(package)\n"
     ]
    }
   ],
   "source": [
    "#Open ChromeDriver\n",
    "package = ChromeDriverManager().install()\n",
    "driver = webdriver.Chrome(package)"
   ]
  },
  {
   "cell_type": "code",
   "execution_count": 2,
   "metadata": {},
   "outputs": [
    {
     "data": {
      "text/html": [
       "<div>\n",
       "<style scoped>\n",
       "    .dataframe tbody tr th:only-of-type {\n",
       "        vertical-align: middle;\n",
       "    }\n",
       "\n",
       "    .dataframe tbody tr th {\n",
       "        vertical-align: top;\n",
       "    }\n",
       "\n",
       "    .dataframe thead th {\n",
       "        text-align: right;\n",
       "    }\n",
       "</style>\n",
       "<table border=\"1\" class=\"dataframe\">\n",
       "  <thead>\n",
       "    <tr style=\"text-align: right;\">\n",
       "      <th></th>\n",
       "      <th>Book Name</th>\n",
       "      <th>Author</th>\n",
       "      <th>ISBN 13</th>\n",
       "      <th>ISBN</th>\n",
       "      <th>Number of Pages</th>\n",
       "      <th>Average Rating</th>\n",
       "      <th>Total Number of Ratings</th>\n",
       "      <th>Publication Date</th>\n",
       "      <th>Date Started</th>\n",
       "      <th>Date Completed</th>\n",
       "      <th>Name</th>\n",
       "      <th>Series</th>\n",
       "      <th>Volume</th>\n",
       "      <th>Goodreads Url</th>\n",
       "      <th>Description</th>\n",
       "      <th>Genre</th>\n",
       "      <th>Image Url</th>\n",
       "    </tr>\n",
       "  </thead>\n",
       "  <tbody>\n",
       "    <tr>\n",
       "      <th>0</th>\n",
       "      <td>The Lightning Tree</td>\n",
       "      <td>Patrick Rothfuss</td>\n",
       "      <td>NaN</td>\n",
       "      <td>NaN</td>\n",
       "      <td>93</td>\n",
       "      <td>4.00</td>\n",
       "      <td>2156</td>\n",
       "      <td>2014-01-01</td>\n",
       "      <td>2022-04-16</td>\n",
       "      <td>2022-04-16</td>\n",
       "      <td>The Lightning Tree</td>\n",
       "      <td>Standalone</td>\n",
       "      <td>1</td>\n",
       "      <td>https://www.goodreads.com/book/show/55262194</td>\n",
       "      <td>The Lightning Tree is a companion short story ...</td>\n",
       "      <td>['Fantasy', 'Fiction', 'Short Stories', 'Fanta...</td>\n",
       "      <td>https://i.gr-assets.com/images/S/compressed.ph...</td>\n",
       "    </tr>\n",
       "    <tr>\n",
       "      <th>1</th>\n",
       "      <td>What If? Serious Scientific Answers to Absurd ...</td>\n",
       "      <td>Randall Munroe</td>\n",
       "      <td>9.780544e+12</td>\n",
       "      <td>0544272994</td>\n",
       "      <td>303</td>\n",
       "      <td>4.14</td>\n",
       "      <td>151303</td>\n",
       "      <td>2014-09-02</td>\n",
       "      <td>NaN</td>\n",
       "      <td>NaN</td>\n",
       "      <td>What If? Serious Scientific Answers to Absurd ...</td>\n",
       "      <td>What If?</td>\n",
       "      <td>1</td>\n",
       "      <td>https://www.goodreads.com/book/show/21413662</td>\n",
       "      <td>Randall Munroe left NASA in 2005 to start up h...</td>\n",
       "      <td>['Nonfiction', 'Science', 'Humor', 'Audiobook'...</td>\n",
       "      <td>https://i.gr-assets.com/images/S/compressed.ph...</td>\n",
       "    </tr>\n",
       "    <tr>\n",
       "      <th>2</th>\n",
       "      <td>Leviathan Falls (The Expanse, #9)</td>\n",
       "      <td>James S.A. Corey</td>\n",
       "      <td>9.780357e+12</td>\n",
       "      <td>0356510395</td>\n",
       "      <td>528</td>\n",
       "      <td>4.54</td>\n",
       "      <td>31066</td>\n",
       "      <td>2021-11-30</td>\n",
       "      <td>NaN</td>\n",
       "      <td>NaN</td>\n",
       "      <td>Leviathan Falls</td>\n",
       "      <td>The Expanse</td>\n",
       "      <td>9</td>\n",
       "      <td>https://www.goodreads.com/book/show/58783427</td>\n",
       "      <td>The Laconian Empire has fallen, setting the th...</td>\n",
       "      <td>['Science Fiction', 'Fiction', 'Space', 'Space...</td>\n",
       "      <td>NaN</td>\n",
       "    </tr>\n",
       "    <tr>\n",
       "      <th>3</th>\n",
       "      <td>Tiamat's Wrath (The Expanse, #8)</td>\n",
       "      <td>James S.A. Corey</td>\n",
       "      <td>9.780316e+12</td>\n",
       "      <td>0316332879</td>\n",
       "      <td>534</td>\n",
       "      <td>4.57</td>\n",
       "      <td>47842</td>\n",
       "      <td>2019-03-26</td>\n",
       "      <td>NaN</td>\n",
       "      <td>NaN</td>\n",
       "      <td>Tiamat's Wrath</td>\n",
       "      <td>The Expanse</td>\n",
       "      <td>8</td>\n",
       "      <td>https://www.goodreads.com/book/show/28335698</td>\n",
       "      <td>Thirteen hundred gates have opened to solar sy...</td>\n",
       "      <td>['Science Fiction', 'Fiction', 'Space', 'Space...</td>\n",
       "      <td>https://i.gr-assets.com/images/S/compressed.ph...</td>\n",
       "    </tr>\n",
       "    <tr>\n",
       "      <th>4</th>\n",
       "      <td>Persepolis Rising (The Expanse, #7)</td>\n",
       "      <td>James S.A. Corey</td>\n",
       "      <td>9.780316e+12</td>\n",
       "      <td>0316332828</td>\n",
       "      <td>608</td>\n",
       "      <td>4.37</td>\n",
       "      <td>53386</td>\n",
       "      <td>2017-12-05</td>\n",
       "      <td>2022-06-02</td>\n",
       "      <td>NaN</td>\n",
       "      <td>Persepolis Rising</td>\n",
       "      <td>The Expanse</td>\n",
       "      <td>7</td>\n",
       "      <td>https://www.goodreads.com/book/show/28335696</td>\n",
       "      <td>In the thousand-sun network of humanity's expa...</td>\n",
       "      <td>['Science Fiction', 'Fiction', 'Space', 'Space...</td>\n",
       "      <td>https://i.gr-assets.com/images/S/compressed.ph...</td>\n",
       "    </tr>\n",
       "  </tbody>\n",
       "</table>\n",
       "</div>"
      ],
      "text/plain": [
       "                                           Book Name            Author  \\\n",
       "0                                 The Lightning Tree  Patrick Rothfuss   \n",
       "1  What If? Serious Scientific Answers to Absurd ...    Randall Munroe   \n",
       "2                  Leviathan Falls (The Expanse, #9)  James S.A. Corey   \n",
       "3                   Tiamat's Wrath (The Expanse, #8)  James S.A. Corey   \n",
       "4                Persepolis Rising (The Expanse, #7)  James S.A. Corey   \n",
       "\n",
       "        ISBN 13        ISBN Number of Pages  Average Rating  \\\n",
       "0           NaN         NaN              93            4.00   \n",
       "1  9.780544e+12  0544272994             303            4.14   \n",
       "2  9.780357e+12  0356510395             528            4.54   \n",
       "3  9.780316e+12  0316332879             534            4.57   \n",
       "4  9.780316e+12  0316332828             608            4.37   \n",
       "\n",
       "   Total Number of Ratings Publication Date Date Started Date Completed  \\\n",
       "0                     2156       2014-01-01   2022-04-16     2022-04-16   \n",
       "1                   151303       2014-09-02          NaN            NaN   \n",
       "2                    31066       2021-11-30          NaN            NaN   \n",
       "3                    47842       2019-03-26          NaN            NaN   \n",
       "4                    53386       2017-12-05   2022-06-02            NaN   \n",
       "\n",
       "                                                Name       Series  Volume  \\\n",
       "0                                 The Lightning Tree   Standalone       1   \n",
       "1  What If? Serious Scientific Answers to Absurd ...     What If?       1   \n",
       "2                                    Leviathan Falls  The Expanse       9   \n",
       "3                                     Tiamat's Wrath  The Expanse       8   \n",
       "4                                  Persepolis Rising  The Expanse       7   \n",
       "\n",
       "                                  Goodreads Url  \\\n",
       "0  https://www.goodreads.com/book/show/55262194   \n",
       "1  https://www.goodreads.com/book/show/21413662   \n",
       "2  https://www.goodreads.com/book/show/58783427   \n",
       "3  https://www.goodreads.com/book/show/28335698   \n",
       "4  https://www.goodreads.com/book/show/28335696   \n",
       "\n",
       "                                         Description  \\\n",
       "0  The Lightning Tree is a companion short story ...   \n",
       "1  Randall Munroe left NASA in 2005 to start up h...   \n",
       "2  The Laconian Empire has fallen, setting the th...   \n",
       "3  Thirteen hundred gates have opened to solar sy...   \n",
       "4  In the thousand-sun network of humanity's expa...   \n",
       "\n",
       "                                               Genre  \\\n",
       "0  ['Fantasy', 'Fiction', 'Short Stories', 'Fanta...   \n",
       "1  ['Nonfiction', 'Science', 'Humor', 'Audiobook'...   \n",
       "2  ['Science Fiction', 'Fiction', 'Space', 'Space...   \n",
       "3  ['Science Fiction', 'Fiction', 'Space', 'Space...   \n",
       "4  ['Science Fiction', 'Fiction', 'Space', 'Space...   \n",
       "\n",
       "                                           Image Url  \n",
       "0  https://i.gr-assets.com/images/S/compressed.ph...  \n",
       "1  https://i.gr-assets.com/images/S/compressed.ph...  \n",
       "2                                                NaN  \n",
       "3  https://i.gr-assets.com/images/S/compressed.ph...  \n",
       "4  https://i.gr-assets.com/images/S/compressed.ph...  "
      ]
     },
     "execution_count": 2,
     "metadata": {},
     "output_type": "execute_result"
    }
   ],
   "source": [
    "books = pd.read_csv(\"Books_Final_with_info.csv\")\n",
    "books.head()"
   ]
  },
  {
   "cell_type": "markdown",
   "metadata": {},
   "source": [
    "# User Shelves List"
   ]
  },
  {
   "cell_type": "code",
   "execution_count": 1,
   "metadata": {},
   "outputs": [],
   "source": [
    "def user_books_from_goodreads(user_code = None, shelf_name = None, verbose = 1):\n",
    "    \"\"\"\n",
    "    Scarping book info from Goodreads Users's page\n",
    "    the user_code is 9 digit code found in the link of user's 'My Books' page\n",
    "    If no shelf name is provided, info from 'All' shelf is returned\n",
    "    verbose has usual meaning with value being integer 0 or 1, default is 1.\n",
    "    eg. book_from_goodreads(user_code =110673662, shelf_name = 'currently-reading', verbose = 1)\n",
    "    \"\"\"\n",
    "\n",
    "    #Scarping book info from Goodreads\n",
    "\n",
    "    #Imports\n",
    "    import requests\n",
    "    import bs4\n",
    "    import pandas as pd\n",
    "\n",
    "    #Containers\n",
    "    books = []\n",
    "    authors = []\n",
    "    isbn13s = []\n",
    "    isbns =[]\n",
    "    pagess = []\n",
    "    ratings = []\n",
    "    num_ratings = []\n",
    "    pub_dates = []\n",
    "    date_started = []\n",
    "    date_completed = []\n",
    "\n",
    "    p=1\n",
    "    while True:\n",
    "\n",
    "        if not shelf_name:\n",
    "            link = f'https://www.goodreads.com/review/list/{user_code}?page={p}'\n",
    "        else:\n",
    "            link = f'https://www.goodreads.com/review/list/{user_code}?page={p}&ref=nav_mybooks&shelf={shelf_name}'\n",
    "\n",
    "        code = requests.get(link)\n",
    "        soup = bs4.BeautifulSoup(code.text, \"lxml\")\n",
    "\n",
    "        #Breaking the loop\n",
    "        if soup.select('.bookalike') == []:\n",
    "            break\n",
    "\n",
    "        if verbose == 0:\n",
    "            pass \n",
    "        else:\n",
    "            print(f'Currently on Page: {p}')\n",
    "\n",
    "        for i in range(len(soup.select('.bookalike'))):\n",
    "\n",
    "            book_name = soup.select('.bookalike .title a')[i]['title']\n",
    "            books.append(book_name)\n",
    "\n",
    "            author = soup.select('.bookalike .author a')[i].text\n",
    "            authors.append(author)\n",
    "\n",
    "            isbn13 = soup.select('.bookalike .isbn13 .value')[i].text.strip()\n",
    "            isbn13s.append(str(isbn13))\n",
    "            isbn = soup.select('.bookalike .isbn .value')[i].text.strip()\n",
    "            isbns.append(str(isbn))\n",
    "\n",
    "            pages = soup.select('.bookalike .num_pages .value')[i].text.split('\\n')[1].strip()\n",
    "            pagess.append(pages)\n",
    "\n",
    "            rating = float(soup.select('.bookalike .avg_rating .value')[i].text.strip())\n",
    "            ratings.append(rating)\n",
    "\n",
    "            num = soup.select('.bookalike .num_ratings .value')[i].text.strip()\n",
    "            num_rating = int(''.join(num.split(',')))\n",
    "            num_ratings.append(num_rating)\n",
    "\n",
    "            pub_date = soup.select('.bookalike .date_pub .value')[i].text.strip()\n",
    "            pub_dates.append(pub_date)\n",
    "            \n",
    "            started = soup.select('.bookalike .date_started')[i].text.split('\\n')[3]\n",
    "            date_started.append(started)\n",
    "\n",
    "            ended = soup.select('.bookalike .date_read')[i].text.split('\\n')[3]\n",
    "            date_completed.append(ended)\n",
    "\n",
    "        #Next page\n",
    "        p=p+1\n",
    "\n",
    "    #Creating the DataFrame\n",
    "    index = 'Book Name, Author, ISBN 13, ISBN, Number of Pages, Average Rating, Total Number of Ratings, Publication Date, Date Started, Date Completed'.split(', ')\n",
    "    book_df = pd.DataFrame(data = [books, authors, isbn13s, isbns, pagess, ratings, num_ratings, pub_dates, date_started, date_completed], index = index).transpose()\n",
    "    return book_df"
   ]
  },
  {
   "cell_type": "markdown",
   "metadata": {},
   "source": [
    "# Getting Information about the Books"
   ]
  },
  {
   "cell_type": "markdown",
   "metadata": {},
   "source": [
    "## Get the Url of the Book on Goodreads"
   ]
  },
  {
   "cell_type": "markdown",
   "metadata": {},
   "source": [
    "### Getting the Urls"
   ]
  },
  {
   "cell_type": "code",
   "execution_count": 21,
   "metadata": {},
   "outputs": [],
   "source": [
    "book_name = \"A Thousand Splendid Sun\"\n",
    "Author = \"Khaled Hosseini\"\n",
    "query = \"+\".join(book_name.split()) + \"+\" + \"+\".join(Author.split())+\"goodreads\"\n",
    "url = f\"https://www.google.com/search?q={query}\""
   ]
  },
  {
   "cell_type": "code",
   "execution_count": 22,
   "metadata": {},
   "outputs": [
    {
     "data": {
      "text/plain": [
       "'https://www.goodreads.com/book/show/128029.A_Thousand_Splendid_Suns'"
      ]
     },
     "execution_count": 22,
     "metadata": {},
     "output_type": "execute_result"
    }
   ],
   "source": [
    "driver.get(url)\n",
    "el = driver.find_element(By.CLASS_NAME , \"yuRUbf\")\n",
    "el.find_element(By.TAG_NAME, \"a\").get_attribute(\"href\")"
   ]
  },
  {
   "cell_type": "code",
   "execution_count": 58,
   "metadata": {},
   "outputs": [],
   "source": [
    "def get_goodreads_link(book_name, author, series):\n",
    "    if series == \"Standalone\":\n",
    "        series = \"\"\n",
    "    query = \"+\".join(book_name.split()) + \"+\" + \"+\".join(series.split())+\"+\" + \"+\".join(author.split())+ \"+\" + \"goodreads\"\n",
    "    url = f\"https://www.google.com/search?q={query}\"\n",
    "    # print(url)\n",
    "    driver.get(url)\n",
    "    el = driver.find_element(By.CLASS_NAME , \"yuRUbf\")\n",
    "    book_url = el.find_element(By.TAG_NAME, \"a\").get_attribute(\"href\")\n",
    "    return book_url"
   ]
  },
  {
   "cell_type": "code",
   "execution_count": 59,
   "metadata": {},
   "outputs": [],
   "source": [
    "authors = books['Author']\n",
    "book_names = books['Name']\n",
    "series = books['Series']"
   ]
  },
  {
   "cell_type": "code",
   "execution_count": 60,
   "metadata": {},
   "outputs": [
    {
     "name": "stderr",
     "output_type": "stream",
     "text": [
      "Getting Goodreads Links: 100%|██████████| 450/450 [16:58<00:00,  2.26s/it]\n"
     ]
    }
   ],
   "source": [
    "books_url = []\n",
    "for i in tqdm.tqdm(range(len(books)), desc = \"Getting Goodreads Links\"):\n",
    "    book_name = book_names[i]\n",
    "    author = authors[i]\n",
    "    series_name = series[i]\n",
    "    try:\n",
    "        book_url = get_goodreads_link(book_name, author, series_name)\n",
    "        books_url.append(book_url)\n",
    "    except:\n",
    "        print(f\"{book_name} by {author} not found\")\n",
    "        books_url.append(None)\n",
    "    time.sleep(1)"
   ]
  },
  {
   "cell_type": "markdown",
   "metadata": {},
   "source": [
    "### Extracting Book ID From the Urls"
   ]
  },
  {
   "cell_type": "code",
   "execution_count": 72,
   "metadata": {},
   "outputs": [
    {
     "data": {
      "text/plain": [
       "'https://www.goodreads.com/book/show/58783427-leviathan-falls#:~:text=As%20nearly%20unimaginable%20forces%20prepare,and%20secrets%20if%20they%20win.'"
      ]
     },
     "execution_count": 72,
     "metadata": {},
     "output_type": "execute_result"
    }
   ],
   "source": [
    "books_url[2]"
   ]
  },
  {
   "cell_type": "code",
   "execution_count": 75,
   "metadata": {},
   "outputs": [
    {
     "data": {
      "text/plain": [
       "['58783427']"
      ]
     },
     "execution_count": 75,
     "metadata": {},
     "output_type": "execute_result"
    }
   ],
   "source": [
    "id_reg = re.compile(r'\\/(\\d+)\\/?')\n",
    "id_reg.findall(books_url[2])"
   ]
  },
  {
   "cell_type": "code",
   "execution_count": 78,
   "metadata": {},
   "outputs": [],
   "source": [
    "book_url_id = []\n",
    "for url in books_url:\n",
    "    if url is not None:\n",
    "        id_reg.findall(url)\n",
    "        try:\n",
    "            book_url_id.append(id_reg.findall(url)[0])\n",
    "        except:\n",
    "            book_url_id.append(None)\n",
    "    else:\n",
    "        book_url_id.append(None)"
   ]
  },
  {
   "cell_type": "code",
   "execution_count": 80,
   "metadata": {},
   "outputs": [
    {
     "data": {
      "text/plain": [
       "'55262194'"
      ]
     },
     "execution_count": 80,
     "metadata": {},
     "output_type": "execute_result"
    }
   ],
   "source": [
    "book_url_id[0]"
   ]
  },
  {
   "cell_type": "markdown",
   "metadata": {},
   "source": [
    "### Creating Final Urls"
   ]
  },
  {
   "cell_type": "code",
   "execution_count": 85,
   "metadata": {},
   "outputs": [
    {
     "data": {
      "text/plain": [
       "['https://www.goodreads.com/book/show/21413662',\n",
       " 'https://www.goodreads.com/book/show/58783427',\n",
       " 'https://www.goodreads.com/book/show/28335698',\n",
       " 'https://www.goodreads.com/book/show/28335696']"
      ]
     },
     "execution_count": 85,
     "metadata": {},
     "output_type": "execute_result"
    }
   ],
   "source": [
    "prefix = \"https://www.goodreads.com/book/show/\"\n",
    "urls_final =[]\n",
    "for id in book_url_id:\n",
    "    if id is not None:\n",
    "        urls_final.append(prefix+id)\n",
    "    else:\n",
    "        urls_final.append(None)\n",
    "urls_final[1:5]"
   ]
  },
  {
   "cell_type": "markdown",
   "metadata": {},
   "source": [
    "### Appending Them To The DataFrame"
   ]
  },
  {
   "cell_type": "code",
   "execution_count": 87,
   "metadata": {},
   "outputs": [
    {
     "data": {
      "text/html": [
       "<div>\n",
       "<style scoped>\n",
       "    .dataframe tbody tr th:only-of-type {\n",
       "        vertical-align: middle;\n",
       "    }\n",
       "\n",
       "    .dataframe tbody tr th {\n",
       "        vertical-align: top;\n",
       "    }\n",
       "\n",
       "    .dataframe thead th {\n",
       "        text-align: right;\n",
       "    }\n",
       "</style>\n",
       "<table border=\"1\" class=\"dataframe\">\n",
       "  <thead>\n",
       "    <tr style=\"text-align: right;\">\n",
       "      <th></th>\n",
       "      <th>Book Name</th>\n",
       "      <th>Author</th>\n",
       "      <th>ISBN 13</th>\n",
       "      <th>ISBN</th>\n",
       "      <th>Number of Pages</th>\n",
       "      <th>Average Rating</th>\n",
       "      <th>Total Number of Ratings</th>\n",
       "      <th>Publication Date</th>\n",
       "      <th>Date Started</th>\n",
       "      <th>Date Completed</th>\n",
       "      <th>Name</th>\n",
       "      <th>Series</th>\n",
       "      <th>Volume</th>\n",
       "      <th>Goodreads Url</th>\n",
       "    </tr>\n",
       "  </thead>\n",
       "  <tbody>\n",
       "    <tr>\n",
       "      <th>0</th>\n",
       "      <td>The Lightning Tree</td>\n",
       "      <td>Patrick Rothfuss</td>\n",
       "      <td>NaN</td>\n",
       "      <td>NaN</td>\n",
       "      <td>93</td>\n",
       "      <td>4.00</td>\n",
       "      <td>2156</td>\n",
       "      <td>2014-01-01</td>\n",
       "      <td>2022-04-16</td>\n",
       "      <td>2022-04-16</td>\n",
       "      <td>The Lightning Tree</td>\n",
       "      <td>Standalone</td>\n",
       "      <td>1</td>\n",
       "      <td>https://www.goodreads.com/book/show/55262194</td>\n",
       "    </tr>\n",
       "    <tr>\n",
       "      <th>1</th>\n",
       "      <td>What If? Serious Scientific Answers to Absurd ...</td>\n",
       "      <td>Randall Munroe</td>\n",
       "      <td>9.780544e+12</td>\n",
       "      <td>0544272994</td>\n",
       "      <td>303</td>\n",
       "      <td>4.14</td>\n",
       "      <td>151303</td>\n",
       "      <td>2014-09-02</td>\n",
       "      <td>NaN</td>\n",
       "      <td>NaN</td>\n",
       "      <td>What If? Serious Scientific Answers to Absurd ...</td>\n",
       "      <td>What If?</td>\n",
       "      <td>1</td>\n",
       "      <td>https://www.goodreads.com/book/show/21413662</td>\n",
       "    </tr>\n",
       "    <tr>\n",
       "      <th>2</th>\n",
       "      <td>Leviathan Falls (The Expanse, #9)</td>\n",
       "      <td>James S.A. Corey</td>\n",
       "      <td>9.780357e+12</td>\n",
       "      <td>0356510395</td>\n",
       "      <td>528</td>\n",
       "      <td>4.54</td>\n",
       "      <td>31066</td>\n",
       "      <td>2021-11-30</td>\n",
       "      <td>NaN</td>\n",
       "      <td>NaN</td>\n",
       "      <td>Leviathan Falls</td>\n",
       "      <td>The Expanse</td>\n",
       "      <td>9</td>\n",
       "      <td>https://www.goodreads.com/book/show/58783427</td>\n",
       "    </tr>\n",
       "    <tr>\n",
       "      <th>3</th>\n",
       "      <td>Tiamat's Wrath (The Expanse, #8)</td>\n",
       "      <td>James S.A. Corey</td>\n",
       "      <td>9.780316e+12</td>\n",
       "      <td>0316332879</td>\n",
       "      <td>534</td>\n",
       "      <td>4.57</td>\n",
       "      <td>47842</td>\n",
       "      <td>2019-03-26</td>\n",
       "      <td>NaN</td>\n",
       "      <td>NaN</td>\n",
       "      <td>Tiamat's Wrath</td>\n",
       "      <td>The Expanse</td>\n",
       "      <td>8</td>\n",
       "      <td>https://www.goodreads.com/book/show/28335698</td>\n",
       "    </tr>\n",
       "    <tr>\n",
       "      <th>4</th>\n",
       "      <td>Persepolis Rising (The Expanse, #7)</td>\n",
       "      <td>James S.A. Corey</td>\n",
       "      <td>9.780316e+12</td>\n",
       "      <td>0316332828</td>\n",
       "      <td>608</td>\n",
       "      <td>4.37</td>\n",
       "      <td>53386</td>\n",
       "      <td>2017-12-05</td>\n",
       "      <td>2022-06-02</td>\n",
       "      <td>NaN</td>\n",
       "      <td>Persepolis Rising</td>\n",
       "      <td>The Expanse</td>\n",
       "      <td>7</td>\n",
       "      <td>https://www.goodreads.com/book/show/28335696</td>\n",
       "    </tr>\n",
       "  </tbody>\n",
       "</table>\n",
       "</div>"
      ],
      "text/plain": [
       "                                           Book Name            Author  \\\n",
       "0                                 The Lightning Tree  Patrick Rothfuss   \n",
       "1  What If? Serious Scientific Answers to Absurd ...    Randall Munroe   \n",
       "2                  Leviathan Falls (The Expanse, #9)  James S.A. Corey   \n",
       "3                   Tiamat's Wrath (The Expanse, #8)  James S.A. Corey   \n",
       "4                Persepolis Rising (The Expanse, #7)  James S.A. Corey   \n",
       "\n",
       "        ISBN 13        ISBN Number of Pages  Average Rating  \\\n",
       "0           NaN         NaN              93            4.00   \n",
       "1  9.780544e+12  0544272994             303            4.14   \n",
       "2  9.780357e+12  0356510395             528            4.54   \n",
       "3  9.780316e+12  0316332879             534            4.57   \n",
       "4  9.780316e+12  0316332828             608            4.37   \n",
       "\n",
       "   Total Number of Ratings Publication Date Date Started Date Completed  \\\n",
       "0                     2156       2014-01-01   2022-04-16     2022-04-16   \n",
       "1                   151303       2014-09-02          NaN            NaN   \n",
       "2                    31066       2021-11-30          NaN            NaN   \n",
       "3                    47842       2019-03-26          NaN            NaN   \n",
       "4                    53386       2017-12-05   2022-06-02            NaN   \n",
       "\n",
       "                                                Name       Series  Volume  \\\n",
       "0                                 The Lightning Tree   Standalone       1   \n",
       "1  What If? Serious Scientific Answers to Absurd ...     What If?       1   \n",
       "2                                    Leviathan Falls  The Expanse       9   \n",
       "3                                     Tiamat's Wrath  The Expanse       8   \n",
       "4                                  Persepolis Rising  The Expanse       7   \n",
       "\n",
       "                                  Goodreads Url  \n",
       "0  https://www.goodreads.com/book/show/55262194  \n",
       "1  https://www.goodreads.com/book/show/21413662  \n",
       "2  https://www.goodreads.com/book/show/58783427  \n",
       "3  https://www.goodreads.com/book/show/28335698  \n",
       "4  https://www.goodreads.com/book/show/28335696  "
      ]
     },
     "execution_count": 87,
     "metadata": {},
     "output_type": "execute_result"
    }
   ],
   "source": [
    "books[\"Goodreads Url\"] = urls_final\n",
    "books.head()"
   ]
  },
  {
   "cell_type": "markdown",
   "metadata": {},
   "source": [
    "Let's save them."
   ]
  },
  {
   "cell_type": "code",
   "execution_count": 88,
   "metadata": {},
   "outputs": [],
   "source": [
    "books.to_csv(\"Books_Final.csv\", index = False)"
   ]
  },
  {
   "cell_type": "markdown",
   "metadata": {},
   "source": [
    "## Get the Descriptions of the Books"
   ]
  },
  {
   "cell_type": "markdown",
   "metadata": {},
   "source": [
    "There are two seprate ways to get the description of the book.\n",
    "1. Use the class `Foramatted` to get the description.\n",
    "2. Use the id `description` to get the description.\n",
    "\n",
    "We have to use one of them as sometimes the first one works and sometime the second one."
   ]
  },
  {
   "cell_type": "markdown",
   "metadata": {},
   "source": [
    "### First Method"
   ]
  },
  {
   "cell_type": "markdown",
   "metadata": {},
   "source": [
    "#### Getting The Raw Text "
   ]
  },
  {
   "cell_type": "code",
   "execution_count": 182,
   "metadata": {},
   "outputs": [
    {
     "data": {
      "text/plain": [
       "'https://www.goodreads.com/book/show/58783427'"
      ]
     },
     "execution_count": 182,
     "metadata": {},
     "output_type": "execute_result"
    }
   ],
   "source": [
    "link = books[\"Goodreads Url\"][2]\n",
    "code = requests.get(link)\n",
    "soup = bs4.BeautifulSoup(code.text, \"lxml\")\n",
    "link"
   ]
  },
  {
   "cell_type": "code",
   "execution_count": 195,
   "metadata": {},
   "outputs": [
    {
     "data": {
      "text/plain": [
       "[]"
      ]
     },
     "execution_count": 195,
     "metadata": {},
     "output_type": "execute_result"
    }
   ],
   "source": [
    "soup.select(\".Formatted\")[0].select(\"span\")"
   ]
  },
  {
   "cell_type": "code",
   "execution_count": 183,
   "metadata": {},
   "outputs": [
    {
     "ename": "IndexError",
     "evalue": "list index out of range",
     "output_type": "error",
     "traceback": [
      "\u001b[1;31m---------------------------------------------------------------------------\u001b[0m",
      "\u001b[1;31mIndexError\u001b[0m                                Traceback (most recent call last)",
      "\u001b[1;32m<ipython-input-183-fe3f4bc423ec>\u001b[0m in \u001b[0;36m<module>\u001b[1;34m\u001b[0m\n\u001b[1;32m----> 1\u001b[1;33m \u001b[0mraw_text\u001b[0m \u001b[1;33m=\u001b[0m \u001b[0msoup\u001b[0m\u001b[1;33m.\u001b[0m\u001b[0mselect\u001b[0m\u001b[1;33m(\u001b[0m\u001b[1;34m\".Formatted\"\u001b[0m\u001b[1;33m)\u001b[0m\u001b[1;33m[\u001b[0m\u001b[1;36m0\u001b[0m\u001b[1;33m]\u001b[0m\u001b[1;33m.\u001b[0m\u001b[0mextract\u001b[0m\u001b[1;33m(\u001b[0m\u001b[1;33m)\u001b[0m\u001b[1;33m\u001b[0m\u001b[1;33m\u001b[0m\u001b[0m\n\u001b[0m\u001b[0;32m      2\u001b[0m \u001b[0mraw_text\u001b[0m\u001b[1;33m\u001b[0m\u001b[1;33m\u001b[0m\u001b[0m\n",
      "\u001b[1;31mIndexError\u001b[0m: list index out of range"
     ]
    }
   ],
   "source": [
    "raw_text = soup.select(\".Formatted\")[0].extract()\n",
    "raw_text"
   ]
  },
  {
   "cell_type": "code",
   "execution_count": 172,
   "metadata": {},
   "outputs": [
    {
     "data": {
      "text/plain": [
       "['Humanity has colonized the solar system—Mars, the Moon, the Asteroid Belt and beyond—but the stars are still out of our reach.',\n",
       " <br/>,\n",
       " <br/>,\n",
       " 'Jim Holden is XO of an ice miner making runs from the rings of Saturn to the mining stations of the Belt. When he and his crew stumble upon a derelict ship, the ',\n",
       " <i>Scopuli</i>,\n",
       " ', they find themselves in possession of a secret they never wanted. A secret that someone is willing to kill for—and kill on a scale unfathomable to Jim and his crew. War is brewing in the system unless he can find out who left the ship and why.',\n",
       " <br/>,\n",
       " <br/>,\n",
       " 'Detective Miller is looking for a girl. One girl in a system of billions, but her parents have money and money talks. When the trail leads him to the ',\n",
       " <i>Scopuli</i>,\n",
       " ' and rebel sympathizer Holden, he realizes that this girl may be the key to everything.',\n",
       " <br/>,\n",
       " <br/>,\n",
       " 'Holden and Miller must thread the needle between the Earth government, the Outer Planet revolutionaries, and secretive corporations—and the odds are against them. But out in the Belt, the rules are different, and one small ship can change the fate of the universe.']"
      ]
     },
     "execution_count": 172,
     "metadata": {},
     "output_type": "execute_result"
    }
   ],
   "source": [
    "all_contents = soup.select(\".Formatted\")[0].contents\n",
    "all_contents"
   ]
  },
  {
   "cell_type": "code",
   "execution_count": 173,
   "metadata": {},
   "outputs": [
    {
     "data": {
      "text/plain": [
       "'Humanity has colonized the solar system—Mars, the Moon, the Asteroid Belt and beyond—but the stars are still out of our reach.'"
      ]
     },
     "execution_count": 173,
     "metadata": {},
     "output_type": "execute_result"
    }
   ],
   "source": [
    "all_contents[0]"
   ]
  },
  {
   "cell_type": "code",
   "execution_count": 174,
   "metadata": {},
   "outputs": [
    {
     "data": {
      "text/plain": [
       "['Humanity has colonized the solar system—Mars, the Moon, the Asteroid Belt and beyond—but the stars are still out of our reach.',\n",
       " <br/>,\n",
       " <i>Scopuli</i>,\n",
       " <br/>,\n",
       " 'Detective Miller is looking for a girl. One girl in a system of billions, but her parents have money and money talks. When the trail leads him to the ',\n",
       " ' and rebel sympathizer Holden, he realizes that this girl may be the key to everything.',\n",
       " <br/>]"
      ]
     },
     "execution_count": 174,
     "metadata": {},
     "output_type": "execute_result"
    }
   ],
   "source": [
    "raw_text = [content.extract() for content in all_contents]\n",
    "raw_text"
   ]
  },
  {
   "cell_type": "code",
   "execution_count": 146,
   "metadata": {},
   "outputs": [
    {
     "ename": "IndexError",
     "evalue": "list index out of range",
     "output_type": "error",
     "traceback": [
      "\u001b[1;31m---------------------------------------------------------------------------\u001b[0m",
      "\u001b[1;31mIndexError\u001b[0m                                Traceback (most recent call last)",
      "\u001b[1;32m<ipython-input-146-923d097d82ec>\u001b[0m in \u001b[0;36m<module>\u001b[1;34m\u001b[0m\n\u001b[1;32m----> 1\u001b[1;33m \u001b[0msoup\u001b[0m\u001b[1;33m.\u001b[0m\u001b[0mselect\u001b[0m\u001b[1;33m(\u001b[0m\u001b[1;34m\"#description\"\u001b[0m\u001b[1;33m)\u001b[0m\u001b[1;33m[\u001b[0m\u001b[1;36m0\u001b[0m\u001b[1;33m]\u001b[0m\u001b[1;33m.\u001b[0m\u001b[0mtext\u001b[0m\u001b[1;33m.\u001b[0m\u001b[0mstrip\u001b[0m\u001b[1;33m(\u001b[0m\u001b[1;33m)\u001b[0m\u001b[1;33m\u001b[0m\u001b[1;33m\u001b[0m\u001b[0m\n\u001b[0m",
      "\u001b[1;31mIndexError\u001b[0m: list index out of range"
     ]
    }
   ],
   "source": [
    "# soup.select(\"#description\")[0].text.strip()"
   ]
  },
  {
   "cell_type": "markdown",
   "metadata": {},
   "source": [
    "### Using Selenium"
   ]
  },
  {
   "cell_type": "code",
   "execution_count": 309,
   "metadata": {},
   "outputs": [
    {
     "data": {
      "text/plain": [
       "'https://www.goodreads.com/book/show/13612965'"
      ]
     },
     "execution_count": 309,
     "metadata": {},
     "output_type": "execute_result"
    }
   ],
   "source": [
    "link = books[\"Goodreads Url\"][240]\n",
    "code = requests.get(link)\n",
    "soup = bs4.BeautifulSoup(code.text, \"lxml\")\n",
    "link"
   ]
  },
  {
   "cell_type": "code",
   "execution_count": 311,
   "metadata": {},
   "outputs": [
    {
     "data": {
      "text/plain": [
       "[]"
      ]
     },
     "execution_count": 311,
     "metadata": {},
     "output_type": "execute_result"
    }
   ],
   "source": [
    "soup.select(\"#description\")"
   ]
  },
  {
   "cell_type": "code",
   "execution_count": 219,
   "metadata": {},
   "outputs": [],
   "source": [
    "driver.get(link)"
   ]
  },
  {
   "cell_type": "code",
   "execution_count": 220,
   "metadata": {},
   "outputs": [],
   "source": [
    "driver.find_element(By.ID, \"description\").find_element(By.TAG_NAME, \"a\").click()"
   ]
  },
  {
   "cell_type": "code",
   "execution_count": 221,
   "metadata": {},
   "outputs": [
    {
     "data": {
      "text/plain": [
       "\"The Seven Cities Rebellion has been crushed. Sha'ik is dead. One last rebel force remains, holed up in the city of Y'Ghatan and under the fanatical command of Leoman of the Flails. The prospect of laying siege to this ancient fortress makes the battle-weary Malaz 14th Army uneasy. For it was here that the Empire's greatest champion Dassem Ultor was slain and a tide of Malazan blood spilled. A place of foreboding, its smell is of death. But elsewhere, agents of a far greater conflict have made their opening moves. The Crippled God has been granted a place in the pantheon, a schism threatens and sides must be chosen. Whatever each god decides, the ground-rules have changed, irrevocably, terrifyingly and the first blood spilled will be in the mortal world. A world in which a host of characters, familiar and new, including Heboric Ghost Hands, the possessed Apsalar, Cutter, once a thief now a killer, the warrior Karsa Orlong and the two ancient wanderers Icarium and Mappo, each searching for such a fate as they might fashion with their own hands, guided by their own will. If only the gods would leave them alone. But now that knives have been unsheathed, the gods are disinclined to be kind. There shall be war, war in the heavens.And the prize? Nothing less than existence itself...\\n\\nHere is the stunning new chapter in Steven Erikson magnificent 'Malazan Book of the Fallen' - hailed an epic of the imagination and acknowledged as a fantasy classic in the making.\""
      ]
     },
     "execution_count": 221,
     "metadata": {},
     "output_type": "execute_result"
    }
   ],
   "source": [
    "raw_text = driver.find_element(By.ID, \"description\").text\n",
    "raw_text = raw_text.replace(\"\\n\\n\", \"\\n\")\n",
    "raw_text = raw_text.replace(\" (less)\", \"\")\n",
    "raw_text"
   ]
  },
  {
   "cell_type": "code",
   "execution_count": 3,
   "metadata": {},
   "outputs": [],
   "source": [
    "def get_description(driver):\n",
    "    try:\n",
    "        driver.find_element(By.ID, \"description\").find_element(By.TAG_NAME, \"a\").click()\n",
    "    except BaseException:\n",
    "        pass\n",
    "    try:\n",
    "        raw_text = driver.find_element(By.ID, \"description\").text\n",
    "        raw_text = raw_text.replace(\"\\n\\n\", \"\\n\")\n",
    "        raw_text = raw_text.replace(\" (less)\", \"\")\n",
    "        return raw_text\n",
    "    except BaseException as e:\n",
    "        print(\"No description\")\n",
    "        raise e"
   ]
  },
  {
   "cell_type": "markdown",
   "metadata": {},
   "source": [
    "### The Genre"
   ]
  },
  {
   "cell_type": "code",
   "execution_count": 4,
   "metadata": {},
   "outputs": [],
   "source": [
    "def get_genre(driver):\n",
    "    genre_list = []\n",
    "    for i in range(10):\n",
    "        try:\n",
    "            genre = driver.find_elements(By.CLASS_NAME, \"bookPageGenreLink\")[i].text\n",
    "            if \"users\" in genre:\n",
    "                continue\n",
    "            else:\n",
    "                genre_list.append(genre)\n",
    "        except BaseException:\n",
    "            break\n",
    "    return genre_list"
   ]
  },
  {
   "cell_type": "code",
   "execution_count": 264,
   "metadata": {},
   "outputs": [
    {
     "data": {
      "text/plain": [
       "[]"
      ]
     },
     "execution_count": 264,
     "metadata": {},
     "output_type": "execute_result"
    }
   ],
   "source": [
    "link = books[\"Goodreads Url\"][220]\n",
    "driver.get(link)\n",
    "get_genre(driver)"
   ]
  },
  {
   "cell_type": "markdown",
   "metadata": {},
   "source": [
    "### Get Image Url"
   ]
  },
  {
   "cell_type": "code",
   "execution_count": 265,
   "metadata": {},
   "outputs": [
    {
     "data": {
      "text/plain": [
       "'https://i.gr-assets.com/images/S/compressed.photo.goodreads.com/books/1480617604l/33220026._SY475_.jpg'"
      ]
     },
     "execution_count": 265,
     "metadata": {},
     "output_type": "execute_result"
    }
   ],
   "source": [
    "driver.find_element(By.ID, \"coverImage\").get_attribute(\"src\")"
   ]
  },
  {
   "cell_type": "markdown",
   "metadata": {},
   "source": [
    "### Putting It Together"
   ]
  },
  {
   "cell_type": "code",
   "execution_count": 7,
   "metadata": {},
   "outputs": [],
   "source": [
    "def get_info(url, driver=driver):\n",
    "    driver.get(url)\n",
    "    try:\n",
    "        description = get_description(driver)\n",
    "    except BaseException:\n",
    "        print(\"No description for\", url)\n",
    "        description = None\n",
    "    try:\n",
    "        genre = get_genre(driver)\n",
    "    except BaseException:\n",
    "        print(\"No genre for\", url)\n",
    "        genre = None\n",
    "    try:\n",
    "        img_url = driver.find_element(By.ID, \"coverImage\").get_attribute(\"src\")\n",
    "    except BaseException:\n",
    "        print(\"No image for\", url)\n",
    "        img_url = None\n",
    "    return description, genre, img_url"
   ]
  },
  {
   "cell_type": "code",
   "execution_count": 357,
   "metadata": {},
   "outputs": [
    {
     "name": "stderr",
     "output_type": "stream",
     "text": [
      "\n",
      "\n",
      "====== WebDriver manager ======\n",
      "Current google-chrome version is 103.0.5060\n",
      "Get LATEST chromedriver version for 103.0.5060 google-chrome\n",
      "Driver [C:\\Users\\harik\\.wdm\\drivers\\chromedriver\\win32\\103.0.5060.53\\chromedriver.exe] found in cache\n",
      "<ipython-input-357-1d3a0ba65aca>:2: DeprecationWarning: executable_path has been deprecated, please pass in a Service object\n",
      "  driver = webdriver.Chrome(ChromeDriverManager().install())\n"
     ]
    }
   ],
   "source": [
    "#Open ChromeDriver\n",
    "driver = webdriver.Chrome(ChromeDriverManager().install())"
   ]
  },
  {
   "cell_type": "code",
   "execution_count": 8,
   "metadata": {},
   "outputs": [],
   "source": [
    "driver.close()"
   ]
  },
  {
   "cell_type": "code",
   "execution_count": 345,
   "metadata": {},
   "outputs": [
    {
     "data": {
      "text/plain": [
       "('The Lightning Tree is a companion short story in The Kingkiller Chronicle series. It was first published on 2014 in the anthology Rogues.',\n",
       " ['', '', '', '', '', '', '', '', '', ''],\n",
       " 'https://i.gr-assets.com/images/S/compressed.photo.goodreads.com/books/1599506512l/55262194.jpg')"
      ]
     },
     "execution_count": 345,
     "metadata": {},
     "output_type": "execute_result"
    }
   ],
   "source": [
    "link = books[\"Goodreads Url\"][0]\n",
    "get_info(url=link, driver=driver)"
   ]
  },
  {
   "cell_type": "code",
   "execution_count": 9,
   "metadata": {},
   "outputs": [],
   "source": [
    "descriptions = books[\"Description\"]\n",
    "genres = books[\"Genre\"]\n",
    "img_urls = books[\"Image Url\"]"
   ]
  },
  {
   "cell_type": "code",
   "execution_count": 53,
   "metadata": {},
   "outputs": [
    {
     "name": "stderr",
     "output_type": "stream",
     "text": [
      "<ipython-input-53-4e86191230b7>:4: DeprecationWarning: executable_path has been deprecated, please pass in a Service object\n",
      "  driver = webdriver.Chrome(package, chrome_options=chrome_options)\n",
      "<ipython-input-53-4e86191230b7>:4: DeprecationWarning: use options instead of chrome_options\n",
      "  driver = webdriver.Chrome(package, chrome_options=chrome_options)\n"
     ]
    }
   ],
   "source": [
    "chrome_options = webdriver.ChromeOptions()\n",
    "prefs = {\"profile.managed_default_content_settings.images\": 2}\n",
    "chrome_options.add_experimental_option(\"prefs\", prefs)\n",
    "driver = webdriver.Chrome(package, chrome_options=chrome_options)\n",
    "driver.get(books[\"Goodreads Url\"][0])"
   ]
  },
  {
   "cell_type": "code",
   "execution_count": 55,
   "metadata": {},
   "outputs": [],
   "source": [
    "driver.get(books[\"Goodreads Url\"][1])"
   ]
  },
  {
   "cell_type": "code",
   "execution_count": 58,
   "metadata": {},
   "outputs": [
    {
     "name": "stderr",
     "output_type": "stream",
     "text": [
      "Getting Info...:   0%|          | 0/6 [00:00<?, ?it/s]<ipython-input-58-1c43f1b8a29f>:8: SettingWithCopyWarning: \n",
      "A value is trying to be set on a copy of a slice from a DataFrame\n",
      "\n",
      "See the caveats in the documentation: https://pandas.pydata.org/pandas-docs/stable/user_guide/indexing.html#returning-a-view-versus-a-copy\n",
      "  descriptions[i] = description\n",
      "<ipython-input-58-1c43f1b8a29f>:9: SettingWithCopyWarning: \n",
      "A value is trying to be set on a copy of a slice from a DataFrame\n",
      "\n",
      "See the caveats in the documentation: https://pandas.pydata.org/pandas-docs/stable/user_guide/indexing.html#returning-a-view-versus-a-copy\n",
      "  genres[i] = genre\n",
      "<ipython-input-58-1c43f1b8a29f>:10: SettingWithCopyWarning: \n",
      "A value is trying to be set on a copy of a slice from a DataFrame\n",
      "\n",
      "See the caveats in the documentation: https://pandas.pydata.org/pandas-docs/stable/user_guide/indexing.html#returning-a-view-versus-a-copy\n",
      "  img_urls[i] = img_url\n",
      "Getting Info...: 100%|██████████| 6/6 [01:17<00:00, 12.91s/it]\n"
     ]
    }
   ],
   "source": [
    "start = 444\n",
    "end = 450\n",
    "i=start\n",
    "for url in tqdm.tqdm(books[\"Goodreads Url\"][start:end], desc = \"Getting Info...\"):\n",
    "    tic=time.time()\n",
    "    if url is not None:\n",
    "        description, genre, img_url = get_info(url, driver=driver)\n",
    "        descriptions[i] = description\n",
    "        genres[i] = genre\n",
    "        img_urls[i] = img_url\n",
    "    else:\n",
    "        print(\"None URL\")\n",
    "        time.sleep(1.5)\n",
    "        pass\n",
    "    toc = time.time()\n",
    "    if toc-tic < 1.5:\n",
    "        print(\"Something is Wrong. Restart the Driver\")\n",
    "        start = i\n",
    "        break\n",
    "    time.sleep(3)\n",
    "    i+=1"
   ]
  },
  {
   "cell_type": "code",
   "execution_count": 51,
   "metadata": {},
   "outputs": [
    {
     "data": {
      "text/plain": [
       "442"
      ]
     },
     "execution_count": 51,
     "metadata": {},
     "output_type": "execute_result"
    }
   ],
   "source": [
    "driver.close()\n",
    "i"
   ]
  },
  {
   "cell_type": "code",
   "execution_count": 49,
   "metadata": {},
   "outputs": [
    {
     "data": {
      "text/plain": [
       "431"
      ]
     },
     "execution_count": 49,
     "metadata": {},
     "output_type": "execute_result"
    }
   ],
   "source": [
    "i"
   ]
  },
  {
   "cell_type": "code",
   "execution_count": 41,
   "metadata": {},
   "outputs": [
    {
     "data": {
      "text/plain": [
       "'https://www.goodreads.com/book/show/30145666'"
      ]
     },
     "execution_count": 41,
     "metadata": {},
     "output_type": "execute_result"
    }
   ],
   "source": [
    "books[\"Goodreads Url\"][340]"
   ]
  },
  {
   "cell_type": "code",
   "execution_count": 461,
   "metadata": {},
   "outputs": [
    {
     "data": {
      "text/plain": [
       "(array([  0,   1,   2,   3,   4,   5,   6,   7,   8,   9,  10,  11,  12,\n",
       "         13,  14,  15,  16,  17,  18,  19,  20,  21,  22,  23,  24,  25,\n",
       "         26,  27,  28,  29,  30,  31,  32,  33,  34,  35,  36,  37,  38,\n",
       "         39,  40,  41,  43,  44,  45,  46,  47,  48,  49,  50,  51,  52,\n",
       "         53,  54,  55,  56,  57,  58,  59,  60,  61,  62,  63,  64,  65,\n",
       "         66,  67,  68,  69,  70,  71,  72,  73,  74,  75,  76,  77,  78,\n",
       "         79,  80,  81,  82,  83,  84,  85,  86,  87,  88,  89,  90,  91,\n",
       "         92,  93,  94,  95,  96,  97,  98,  99, 100, 101, 102, 103, 104,\n",
       "        105, 106, 107, 108, 109, 110, 111, 112, 113, 114, 115, 116, 117,\n",
       "        118, 119, 120, 121, 122, 123, 124, 125, 126, 127, 128, 129, 130,\n",
       "        131, 132, 133, 134, 135, 136], dtype=int64),)"
      ]
     },
     "execution_count": 461,
     "metadata": {},
     "output_type": "execute_result"
    }
   ],
   "source": [
    "np.nonzero(descriptions)"
   ]
  },
  {
   "cell_type": "code",
   "execution_count": 43,
   "metadata": {},
   "outputs": [
    {
     "data": {
      "text/plain": [
       "\"Sent to a boarding school in Ancelstierre as a young child, Sabriel has had little experience with the random power of Free Magic or the Dead who refuse to stay dead in the Old Kingdom. But during her final semester, her father, the Abhorsen, goes missing, and Sabriel knows she must enter the Old Kingdom to find him.\\nWith Sabriel, the first installment in the Abhorsen series, Garth Nix exploded onto the fantasy scene as a rising star, in a novel that takes readers to a world where the line between the living and the dead isn't always clear—and sometimes disappears altogether.\""
      ]
     },
     "execution_count": 43,
     "metadata": {},
     "output_type": "execute_result"
    }
   ],
   "source": [
    "descriptions[339]"
   ]
  },
  {
   "cell_type": "code",
   "execution_count": 299,
   "metadata": {},
   "outputs": [],
   "source": [
    "from life_saving_tools.misc.Notification import Notification"
   ]
  },
  {
   "cell_type": "code",
   "execution_count": 300,
   "metadata": {},
   "outputs": [
    {
     "name": "stdout",
     "output_type": "stream",
     "text": [
      "SMfebc074c54b043c581968d2b90314404\n"
     ]
    }
   ],
   "source": [
    "n = Notification()\n",
    "n.send_whatsapp_text(\"Extraction Done!\")"
   ]
  },
  {
   "cell_type": "code",
   "execution_count": 59,
   "metadata": {},
   "outputs": [],
   "source": [
    "books[\"Description\"] = descriptions\n",
    "books[\"Genre\"] = genres\n",
    "books[\"Image Url\"] = img_urls"
   ]
  },
  {
   "cell_type": "code",
   "execution_count": 60,
   "metadata": {},
   "outputs": [
    {
     "data": {
      "text/html": [
       "<div>\n",
       "<style scoped>\n",
       "    .dataframe tbody tr th:only-of-type {\n",
       "        vertical-align: middle;\n",
       "    }\n",
       "\n",
       "    .dataframe tbody tr th {\n",
       "        vertical-align: top;\n",
       "    }\n",
       "\n",
       "    .dataframe thead th {\n",
       "        text-align: right;\n",
       "    }\n",
       "</style>\n",
       "<table border=\"1\" class=\"dataframe\">\n",
       "  <thead>\n",
       "    <tr style=\"text-align: right;\">\n",
       "      <th></th>\n",
       "      <th>Book Name</th>\n",
       "      <th>Author</th>\n",
       "      <th>ISBN 13</th>\n",
       "      <th>ISBN</th>\n",
       "      <th>Number of Pages</th>\n",
       "      <th>Average Rating</th>\n",
       "      <th>Total Number of Ratings</th>\n",
       "      <th>Publication Date</th>\n",
       "      <th>Date Started</th>\n",
       "      <th>Date Completed</th>\n",
       "      <th>Name</th>\n",
       "      <th>Series</th>\n",
       "      <th>Volume</th>\n",
       "      <th>Goodreads Url</th>\n",
       "      <th>Description</th>\n",
       "      <th>Genre</th>\n",
       "      <th>Image Url</th>\n",
       "    </tr>\n",
       "  </thead>\n",
       "  <tbody>\n",
       "    <tr>\n",
       "      <th>0</th>\n",
       "      <td>The Lightning Tree</td>\n",
       "      <td>Patrick Rothfuss</td>\n",
       "      <td>NaN</td>\n",
       "      <td>NaN</td>\n",
       "      <td>93</td>\n",
       "      <td>4.00</td>\n",
       "      <td>2156</td>\n",
       "      <td>2014-01-01</td>\n",
       "      <td>2022-04-16</td>\n",
       "      <td>2022-04-16</td>\n",
       "      <td>The Lightning Tree</td>\n",
       "      <td>Standalone</td>\n",
       "      <td>1</td>\n",
       "      <td>https://www.goodreads.com/book/show/55262194</td>\n",
       "      <td>The Lightning Tree is a companion short story ...</td>\n",
       "      <td>['Fantasy', 'Fiction', 'Short Stories', 'Fanta...</td>\n",
       "      <td>https://i.gr-assets.com/images/S/compressed.ph...</td>\n",
       "    </tr>\n",
       "    <tr>\n",
       "      <th>1</th>\n",
       "      <td>What If? Serious Scientific Answers to Absurd ...</td>\n",
       "      <td>Randall Munroe</td>\n",
       "      <td>9.780544e+12</td>\n",
       "      <td>0544272994</td>\n",
       "      <td>303</td>\n",
       "      <td>4.14</td>\n",
       "      <td>151303</td>\n",
       "      <td>2014-09-02</td>\n",
       "      <td>NaN</td>\n",
       "      <td>NaN</td>\n",
       "      <td>What If? Serious Scientific Answers to Absurd ...</td>\n",
       "      <td>What If?</td>\n",
       "      <td>1</td>\n",
       "      <td>https://www.goodreads.com/book/show/21413662</td>\n",
       "      <td>Randall Munroe left NASA in 2005 to start up h...</td>\n",
       "      <td>['Nonfiction', 'Science', 'Humor', 'Audiobook'...</td>\n",
       "      <td>https://i.gr-assets.com/images/S/compressed.ph...</td>\n",
       "    </tr>\n",
       "    <tr>\n",
       "      <th>2</th>\n",
       "      <td>Leviathan Falls (The Expanse, #9)</td>\n",
       "      <td>James S.A. Corey</td>\n",
       "      <td>9.780357e+12</td>\n",
       "      <td>0356510395</td>\n",
       "      <td>528</td>\n",
       "      <td>4.54</td>\n",
       "      <td>31066</td>\n",
       "      <td>2021-11-30</td>\n",
       "      <td>NaN</td>\n",
       "      <td>NaN</td>\n",
       "      <td>Leviathan Falls</td>\n",
       "      <td>The Expanse</td>\n",
       "      <td>9</td>\n",
       "      <td>https://www.goodreads.com/book/show/58783427</td>\n",
       "      <td>The Laconian Empire has fallen, setting the th...</td>\n",
       "      <td>['Science Fiction', 'Fiction', 'Space', 'Space...</td>\n",
       "      <td>NaN</td>\n",
       "    </tr>\n",
       "    <tr>\n",
       "      <th>3</th>\n",
       "      <td>Tiamat's Wrath (The Expanse, #8)</td>\n",
       "      <td>James S.A. Corey</td>\n",
       "      <td>9.780316e+12</td>\n",
       "      <td>0316332879</td>\n",
       "      <td>534</td>\n",
       "      <td>4.57</td>\n",
       "      <td>47842</td>\n",
       "      <td>2019-03-26</td>\n",
       "      <td>NaN</td>\n",
       "      <td>NaN</td>\n",
       "      <td>Tiamat's Wrath</td>\n",
       "      <td>The Expanse</td>\n",
       "      <td>8</td>\n",
       "      <td>https://www.goodreads.com/book/show/28335698</td>\n",
       "      <td>Thirteen hundred gates have opened to solar sy...</td>\n",
       "      <td>['Science Fiction', 'Fiction', 'Space', 'Space...</td>\n",
       "      <td>https://i.gr-assets.com/images/S/compressed.ph...</td>\n",
       "    </tr>\n",
       "    <tr>\n",
       "      <th>4</th>\n",
       "      <td>Persepolis Rising (The Expanse, #7)</td>\n",
       "      <td>James S.A. Corey</td>\n",
       "      <td>9.780316e+12</td>\n",
       "      <td>0316332828</td>\n",
       "      <td>608</td>\n",
       "      <td>4.37</td>\n",
       "      <td>53386</td>\n",
       "      <td>2017-12-05</td>\n",
       "      <td>2022-06-02</td>\n",
       "      <td>NaN</td>\n",
       "      <td>Persepolis Rising</td>\n",
       "      <td>The Expanse</td>\n",
       "      <td>7</td>\n",
       "      <td>https://www.goodreads.com/book/show/28335696</td>\n",
       "      <td>In the thousand-sun network of humanity's expa...</td>\n",
       "      <td>['Science Fiction', 'Fiction', 'Space', 'Space...</td>\n",
       "      <td>https://i.gr-assets.com/images/S/compressed.ph...</td>\n",
       "    </tr>\n",
       "  </tbody>\n",
       "</table>\n",
       "</div>"
      ],
      "text/plain": [
       "                                           Book Name            Author  \\\n",
       "0                                 The Lightning Tree  Patrick Rothfuss   \n",
       "1  What If? Serious Scientific Answers to Absurd ...    Randall Munroe   \n",
       "2                  Leviathan Falls (The Expanse, #9)  James S.A. Corey   \n",
       "3                   Tiamat's Wrath (The Expanse, #8)  James S.A. Corey   \n",
       "4                Persepolis Rising (The Expanse, #7)  James S.A. Corey   \n",
       "\n",
       "        ISBN 13        ISBN Number of Pages  Average Rating  \\\n",
       "0           NaN         NaN              93            4.00   \n",
       "1  9.780544e+12  0544272994             303            4.14   \n",
       "2  9.780357e+12  0356510395             528            4.54   \n",
       "3  9.780316e+12  0316332879             534            4.57   \n",
       "4  9.780316e+12  0316332828             608            4.37   \n",
       "\n",
       "   Total Number of Ratings Publication Date Date Started Date Completed  \\\n",
       "0                     2156       2014-01-01   2022-04-16     2022-04-16   \n",
       "1                   151303       2014-09-02          NaN            NaN   \n",
       "2                    31066       2021-11-30          NaN            NaN   \n",
       "3                    47842       2019-03-26          NaN            NaN   \n",
       "4                    53386       2017-12-05   2022-06-02            NaN   \n",
       "\n",
       "                                                Name       Series  Volume  \\\n",
       "0                                 The Lightning Tree   Standalone       1   \n",
       "1  What If? Serious Scientific Answers to Absurd ...     What If?       1   \n",
       "2                                    Leviathan Falls  The Expanse       9   \n",
       "3                                     Tiamat's Wrath  The Expanse       8   \n",
       "4                                  Persepolis Rising  The Expanse       7   \n",
       "\n",
       "                                  Goodreads Url  \\\n",
       "0  https://www.goodreads.com/book/show/55262194   \n",
       "1  https://www.goodreads.com/book/show/21413662   \n",
       "2  https://www.goodreads.com/book/show/58783427   \n",
       "3  https://www.goodreads.com/book/show/28335698   \n",
       "4  https://www.goodreads.com/book/show/28335696   \n",
       "\n",
       "                                         Description  \\\n",
       "0  The Lightning Tree is a companion short story ...   \n",
       "1  Randall Munroe left NASA in 2005 to start up h...   \n",
       "2  The Laconian Empire has fallen, setting the th...   \n",
       "3  Thirteen hundred gates have opened to solar sy...   \n",
       "4  In the thousand-sun network of humanity's expa...   \n",
       "\n",
       "                                               Genre  \\\n",
       "0  ['Fantasy', 'Fiction', 'Short Stories', 'Fanta...   \n",
       "1  ['Nonfiction', 'Science', 'Humor', 'Audiobook'...   \n",
       "2  ['Science Fiction', 'Fiction', 'Space', 'Space...   \n",
       "3  ['Science Fiction', 'Fiction', 'Space', 'Space...   \n",
       "4  ['Science Fiction', 'Fiction', 'Space', 'Space...   \n",
       "\n",
       "                                           Image Url  \n",
       "0  https://i.gr-assets.com/images/S/compressed.ph...  \n",
       "1  https://i.gr-assets.com/images/S/compressed.ph...  \n",
       "2                                                NaN  \n",
       "3  https://i.gr-assets.com/images/S/compressed.ph...  \n",
       "4  https://i.gr-assets.com/images/S/compressed.ph...  "
      ]
     },
     "execution_count": 60,
     "metadata": {},
     "output_type": "execute_result"
    }
   ],
   "source": [
    "books.head()"
   ]
  },
  {
   "cell_type": "code",
   "execution_count": 61,
   "metadata": {},
   "outputs": [
    {
     "data": {
      "text/plain": [
       "Book Name                  One, Two, Three...Infinity: Facts and Speculat...\n",
       "Author                                                          George Gamow\n",
       "ISBN 13                                                          9.78049e+12\n",
       "ISBN                                                              0486256642\n",
       "Number of Pages                                                          384\n",
       "Average Rating                                                           4.2\n",
       "Total Number of Ratings                                                 3498\n",
       "Publication Date                                                  1947-01-01\n",
       "Date Started                                                             NaN\n",
       "Date Completed                                                           NaN\n",
       "Name                       One, Two, Three...Infinity: Facts and Speculat...\n",
       "Series                                                            Standalone\n",
       "Volume                                                                     1\n",
       "Goodreads Url                      https://www.goodreads.com/book/show/52670\n",
       "Description                \". . . full of intellectual treats and tricks,...\n",
       "Genre                      ['Science', 'Nonfiction', 'Science', 'Physics'...\n",
       "Image Url                  https://i.gr-assets.com/images/S/compressed.ph...\n",
       "Name: 223, dtype: object"
      ]
     },
     "execution_count": 61,
     "metadata": {},
     "output_type": "execute_result"
    }
   ],
   "source": [
    "books.iloc[223]"
   ]
  },
  {
   "cell_type": "code",
   "execution_count": 62,
   "metadata": {},
   "outputs": [],
   "source": [
    "books.to_csv(\"Books_Final_with_info.csv\", index = False)"
   ]
  }
 ],
 "metadata": {
  "kernelspec": {
   "display_name": "Python 3.8.5",
   "language": "python",
   "name": "python3"
  },
  "language_info": {
   "codemirror_mode": {
    "name": "ipython",
    "version": 3
   },
   "file_extension": ".py",
   "mimetype": "text/x-python",
   "name": "python",
   "nbconvert_exporter": "python",
   "pygments_lexer": "ipython3",
   "version": "3.8.5"
  },
  "orig_nbformat": 4,
  "vscode": {
   "interpreter": {
    "hash": "21040c1b576dca9f4f330277849b9f4819256d524dee23c2b89e431027dafe11"
   }
  }
 },
 "nbformat": 4,
 "nbformat_minor": 2
}
