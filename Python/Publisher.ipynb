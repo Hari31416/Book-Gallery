{
 "cells": [
  {
   "cell_type": "code",
   "execution_count": 1,
   "metadata": {},
   "outputs": [],
   "source": [
    "import bs4\n",
    "import requests\n",
    "import pandas as pd\n",
    "import re\n",
    "import numpy as np\n",
    "import tqdm\n",
    "from selenium.webdriver.common.by import By\n",
    "from selenium.webdriver.common.keys import Keys\n",
    "from selenium import webdriver\n",
    "from webdriver_manager.chrome import ChromeDriverManager\n",
    "import time"
   ]
  },
  {
   "cell_type": "code",
   "execution_count": null,
   "metadata": {},
   "outputs": [],
   "source": [
    "package = ChromeDriverManager().install()\n",
    "driver = webdriver.Chrome(package)"
   ]
  },
  {
   "cell_type": "code",
   "execution_count": 3,
   "metadata": {},
   "outputs": [],
   "source": [
    "df = pd.read_csv(\"Books_Final.csv\")"
   ]
  },
  {
   "cell_type": "code",
   "execution_count": 4,
   "metadata": {},
   "outputs": [
    {
     "data": {
      "text/plain": [
       "Index(['Book Name', 'Author', 'ISBN 13', 'ISBN', 'Number of Pages',\n",
       "       'Average Rating', 'Total Number of Ratings', 'Publication Date',\n",
       "       'Date Started', 'Date Completed', 'Name', 'Series', 'Volume',\n",
       "       'Goodreads Url', 'Description', 'Genre', 'Image Url', 'Low Links',\n",
       "       'High Links', 'Publishers'],\n",
       "      dtype='object')"
      ]
     },
     "execution_count": 4,
     "metadata": {},
     "output_type": "execute_result"
    }
   ],
   "source": [
    "df.columns"
   ]
  },
  {
   "cell_type": "code",
   "execution_count": 5,
   "metadata": {},
   "outputs": [
    {
     "data": {
      "text/plain": [
       "0                                                    NaN\n",
       "1                                          Mariner Books\n",
       "2                                                    NaN\n",
       "3                                            Orbit Books\n",
       "4                                            Orbit Books\n",
       "                             ...                        \n",
       "445    ['Fantasy', 'Young Adult', 'Fiction', 'Fantasy...\n",
       "446    ['Fantasy', 'Fiction', 'Young Adult', 'Fantasy...\n",
       "447    ['Fantasy', 'Classics', 'Fiction', 'Adventure'...\n",
       "448    ['Fantasy', 'Fiction', 'Young Adult', 'Fantasy...\n",
       "449    ['Classics', 'Fiction', 'Romance', 'Historical...\n",
       "Name: Publishers, Length: 450, dtype: object"
      ]
     },
     "execution_count": 5,
     "metadata": {},
     "output_type": "execute_result"
    }
   ],
   "source": [
    "publishers = df[\"Publishers\"].copy()\n",
    "publishers"
   ]
  },
  {
   "cell_type": "code",
   "execution_count": 57,
   "metadata": {},
   "outputs": [
    {
     "data": {
      "text/plain": [
       "'https://www.goodreads.com/en/book/show/8855321'"
      ]
     },
     "execution_count": 57,
     "metadata": {},
     "output_type": "execute_result"
    }
   ],
   "source": [
    "link = df[\"Goodreads Url\"][20]\n",
    "link = link.replace(\"/book\", \"/en/book\")\n",
    "link"
   ]
  },
  {
   "cell_type": "code",
   "execution_count": 58,
   "metadata": {},
   "outputs": [],
   "source": [
    "driver.get(df[\"Goodreads Url\"][20])"
   ]
  },
  {
   "cell_type": "code",
   "execution_count": 11,
   "metadata": {},
   "outputs": [
    {
     "data": {
      "text/plain": [
       "'Bloomsbury USA Childrens'"
      ]
     },
     "execution_count": 11,
     "metadata": {},
     "output_type": "execute_result"
    }
   ],
   "source": [
    "code = requests.get(df[\"Goodreads Url\"][361])\n",
    "soup = bs4.BeautifulSoup(code.text, \"lxml\")\n",
    "publisher = soup.select(\"#details\")[0].select(\".row\")[1].text.split(\"by\")[1].split(\"\\n\")[0].strip()\n",
    "publisher"
   ]
  },
  {
   "cell_type": "code",
   "execution_count": 19,
   "metadata": {},
   "outputs": [
    {
     "name": "stderr",
     "output_type": "stream",
     "text": [
      "Getting Publisher:   0%|          | 0/88 [00:00<?, ?it/s]"
     ]
    },
    {
     "name": "stdout",
     "output_type": "stream",
     "text": [
      "Error at A Court of Mist and Fury (A Court of Thorns and Roses, #2)\n"
     ]
    },
    {
     "name": "stderr",
     "output_type": "stream",
     "text": [
      "Getting Publisher:   3%|▎         | 3/88 [00:17<07:18,  5.16s/it]"
     ]
    },
    {
     "name": "stdout",
     "output_type": "stream",
     "text": [
      "Error at The Chronicles of Narnia (Chronicles of Narnia, #1-7)\n"
     ]
    },
    {
     "name": "stderr",
     "output_type": "stream",
     "text": [
      "Getting Publisher:   8%|▊         | 7/88 [00:45<09:16,  6.87s/it]"
     ]
    },
    {
     "name": "stdout",
     "output_type": "stream",
     "text": [
      "Error at The Silmarillion\n"
     ]
    },
    {
     "name": "stderr",
     "output_type": "stream",
     "text": [
      "Getting Publisher:  12%|█▎        | 11/88 [01:11<08:25,  6.57s/it]"
     ]
    },
    {
     "name": "stdout",
     "output_type": "stream",
     "text": [
      "Error at The Lord of the Rings\n"
     ]
    },
    {
     "name": "stderr",
     "output_type": "stream",
     "text": [
      "Getting Publisher:  14%|█▎        | 12/88 [01:15<07:26,  5.88s/it]"
     ]
    },
    {
     "name": "stdout",
     "output_type": "stream",
     "text": [
      "Error at A Dance with Dragons (A Song of Ice and Fire, #5)\n"
     ]
    },
    {
     "name": "stderr",
     "output_type": "stream",
     "text": [
      "Getting Publisher:  15%|█▍        | 13/88 [01:20<07:02,  5.64s/it]"
     ]
    },
    {
     "name": "stdout",
     "output_type": "stream",
     "text": [
      "Error at The Golden Compass (His Dark Materials, #1)\n"
     ]
    },
    {
     "name": "stderr",
     "output_type": "stream",
     "text": [
      "Getting Publisher:  24%|██▍       | 21/88 [02:15<07:20,  6.57s/it]"
     ]
    },
    {
     "name": "stdout",
     "output_type": "stream",
     "text": [
      "Error at The Assassin and the Pirate Lord (Throne of Glass, #0.1)\n"
     ]
    },
    {
     "name": "stderr",
     "output_type": "stream",
     "text": [
      "Getting Publisher:  25%|██▌       | 22/88 [02:19<06:23,  5.81s/it]"
     ]
    },
    {
     "name": "stdout",
     "output_type": "stream",
     "text": [
      "Error at Crown of Midnight (Throne of Glass, #2)\n"
     ]
    },
    {
     "name": "stderr",
     "output_type": "stream",
     "text": [
      "Getting Publisher:  36%|███▋      | 32/88 [03:44<08:26,  9.05s/it]"
     ]
    },
    {
     "name": "stdout",
     "output_type": "stream",
     "text": [
      "Error at The Red Pyramid: The Graphic Novel (The Kane Chronicles: The Graphic Novels, #1)\n"
     ]
    },
    {
     "name": "stderr",
     "output_type": "stream",
     "text": [
      "Getting Publisher:  38%|███▊      | 33/88 [03:48<06:55,  7.56s/it]"
     ]
    },
    {
     "name": "stdout",
     "output_type": "stream",
     "text": [
      "Error at The Wise Man's Fear (The Kingkiller Chronicle, #2)\n"
     ]
    },
    {
     "name": "stderr",
     "output_type": "stream",
     "text": [
      "Getting Publisher:  41%|████      | 36/88 [04:12<06:58,  8.04s/it]"
     ]
    },
    {
     "name": "stdout",
     "output_type": "stream",
     "text": [
      "Error at The Sword of Summer (Magnus Chase and the Gods of Asgard, #1)\n"
     ]
    },
    {
     "name": "stderr",
     "output_type": "stream",
     "text": [
      "Getting Publisher:  45%|████▌     | 40/88 [04:38<05:34,  6.97s/it]"
     ]
    },
    {
     "name": "stdout",
     "output_type": "stream",
     "text": [
      "Error at Sense and Sensibility\n"
     ]
    },
    {
     "name": "stderr",
     "output_type": "stream",
     "text": [
      "Getting Publisher:  49%|████▉     | 43/88 [04:57<05:06,  6.81s/it]"
     ]
    },
    {
     "name": "stdout",
     "output_type": "stream",
     "text": [
      "Error at The Name of the Wind (The Kingkiller Chronicle, #1)\n"
     ]
    },
    {
     "name": "stderr",
     "output_type": "stream",
     "text": [
      "Getting Publisher:  51%|█████     | 45/88 [05:14<05:29,  7.66s/it]"
     ]
    },
    {
     "name": "stdout",
     "output_type": "stream",
     "text": [
      "Error at J.R.R. Tolkien 4-Book Boxed Set: The Hobbit and The Lord of the Rings\n"
     ]
    },
    {
     "name": "stderr",
     "output_type": "stream",
     "text": [
      "Getting Publisher:  61%|██████▏   | 54/88 [06:23<04:44,  8.38s/it]"
     ]
    },
    {
     "name": "stdout",
     "output_type": "stream",
     "text": [
      "Error at Gulliver's Travels: Travels into Several Remote Nations of the World.\n"
     ]
    },
    {
     "name": "stderr",
     "output_type": "stream",
     "text": [
      "Getting Publisher:  62%|██████▎   | 55/88 [06:28<04:06,  7.46s/it]"
     ]
    },
    {
     "name": "stdout",
     "output_type": "stream",
     "text": [
      "Error at Wuthering Heights by Emily Brontë\n"
     ]
    },
    {
     "name": "stderr",
     "output_type": "stream",
     "text": [
      "Getting Publisher:  68%|██████▊   | 60/88 [07:59<04:59, 10.71s/it]"
     ]
    },
    {
     "name": "stdout",
     "output_type": "stream",
     "text": [
      "Error at A Thousand Splendid Suns\n"
     ]
    },
    {
     "name": "stderr",
     "output_type": "stream",
     "text": [
      "Getting Publisher:  70%|███████   | 62/88 [08:13<03:49,  8.82s/it]"
     ]
    },
    {
     "name": "stdout",
     "output_type": "stream",
     "text": [
      "Error at Frankenstein: The 1818 Text\n"
     ]
    },
    {
     "name": "stderr",
     "output_type": "stream",
     "text": [
      "Getting Publisher:  76%|███████▌  | 67/88 [09:44<04:00, 11.43s/it]"
     ]
    },
    {
     "name": "stdout",
     "output_type": "stream",
     "text": [
      "Error at Little Women\n"
     ]
    },
    {
     "name": "stderr",
     "output_type": "stream",
     "text": [
      "Getting Publisher:  84%|████████▍ | 74/88 [10:43<02:05,  8.97s/it]"
     ]
    },
    {
     "name": "stdout",
     "output_type": "stream",
     "text": [
      "Error at Harry Potter and the Half-Blood Prince (Harry Potter, #6)\n"
     ]
    },
    {
     "name": "stderr",
     "output_type": "stream",
     "text": [
      "Getting Publisher:  89%|████████▊ | 78/88 [11:12<01:20,  8.02s/it]"
     ]
    },
    {
     "name": "stdout",
     "output_type": "stream",
     "text": [
      "Error at The Hunger Games (The Hunger Games, #1)\n"
     ]
    },
    {
     "name": "stderr",
     "output_type": "stream",
     "text": [
      "Getting Publisher:  91%|█████████ | 80/88 [11:25<00:56,  7.02s/it]"
     ]
    },
    {
     "name": "stdout",
     "output_type": "stream",
     "text": [
      "Error at Alice's Adventures in Wonderland (Alice's Adventures in Wonderland, #1)\n"
     ]
    },
    {
     "name": "stderr",
     "output_type": "stream",
     "text": [
      "Getting Publisher:  98%|█████████▊| 86/88 [12:09<00:14,  7.35s/it]"
     ]
    },
    {
     "name": "stdout",
     "output_type": "stream",
     "text": [
      "Error at Harry Potter and the Sorcerer's Stone (Harry Potter, #1)\n"
     ]
    },
    {
     "name": "stderr",
     "output_type": "stream",
     "text": [
      "Getting Publisher: 100%|██████████| 88/88 [12:22<00:00,  8.44s/it]\n"
     ]
    }
   ],
   "source": [
    "start = 362\n",
    "end = 450\n",
    "for i in tqdm.tqdm(range(start, end), \"Getting Publisher\"):\n",
    "    tick= time.time()\n",
    "    url = df[\"Goodreads Url\"][i]\n",
    "    if url is np.nan:\n",
    "        publishers[i] = None\n",
    "        continue\n",
    "    code = requests.get(url)\n",
    "    soup = bs4.BeautifulSoup(code.text, \"lxml\")\n",
    "    try:\n",
    "        publisher = soup.select(\"#details\")[0].select(\".row\")[1].text.split(\"by\")[1].split(\"\\n\")[0].strip()\n",
    "        publishers[i] = publisher\n",
    "    except IndexError:\n",
    "        print(\"Error at\", df[\"Book Name\"][i])\n",
    "        publishers[i] = None\n",
    "    tock = time.time()\n",
    "    time.sleep(1)\n",
    "    if tock - tick < 2:\n",
    "        print(\"Something Went Wrong. Start Again\")\n",
    "        break"
   ]
  },
  {
   "cell_type": "code",
   "execution_count": 176,
   "metadata": {},
   "outputs": [
    {
     "data": {
      "text/plain": [
       "360"
      ]
     },
     "execution_count": 176,
     "metadata": {},
     "output_type": "execute_result"
    }
   ],
   "source": [
    "i"
   ]
  },
  {
   "cell_type": "code",
   "execution_count": 21,
   "metadata": {},
   "outputs": [
    {
     "data": {
      "text/plain": [
       "'Pride and Prejudice'"
      ]
     },
     "execution_count": 21,
     "metadata": {},
     "output_type": "execute_result"
    }
   ],
   "source": [
    "df[\"Book Name\"][i]"
   ]
  },
  {
   "cell_type": "code",
   "execution_count": 22,
   "metadata": {},
   "outputs": [
    {
     "data": {
      "text/plain": [
       "'Modern Library'"
      ]
     },
     "execution_count": 22,
     "metadata": {},
     "output_type": "execute_result"
    }
   ],
   "source": [
    "publishers[i]"
   ]
  },
  {
   "cell_type": "code",
   "execution_count": 23,
   "metadata": {},
   "outputs": [],
   "source": [
    "df[\"Publishers\"] = publishers"
   ]
  },
  {
   "cell_type": "code",
   "execution_count": 24,
   "metadata": {},
   "outputs": [],
   "source": [
    "df.to_csv(\"Books_Final.csv\", index=False)"
   ]
  }
 ],
 "metadata": {
  "kernelspec": {
   "display_name": "Python 3.8.5",
   "language": "python",
   "name": "python3"
  },
  "language_info": {
   "codemirror_mode": {
    "name": "ipython",
    "version": 3
   },
   "file_extension": ".py",
   "mimetype": "text/x-python",
   "name": "python",
   "nbconvert_exporter": "python",
   "pygments_lexer": "ipython3",
   "version": "3.8.5"
  },
  "orig_nbformat": 4,
  "vscode": {
   "interpreter": {
    "hash": "21040c1b576dca9f4f330277849b9f4819256d524dee23c2b89e431027dafe11"
   }
  }
 },
 "nbformat": 4,
 "nbformat_minor": 2
}
