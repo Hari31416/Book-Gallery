{
 "cells": [
  {
   "cell_type": "code",
   "execution_count": 22,
   "metadata": {},
   "outputs": [],
   "source": [
    "import pandas as pd\n",
    "import requests\n",
    "import ast\n",
    "import tqdm"
   ]
  },
  {
   "cell_type": "code",
   "execution_count": 23,
   "metadata": {},
   "outputs": [],
   "source": [
    "df = pd.read_csv(\"FINAL_DF_WITH_EVERYTHING.csv\")"
   ]
  },
  {
   "cell_type": "code",
   "execution_count": 24,
   "metadata": {},
   "outputs": [
    {
     "data": {
      "text/plain": [
       "Index(['Author', 'ISBN 13', 'ISBN', 'Number of Pages', 'Average Rating',\n",
       "       'Publication Date', 'Name', 'Series', 'Volume', 'Goodreads Url',\n",
       "       'Description', 'Genre', 'Image Url', 'Low Links', 'High Links',\n",
       "       'Publishers', 'Low_Res_Image_Url', 'High_Res_Image_Url'],\n",
       "      dtype='object')"
      ]
     },
     "execution_count": 24,
     "metadata": {},
     "output_type": "execute_result"
    }
   ],
   "source": [
    "df.columns"
   ]
  },
  {
   "cell_type": "code",
   "execution_count": 5,
   "metadata": {},
   "outputs": [
    {
     "data": {
      "text/plain": [
       "\"['https://i.gr-assets.com/images/S/compressed.photo.goodreads.com/books/1522779721l/28335698.jpg', 'https://m.media-amazon.com/images/I/81Y4vRMNeoL._AC_UY327_FMwebp_QL65_.jpg', 'https://m.media-amazon.com/images/I/71qTM9NpoFL._AC_UY218_.jpg', 'https://m.media-amazon.com/images/I/71qTM9NpoFL._AC_UY654_FMwebp_QL65_.jpg']\""
      ]
     },
     "execution_count": 5,
     "metadata": {},
     "output_type": "execute_result"
    }
   ],
   "source": [
    "df[\"Low_Res_Image_Url\"][3]"
   ]
  },
  {
   "cell_type": "code",
   "execution_count": 6,
   "metadata": {},
   "outputs": [
    {
     "data": {
      "text/plain": [
       "['https://images-na.ssl-images-amazon.com/images/I/81Y4vRMNeoL.jpg',\n",
       " 'https://images-na.ssl-images-amazon.com/images/I/9193i13ss-L.jpg',\n",
       " 'https://images-na.ssl-images-amazon.com/images/I/71qTM9NpoFL.jpg',\n",
       " 'https://images-na.ssl-images-amazon.com/images/I/71yOn1kzYkL.jpg',\n",
       " 'https://m.media-amazon.com/images/I/81Y4vRMNeoL._AC_UY545_FMwebp_QL65_.jpg',\n",
       " 'https://m.media-amazon.com/images/I/71qTM9NpoFL._AC_UY436_FMwebp_QL65_.jpg',\n",
       " 'https://m.media-amazon.com/images/I/81I08IK1GbL._AC_UY327_FMwebp_QL65_.jpg']"
      ]
     },
     "execution_count": 6,
     "metadata": {},
     "output_type": "execute_result"
    }
   ],
   "source": [
    "image_urls = ast.literal_eval(df[\"High_Res_Image_Url\"][3])\n",
    "image_urls"
   ]
  },
  {
   "cell_type": "code",
   "execution_count": 7,
   "metadata": {},
   "outputs": [],
   "source": [
    "def download_image(url, path=\"low\"):\n",
    "    response = requests.get(url)\n",
    "    image_name = url.split(\"/\")[-1]\n",
    "    image_path = f\"images/{path}/\" + image_name\n",
    "    with open(image_path, \"wb\") as f:\n",
    "        f.write(response.content)\n",
    "    return image_name"
   ]
  },
  {
   "cell_type": "code",
   "execution_count": 8,
   "metadata": {},
   "outputs": [
    {
     "data": {
      "text/plain": [
       "'81Y4vRMNeoL.jpg'"
      ]
     },
     "execution_count": 8,
     "metadata": {},
     "output_type": "execute_result"
    }
   ],
   "source": [
    "download_image(image_urls[0])"
   ]
  },
  {
   "cell_type": "markdown",
   "metadata": {},
   "source": [
    "## Low Res Images"
   ]
  },
  {
   "cell_type": "code",
   "execution_count": 9,
   "metadata": {},
   "outputs": [
    {
     "data": {
      "text/plain": [
       "['https://i.gr-assets.com/images/S/compressed.photo.goodreads.com/books/1599506512l/55262194.jpg']"
      ]
     },
     "execution_count": 9,
     "metadata": {},
     "output_type": "execute_result"
    }
   ],
   "source": [
    "low_res_image_urls = df[\"Low_Res_Image_Url\"].values\n",
    "low_res_image_urls = [ast.literal_eval(x) for x in low_res_image_urls]\n",
    "low_res_image_urls[0]"
   ]
  },
  {
   "cell_type": "code",
   "execution_count": 10,
   "metadata": {},
   "outputs": [
    {
     "data": {
      "text/plain": [
       "['https://i.gr-assets.com/images/S/compressed.photo.goodreads.com/books/1599506512l/55262194.jpg',\n",
       " 'https://i.gr-assets.com/images/S/compressed.photo.goodreads.com/books/1451351509l/21413662._SX318_.jpg',\n",
       " 'https://m.media-amazon.com/images/I/81bxeFvkGoL._AC_UY327_FMwebp_QL65_.jpg',\n",
       " 'https://m.media-amazon.com/images/I/61u-3eSwrtL._AC_UY218_.jpg',\n",
       " 'https://i.gr-assets.com/images/S/compressed.photo.goodreads.com/books/1522779721l/28335698.jpg']"
      ]
     },
     "execution_count": 10,
     "metadata": {},
     "output_type": "execute_result"
    }
   ],
   "source": [
    "all_urls = []\n",
    "for i in range(len(low_res_image_urls)):\n",
    "    all_urls.extend(low_res_image_urls[i])\n",
    "all_urls[:5]"
   ]
  },
  {
   "cell_type": "code",
   "execution_count": 11,
   "metadata": {},
   "outputs": [
    {
     "data": {
      "text/plain": [
       "['1599506512l_55262194.jpg',\n",
       " '1451351509l_21413662._SX318_.jpg',\n",
       " 'I_81bxeFvkGoL._AC_UY327_FMwebp_QL65_.jpg',\n",
       " 'I_61u-3eSwrtL._AC_UY218_.jpg',\n",
       " '1522779721l_28335698.jpg']"
      ]
     },
     "execution_count": 11,
     "metadata": {},
     "output_type": "execute_result"
    }
   ],
   "source": [
    "all_names = [\"_\".join(url.split(\"/\")[-2:]) for url in all_urls]\n",
    "all_names[:5]"
   ]
  },
  {
   "cell_type": "code",
   "execution_count": 12,
   "metadata": {},
   "outputs": [
    {
     "data": {
      "text/plain": [
       "['0', '0', '0', '0', '0']"
      ]
     },
     "execution_count": 12,
     "metadata": {},
     "output_type": "execute_result"
    }
   ],
   "source": [
    "none_urls = [url for url in all_urls if len(url)<4]\n",
    "none_urls"
   ]
  },
  {
   "cell_type": "code",
   "execution_count": 13,
   "metadata": {},
   "outputs": [
    {
     "data": {
      "text/plain": [
       "(1285, 1231)"
      ]
     },
     "execution_count": 13,
     "metadata": {},
     "output_type": "execute_result"
    }
   ],
   "source": [
    "len(all_urls), len(set(all_urls))"
   ]
  },
  {
   "cell_type": "code",
   "execution_count": 14,
   "metadata": {},
   "outputs": [
    {
     "data": {
      "text/plain": [
       "(1285, 1231)"
      ]
     },
     "execution_count": 14,
     "metadata": {},
     "output_type": "execute_result"
    }
   ],
   "source": [
    "len(all_names),  len(set(all_names))"
   ]
  },
  {
   "cell_type": "markdown",
   "metadata": {},
   "source": [
    "Let's start downloading the low resolution images."
   ]
  },
  {
   "cell_type": "code",
   "execution_count": 15,
   "metadata": {},
   "outputs": [
    {
     "name": "stderr",
     "output_type": "stream",
     "text": [
      " 32%|███▏      | 410/1285 [01:45<07:21,  1.98it/s]"
     ]
    },
    {
     "name": "stdout",
     "output_type": "stream",
     "text": [
      "Error on  0\n"
     ]
    },
    {
     "name": "stderr",
     "output_type": "stream",
     "text": [
      " 36%|███▌      | 464/1285 [02:03<04:00,  3.42it/s]"
     ]
    },
    {
     "name": "stdout",
     "output_type": "stream",
     "text": [
      "Error on  0\n",
      "Error on  0\n"
     ]
    },
    {
     "name": "stderr",
     "output_type": "stream",
     "text": [
      " 48%|████▊     | 618/1285 [02:55<04:49,  2.31it/s]"
     ]
    },
    {
     "name": "stdout",
     "output_type": "stream",
     "text": [
      "Error on  0\n"
     ]
    },
    {
     "name": "stderr",
     "output_type": "stream",
     "text": [
      " 65%|██████▍   | 834/1285 [03:54<01:26,  5.23it/s]"
     ]
    },
    {
     "name": "stdout",
     "output_type": "stream",
     "text": [
      "Error on  0\n"
     ]
    },
    {
     "name": "stderr",
     "output_type": "stream",
     "text": [
      "100%|██████████| 1285/1285 [06:39<00:00,  3.22it/s]\n"
     ]
    }
   ],
   "source": [
    "for url in tqdm.tqdm(all_urls):\n",
    "    try:\n",
    "        download_image(url)\n",
    "    except:\n",
    "        print(\"Error on \", url)"
   ]
  },
  {
   "cell_type": "markdown",
   "metadata": {},
   "source": [
    "## High Res Images"
   ]
  },
  {
   "cell_type": "code",
   "execution_count": 16,
   "metadata": {},
   "outputs": [
    {
     "data": {
      "text/plain": [
       "['https://m.media-amazon.com/images/I/81bxeFvkGoL._AC_UY545_FMwebp_QL65_.jpg',\n",
       " 'https://m.media-amazon.com/images/I/61u-3eSwrtL._AC_UY436_FMwebp_QL65_.jpg']"
      ]
     },
     "execution_count": 16,
     "metadata": {},
     "output_type": "execute_result"
    }
   ],
   "source": [
    "high_res_image_urls = df[\"High_Res_Image_Url\"].values\n",
    "high_res_image_urls = [ast.literal_eval(x) for x in high_res_image_urls]\n",
    "high_res_image_urls[2]"
   ]
  },
  {
   "cell_type": "code",
   "execution_count": 21,
   "metadata": {},
   "outputs": [
    {
     "data": {
      "text/plain": [
       "['https://m.media-amazon.com/images/I/81bxeFvkGoL._AC_UY545_FMwebp_QL65_.jpg',\n",
       " 'https://m.media-amazon.com/images/I/61u-3eSwrtL._AC_UY436_FMwebp_QL65_.jpg',\n",
       " 'https://images-na.ssl-images-amazon.com/images/I/81Y4vRMNeoL.jpg',\n",
       " 'https://images-na.ssl-images-amazon.com/images/I/9193i13ss-L.jpg',\n",
       " 'https://images-na.ssl-images-amazon.com/images/I/71qTM9NpoFL.jpg']"
      ]
     },
     "execution_count": 21,
     "metadata": {},
     "output_type": "execute_result"
    }
   ],
   "source": [
    "all_urls = []\n",
    "for i in range(len(high_res_image_urls)):\n",
    "    all_urls.extend(high_res_image_urls[i])\n",
    "all_urls[:5]"
   ]
  },
  {
   "cell_type": "code",
   "execution_count": 18,
   "metadata": {},
   "outputs": [
    {
     "data": {
      "text/plain": [
       "(2381, 1998)"
      ]
     },
     "execution_count": 18,
     "metadata": {},
     "output_type": "execute_result"
    }
   ],
   "source": [
    "len(all_urls), len(set(all_urls))"
   ]
  },
  {
   "cell_type": "code",
   "execution_count": 19,
   "metadata": {},
   "outputs": [
    {
     "name": "stderr",
     "output_type": "stream",
     "text": [
      "  1%|▏         | 32/2381 [00:40<4:23:41,  6.74s/it]"
     ]
    },
    {
     "name": "stdout",
     "output_type": "stream",
     "text": [
      "Error on  https://images-na.ssl-images-amazon.com/images/I/71XLEDYZfDL.jpg\n"
     ]
    },
    {
     "name": "stderr",
     "output_type": "stream",
     "text": [
      " 43%|████▎     | 1019/2381 [10:31<2:30:11,  6.62s/it]"
     ]
    },
    {
     "name": "stdout",
     "output_type": "stream",
     "text": [
      "Error on  https://images-na.ssl-images-amazon.com/images/I/81PEvvjlw6S.jpg\n"
     ]
    },
    {
     "name": "stderr",
     "output_type": "stream",
     "text": [
      "100%|██████████| 2381/2381 [21:53<00:00,  1.81it/s]  \n"
     ]
    }
   ],
   "source": [
    "for url in tqdm.tqdm(all_urls):\n",
    "    try:\n",
    "        download_image(url, path=\"high\")\n",
    "    except:\n",
    "        print(\"Error on \", url)"
   ]
  },
  {
   "cell_type": "code",
   "execution_count": null,
   "metadata": {},
   "outputs": [],
   "source": []
  },
  {
   "cell_type": "code",
   "execution_count": 20,
   "metadata": {},
   "outputs": [
    {
     "name": "stdout",
     "output_type": "stream",
     "text": [
      "SM56a7cfaf265a47f4a8c83a9021409b71\n"
     ]
    }
   ],
   "source": [
    "from life_saving_tools.misc.Notification import Notification\n",
    "n = Notification()\n",
    "n.send_whatsapp_text(\"Downloaded images\")"
   ]
  },
  {
   "cell_type": "markdown",
   "metadata": {},
   "source": [
    "## Creating New Urls"
   ]
  },
  {
   "cell_type": "code",
   "execution_count": 43,
   "metadata": {},
   "outputs": [],
   "source": [
    "base_url = \"https://bucketforbookgallery.s3.ap-south-1.amazonaws.com/images/low/\"\n",
    "new_low_urls = []\n",
    "for i in range(len(low_res_image_urls)):\n",
    "    new_urls = []\n",
    "    urls = low_res_image_urls[i]\n",
    "    for url in urls:\n",
    "        name = url.split(\"/\")[-1]\n",
    "        new_url = base_url + name\n",
    "        new_urls.append(new_url)\n",
    "    new_low_urls.append(new_urls)"
   ]
  },
  {
   "cell_type": "code",
   "execution_count": 45,
   "metadata": {},
   "outputs": [
    {
     "data": {
      "text/plain": [
       "(['https://bucketforbookgallery.s3.ap-south-1.amazonaws.com/images/low/8855321.jpg',\n",
       "  'https://bucketforbookgallery.s3.ap-south-1.amazonaws.com/images/low/71XBl40bfiL._AC_UY327_FMwebp_QL65_.jpg',\n",
       "  'https://bucketforbookgallery.s3.ap-south-1.amazonaws.com/images/low/910TAjw6e7L._AC_UY218_.jpg'],\n",
       " ['https://i.gr-assets.com/images/S/compressed.photo.goodreads.com/books/1411013134l/8855321.jpg',\n",
       "  'https://m.media-amazon.com/images/I/71XBl40bfiL._AC_UY327_FMwebp_QL65_.jpg',\n",
       "  'https://m.media-amazon.com/images/I/910TAjw6e7L._AC_UY218_.jpg'])"
      ]
     },
     "execution_count": 45,
     "metadata": {},
     "output_type": "execute_result"
    }
   ],
   "source": [
    "new_low_urls[20], low_res_image_urls[20]"
   ]
  },
  {
   "cell_type": "code",
   "execution_count": 46,
   "metadata": {},
   "outputs": [],
   "source": [
    "base_url = \"https://bucketforbookgallery.s3.ap-south-1.amazonaws.com/images/high/\"\n",
    "new_high_urls = []\n",
    "for i in range(len(high_res_image_urls)):\n",
    "    new_urls = []\n",
    "    urls = high_res_image_urls[i]\n",
    "    for url in urls:\n",
    "        name = url.split(\"/\")[-1]\n",
    "        new_url = base_url + name\n",
    "        new_urls.append(new_url)\n",
    "    new_high_urls.append(new_urls)"
   ]
  },
  {
   "cell_type": "code",
   "execution_count": 47,
   "metadata": {},
   "outputs": [
    {
     "data": {
      "text/plain": [
       "(['https://bucketforbookgallery.s3.ap-south-1.amazonaws.com/images/high/71XBl40bfiL.jpg',\n",
       "  'https://bucketforbookgallery.s3.ap-south-1.amazonaws.com/images/high/71XBl40bfiL._AC_UY545_FMwebp_QL65_.jpg',\n",
       "  'https://bucketforbookgallery.s3.ap-south-1.amazonaws.com/images/high/910TAjw6e7L._AC_UY436_FMwebp_QL65_.jpg'],\n",
       " ['https://images-na.ssl-images-amazon.com/images/I/71XBl40bfiL.jpg',\n",
       "  'https://m.media-amazon.com/images/I/71XBl40bfiL._AC_UY545_FMwebp_QL65_.jpg',\n",
       "  'https://m.media-amazon.com/images/I/910TAjw6e7L._AC_UY436_FMwebp_QL65_.jpg'])"
      ]
     },
     "execution_count": 47,
     "metadata": {},
     "output_type": "execute_result"
    }
   ],
   "source": [
    "new_high_urls[20], high_res_image_urls[20]"
   ]
  },
  {
   "cell_type": "code",
   "execution_count": 48,
   "metadata": {},
   "outputs": [
    {
     "data": {
      "text/plain": [
       "Index(['Author', 'ISBN 13', 'ISBN', 'Number of Pages', 'Average Rating',\n",
       "       'Publication Date', 'Name', 'Series', 'Volume', 'Goodreads Url',\n",
       "       'Description', 'Genre', 'Image Url', 'Low Links', 'High Links',\n",
       "       'Publishers', 'Low_Res_Image_Url', 'High_Res_Image_Url'],\n",
       "      dtype='object')"
      ]
     },
     "execution_count": 48,
     "metadata": {},
     "output_type": "execute_result"
    }
   ],
   "source": [
    "df.columns"
   ]
  },
  {
   "cell_type": "code",
   "execution_count": 49,
   "metadata": {},
   "outputs": [],
   "source": [
    "df[\"New_Low_Res_Image_Url\"] = new_low_urls\n",
    "df[\"New_High_Res_Image_Url\"] = new_high_urls"
   ]
  },
  {
   "cell_type": "code",
   "execution_count": 50,
   "metadata": {},
   "outputs": [],
   "source": [
    "df.to_csv(\"FINAL_DF_WITH_EVERYTHING.csv\", index=False)"
   ]
  },
  {
   "cell_type": "code",
   "execution_count": null,
   "metadata": {},
   "outputs": [],
   "source": []
  }
 ],
 "metadata": {
  "kernelspec": {
   "display_name": "Python 3.8.5",
   "language": "python",
   "name": "python3"
  },
  "language_info": {
   "codemirror_mode": {
    "name": "ipython",
    "version": 3
   },
   "file_extension": ".py",
   "mimetype": "text/x-python",
   "name": "python",
   "nbconvert_exporter": "python",
   "pygments_lexer": "ipython3",
   "version": "3.8.5"
  },
  "orig_nbformat": 4,
  "vscode": {
   "interpreter": {
    "hash": "21040c1b576dca9f4f330277849b9f4819256d524dee23c2b89e431027dafe11"
   }
  }
 },
 "nbformat": 4,
 "nbformat_minor": 2
}
